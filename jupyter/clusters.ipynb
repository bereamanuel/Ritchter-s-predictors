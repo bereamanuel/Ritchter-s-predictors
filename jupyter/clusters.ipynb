{
 "cells": [
  {
   "cell_type": "code",
   "execution_count": 1,
   "metadata": {},
   "outputs": [],
   "source": [
    "#        DATA\n",
    "# ==================== #\n",
    "import pandas as pd\n",
    "import numpy as np\n",
    "from scipy import stats\n",
    "import time\n",
    "import random\n",
    "import math\n",
    "\n",
    "#      PLOTING\n",
    "# ============================== #\n",
    "\n",
    "from PIL import Image\n",
    "import matplotlib.pyplot as plt \n",
    "import seaborn as sns\n",
    "sns.set_theme(style=\"white\")\n",
    "\n",
    "#      CLUSTERING\n",
    "# ============================== #\n",
    "from sklearn.cluster import KMeans\n",
    "from scipy.sparse import hstack\n",
    "\n",
    "#      PRE PROCESSING\n",
    "# ============================== #\n",
    "from sklearn.preprocessing import PowerTransformer\n",
    "from sklearn.preprocessing import RobustScaler\n",
    "from sklearn.impute import SimpleImputer\n",
    "\n",
    "#      METRICS\n",
    "# ============================== #\n",
    "from sklearn.metrics import f1_score   # average='micro'\n",
    "from sklearn.model_selection import cross_val_score , StratifiedShuffleSplit , RepeatedStratifiedKFold\n",
    "\n",
    "#      MODEL SELECTION\n",
    "# ============================== #\n",
    "from sklearn.model_selection import train_test_split\n",
    "from sklearn.model_selection import RepeatedKFold\n",
    "from sklearn.model_selection import StratifiedGroupKFold, StratifiedKFold\n",
    "from sklearn.model_selection import GridSearchCV\n",
    "from sklearn.model_selection import ParameterGrid\n",
    "\n",
    "#      CLASIFICATORS\n",
    "# ============================== #\n",
    "from sklearn.linear_model import LogisticRegression\n",
    "from sklearn.linear_model import LogisticRegressionCV\n",
    "\n",
    "from sklearn.discriminant_analysis import LinearDiscriminantAnalysis\n",
    "from sklearn.naive_bayes import GaussianNB\n",
    "\n",
    "from sklearn.neighbors import KNeighborsClassifier\n",
    "from sklearn.tree import DecisionTreeClassifier\n",
    "from sklearn.ensemble import ExtraTreesClassifier, RandomForestClassifier\n",
    "from lightgbm import LGBMClassifier\n",
    "\n",
    "from sklearn.svm import SVC\n",
    "\n",
    "\n",
    "#      OTHERS\n",
    "# ============================== #\n",
    "from sklearn.inspection import permutation_importance\n",
    "import multiprocessing\n",
    "\n",
    "import python.functions\n",
    "from python.KMeansFeaturer import KMeansFeaturizer\n",
    "\n",
    "\n",
    "\n",
    "#      WARNINGS\n",
    "# ============================== #\n",
    "import warnings\n",
    "warnings.filterwarnings(\"ignore\")\n",
    "import dill"
   ]
  },
  {
   "cell_type": "code",
   "execution_count": 2,
   "metadata": {},
   "outputs": [],
   "source": [
    "df = pd.read_csv(\"../data/trainProb.csv\")\n",
    "test = pd.read_csv(\"../data/testProb.csv\")"
   ]
  },
  {
   "cell_type": "code",
   "execution_count": 3,
   "metadata": {},
   "outputs": [],
   "source": [
    "target = 'damage_grade' \n",
    "numeric = ['age_pt','area_percentage_pt', 'height_percentage_pt','prob1_geo1','prob1_geo2','prob1_geo3','prob2_geo1','prob2_geo2','prob2_geo3','prob3_geo1','prob3_geo2','prob3_geo3', 'CntFloorAge' , 'CntFloorsArea' , 'CntFloorsHeight' , 'AreaPerAge' , 'HeightPerAge' , 'AreaPerHeight' , 'CntFamFloors' ,  'CntFamArea' ,  'CntFamHeight']\n",
    "dummies = ['count_families_0','count_families_1','count_families_2',\n",
    "                'count_floors_pre_eq_1','count_floors_pre_eq_2',\n",
    "                'foundation_type_1', 'ground_floor_type_1',\n",
    "                'land_surface_condition_t','land_surface_condition_n',\n",
    "                'other_floor_type_j','other_floor_type_q', 'other_floor_type_x', \n",
    "                'position_s','position_t',\n",
    "                'roof_type_n','roof_type_q']\n",
    "binary = ['has_secondary_use',\n",
    "        'has_secondary_use_agriculture',\n",
    "        'has_superstructure_adobe_mud',\n",
    "        'has_superstructure_cement_mortar_brick',\n",
    "        'has_superstructure_mud_mortar_brick',\n",
    "        'has_superstructure_mud_mortar_stone',\n",
    "        'has_superstructure_timber']"
   ]
  },
  {
   "cell_type": "code",
   "execution_count": 41,
   "metadata": {},
   "outputs": [],
   "source": [
    "k = 7\n",
    "target_scale = 0.3\n",
    "seed = 1995\n",
    "\n",
    "\n",
    "X = df[numeric]\n",
    "y = df[target]"
   ]
  },
  {
   "cell_type": "code",
   "execution_count": 42,
   "metadata": {},
   "outputs": [],
   "source": [
    "km = KMeansFeaturizer(k,target_scale,seed).fit(X,y)"
   ]
  },
  {
   "cell_type": "code",
   "execution_count": 53,
   "metadata": {},
   "outputs": [
    {
     "data": {
      "text/plain": [
       "array([[1],\n",
       "       [1],\n",
       "       [1],\n",
       "       ...,\n",
       "       [1],\n",
       "       [1],\n",
       "       [1]])"
      ]
     },
     "execution_count": 53,
     "metadata": {},
     "output_type": "execute_result"
    }
   ],
   "source": [
    "cs = km.transform(test[numeric])\n",
    "\n",
    "cs"
   ]
  },
  {
   "cell_type": "code",
   "execution_count": 56,
   "metadata": {},
   "outputs": [
    {
     "data": {
      "text/plain": [
       "{0, 1, 2, 3, 4, 5, 6}"
      ]
     },
     "execution_count": 56,
     "metadata": {},
     "output_type": "execute_result"
    }
   ],
   "source": [
    "set([cs[i][0] for i in range(len(cs))])"
   ]
  },
  {
   "cell_type": "code",
   "execution_count": 39,
   "metadata": {},
   "outputs": [],
   "source": [
    "data_with_target = np.hstack((X, y[:,np.newaxis]*target_scale))\n",
    "        \n",
    "# Build a pre-training k-means model on data and target\n",
    "km_model_pretrain = KMeans(n_clusters=k,\n",
    "                            n_init=20,\n",
    "                            random_state=random_state)\n",
    "\n",
    "km_model_pretrain.fit(data_with_target)\n",
    "\n",
    "# Run k-means a second time to get the clusters in the original space\n",
    "# without target info. Initialize using centroids found in pre-training.\n",
    "# Go through a single iteration of cluster assignment and centroid\n",
    "# recomputation.\n",
    "\n",
    "n = X.shape[1]\n",
    "\n",
    "km_model = KMeans(n_clusters=k,\n",
    "                    init=km_model_pretrain.cluster_centers_[:,:n],\n",
    "                    n_init=20,\n",
    "                    max_iter=100)\n",
    "km_model.fit(X)\n",
    "\n",
    "km_model = km_model\n",
    "cluster_centers_ = km_model.cluster_centers_"
   ]
  },
  {
   "cell_type": "code",
   "execution_count": 32,
   "metadata": {},
   "outputs": [],
   "source": [
    "imp = SimpleImputer()\n",
    "\n",
    "test[numeric] = imp.fit_transform(test[numeric])"
   ]
  },
  {
   "cell_type": "code",
   "execution_count": 40,
   "metadata": {},
   "outputs": [
    {
     "data": {
      "text/plain": [
       "array([0, 0, 0, ..., 0, 0, 0])"
      ]
     },
     "execution_count": 40,
     "metadata": {},
     "output_type": "execute_result"
    }
   ],
   "source": [
    "km_model.predict(test[numeric])"
   ]
  }
 ],
 "metadata": {
  "interpreter": {
   "hash": "de072921dc87486613898b1ef56959cc98c50a630fb49de1898fb32d92a683cf"
  },
  "kernelspec": {
   "display_name": "Python 3.9.4 64-bit",
   "language": "python",
   "name": "python3"
  },
  "language_info": {
   "codemirror_mode": {
    "name": "ipython",
    "version": 3
   },
   "file_extension": ".py",
   "mimetype": "text/x-python",
   "name": "python",
   "nbconvert_exporter": "python",
   "pygments_lexer": "ipython3",
   "version": "3.9.4"
  },
  "orig_nbformat": 4
 },
 "nbformat": 4,
 "nbformat_minor": 2
}

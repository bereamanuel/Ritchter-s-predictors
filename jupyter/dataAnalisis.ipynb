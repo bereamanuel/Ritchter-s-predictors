{
 "cells": [
  {
   "cell_type": "markdown",
   "metadata": {},
   "source": [
    "# Nepal earthquake"
   ]
  },
  {
   "cell_type": "markdown",
   "metadata": {},
   "source": [
    "Author: Manuel Berea Arellano"
   ]
  },
  {
   "cell_type": "markdown",
   "metadata": {},
   "source": [
    "## Chapter 0: Introduction"
   ]
  },
  {
   "cell_type": "markdown",
   "metadata": {},
   "source": [
    "[Drivendata] competition: \n",
    "\n",
    "Richter's Predictor: Modeling Earthquake Damage  https://www.drivendata.org/competitions/57/nepal-earthquake/page/134/"
   ]
  },
  {
   "cell_type": "markdown",
   "metadata": {},
   "source": [
    "### Libraries"
   ]
  },
  {
   "cell_type": "code",
   "execution_count": 90,
   "metadata": {},
   "outputs": [],
   "source": [
    "#        DATA\n",
    "# ==================== #\n",
    "import pandas as pd\n",
    "import numpy as np\n",
    "from scipy import stats\n",
    "import time\n",
    "import random\n",
    "import math\n",
    "\n",
    "#      PLOTING\n",
    "# ============================== #\n",
    "\n",
    "from PIL import Image\n",
    "import matplotlib.pyplot as plt \n",
    "import seaborn as sns\n",
    "sns.set_theme(style=\"white\")\n",
    "\n",
    "#      CLUSTERING\n",
    "# ============================== #\n",
    "from sklearn.cluster import KMeans\n",
    "from scipy.sparse import hstack\n",
    "\n",
    "#      PRE PROCESSING\n",
    "# ============================== #\n",
    "from sklearn.preprocessing import PowerTransformer\n",
    "from sklearn.preprocessing import RobustScaler\n",
    "from sklearn.preprocessing import MinMaxScaler\n",
    "from sklearn.preprocessing import StandardScaler\n",
    "from sklearn.impute import SimpleImputer\n",
    "from sklearn.preprocessing import OneHotEncoder\n",
    "\n",
    "#      METRICS\n",
    "# ============================== #\n",
    "from sklearn.metrics import f1_score   # average='micro'\n",
    "from sklearn.model_selection import cross_val_score , StratifiedShuffleSplit , RepeatedStratifiedKFold\n",
    "\n",
    "#      MODEL SELECTION\n",
    "# ============================== #\n",
    "from sklearn.model_selection import train_test_split\n",
    "from sklearn.model_selection import RepeatedKFold\n",
    "from sklearn.model_selection import StratifiedGroupKFold, StratifiedKFold\n",
    "from sklearn.model_selection import GridSearchCV\n",
    "from sklearn.model_selection import ParameterGrid\n",
    "\n",
    "#      CLASIFICATORS\n",
    "# ============================== #\n",
    "from sklearn.linear_model import LogisticRegression\n",
    "from sklearn.linear_model import LogisticRegressionCV\n",
    "\n",
    "from sklearn.discriminant_analysis import LinearDiscriminantAnalysis\n",
    "from sklearn.naive_bayes import GaussianNB\n",
    "\n",
    "from sklearn.neighbors import KNeighborsClassifier\n",
    "from sklearn.tree import DecisionTreeClassifier\n",
    "from sklearn.ensemble import ExtraTreesClassifier, RandomForestClassifier\n",
    "from lightgbm import LGBMClassifier\n",
    "\n",
    "from sklearn.svm import SVC\n",
    "\n",
    "\n",
    "#      OTHERS\n",
    "# ============================== #\n",
    "from sklearn.inspection import permutation_importance\n",
    "import multiprocessing\n",
    "\n",
    "import python.functions\n",
    "from python.KMeansFeaturer import KMeansFeaturizer\n",
    "\n",
    "\n",
    "\n",
    "#      WARNINGS\n",
    "# ============================== #\n",
    "import warnings\n",
    "warnings.filterwarnings(\"ignore\")\n",
    "import dill"
   ]
  },
  {
   "cell_type": "code",
   "execution_count": null,
   "metadata": {},
   "outputs": [],
   "source": [
    "dill.dump_session('notebook_env.db')\n",
    "#dill.load_session('notebook_env.db')"
   ]
  },
  {
   "cell_type": "markdown",
   "metadata": {},
   "source": [
    "### Functions"
   ]
  },
  {
   "cell_type": "code",
   "execution_count": 2,
   "metadata": {},
   "outputs": [],
   "source": [
    "def flatten(t): \n",
    "    \"\"\"\n",
    "    Utilizamos la funcion para apilar listas\n",
    "    \"\"\"\n",
    "    return [item for sublist in t for item in sublist]"
   ]
  },
  {
   "cell_type": "code",
   "execution_count": 3,
   "metadata": {},
   "outputs": [],
   "source": [
    "def boxplots_algorithms(results, names):\n",
    "    \"\"\" \n",
    "    For plot the results\n",
    "    \n",
    "    Para plotear los resultados \n",
    "    Input\n",
    "    --------\n",
    "    results (Pandas DF): Results of training models\n",
    "    names: Names of the models\n",
    "\n",
    "    Output\n",
    "    --------\n",
    "    Image in the notebook\n",
    "    \"\"\"\n",
    "    \n",
    "    plt.figure(figsize=(8,8))\n",
    "    plt.boxplot(results)\n",
    "    plt.xticks(range(1,len(names)+1), names)\n",
    "    plt.show()"
   ]
  },
  {
   "cell_type": "code",
   "execution_count": 4,
   "metadata": {},
   "outputs": [],
   "source": [
    "def img_reshape(img):\n",
    "    \"\"\"\n",
    "    For show a image.\n",
    "    Para mostrar una imagen.\n",
    "\n",
    "    Input\n",
    "    --------\n",
    "    img (String): path image\n",
    "\n",
    "    Output\n",
    "    --------\n",
    "    Image in the notebook\n",
    "\n",
    "    \"\"\"\n",
    "    img = Image.open('./images/'+img).convert('RGB')\n",
    "    img = img.resize((300,500))\n",
    "    img = np.asarray(img)\n",
    "    return img\n",
    "\n",
    "def img_reshape_more(img):\n",
    "    \"\"\"\n",
    "    For show a image.\n",
    "    Para mostrar una imagen.\n",
    "\n",
    "    Input\n",
    "    --------\n",
    "    img (String): path image\n",
    "\n",
    "    Output\n",
    "    --------\n",
    "    Image in the notebook\n",
    "\n",
    "    \"\"\"\n",
    "    img = Image.open('./images/'+img).convert('RGB')\n",
    "    img = img.resize((1000,500))\n",
    "    img = np.asarray(img)\n",
    "    return img\n"
   ]
  },
  {
   "cell_type": "code",
   "execution_count": 5,
   "metadata": {},
   "outputs": [],
   "source": [
    "def probabilities(df, test, n): \n",
    "    \"\"\"\n",
    "    Calculate probabilities for distinc geo level and target groups.\n",
    "    Calcular las probabilidades para los distintos geo level y grupos de la target.\n",
    "\n",
    "    Input\n",
    "    --------\n",
    "    df (DataFrame pandas)\n",
    "    n (Int): values 1,2,3 for distinct geo level\n",
    "\n",
    "    Output\n",
    "    --------\n",
    "    Dataframe with probabilities new columns\n",
    "    \n",
    "    \"\"\"\n",
    "    column = [f\"geo_level_{n}_id\"]\n",
    "    nom1 = [f\"prob1_geo{n}\"]\n",
    "    nom2 = [f\"prob2_geo{n}\"]\n",
    "    nom3 = [f\"prob3_geo{n}\"]\n",
    "    #This will save the probabilities in one column for each in df and dfOut\n",
    "    damage1 = dict()\n",
    "    damage2 = dict()\n",
    "    damage3 = dict()\n",
    "\n",
    "    for i, j in df[column].value_counts().iteritems():\n",
    "        n1 = len(df[df.damage_grade == 1][df[column[0]] == i])\n",
    "        n2 = len(df[df.damage_grade == 2][df[column[0]] == i])\n",
    "        n3 = len(df[df.damage_grade == 3][df[column[0]] == i])\n",
    "\n",
    "        damage1[i[0]] = n1/j\n",
    "        damage2[i[0]] = n2/j\n",
    "        damage3[i[0]] = n3/j\n",
    "\n",
    "    list1 = []\n",
    "    list2 = []\n",
    "    list3 = []\n",
    "\n",
    "    for i in df[column[0]]:\n",
    "        list1.append(damage1.get(i))\n",
    "        list2.append(damage2.get(i))\n",
    "        list3.append(damage3.get(i))\n",
    "\n",
    "    df[nom1[0]] = list1\n",
    "    df[nom2[0]] = list2\n",
    "    df[nom3[0]] = list3\n",
    "\n",
    "    list1 = []\n",
    "    list2 = []\n",
    "    list3 = []\n",
    "\n",
    "    for i in test[column[0]]:\n",
    "        list1.append(damage1.get(i))\n",
    "        list2.append(damage2.get(i))\n",
    "        list3.append(damage3.get(i))\n",
    "\n",
    "    test[nom1[0]] = list1\n",
    "    test[nom2[0]] = list2\n",
    "    test[nom3[0]] = list3\n",
    "    \n",
    "    return df , test"
   ]
  },
  {
   "cell_type": "markdown",
   "metadata": {},
   "source": [
    "### Definitions"
   ]
  },
  {
   "cell_type": "markdown",
   "metadata": {},
   "source": [
    "#### Cross Validation"
   ]
  },
  {
   "cell_type": "markdown",
   "metadata": {},
   "source": [
    "A test set should still be held out for final evaluation, but the validation set is no longer needed when doing CV. In the basic approach, called k-fold CV, the training set is split into k smaller sets (other approaches are described below, but generally follow the same principles). The following procedure is followed for each of the k “folds”:\n",
    "\n",
    "A model is trained using  of the folds as training data;\n",
    "\n",
    "the resulting model is validated on the remaining part of the data (i.e., it is used as a test set to compute a performance measure such as accuracy).\n",
    "\n",
    "The performance measure reported by k-fold cross-validation is then the average of the values computed in the loop. This approach can be computationally expensive, but does not waste too much data (as is the case when fixing an arbitrary validation set), which is a major advantage in problems such as inverse inference where the number of samples is very small.\n"
   ]
  },
  {
   "cell_type": "markdown",
   "metadata": {},
   "source": [
    "#### Random Forest Classifier"
   ]
  },
  {
   "cell_type": "markdown",
   "metadata": {},
   "source": [
    "Random forests or random decision forests are an ensemble learning method for classification, regression and other tasks that operates by constructing a multitude of decision trees at training time. For classification tasks, the output of the random forest is the class selected by most trees. \n",
    "\n",
    "Extratree classifier is a type of Random forest Classifier, the diference is the randomness goes one step further in the war splits are computed. "
   ]
  },
  {
   "cell_type": "markdown",
   "metadata": {},
   "source": [
    "#### F1 Score"
   ]
  },
  {
   "cell_type": "markdown",
   "metadata": {},
   "source": [
    "To measure the performance of our algorithms, we'll use the F1 score which balances the precision and recall of a classifier. Traditionally, the F1 score is used to evaluate performance on a binary classifier, but since we have three possible labels we will use a variant called the micro averaged F1 score. \n",
    "\n",
    "$$ F_{micro} = \\frac{ 2 \\cdot P_{micro} \\cdot R_{micro} }{P_{micro} + R_{micro}} $$\n",
    "\n",
    "where \n",
    "$$ P_{micro} = \\frac{\\sum TP_k}{\\sum (TP_k + FP_k)}, \\ with \\ k=1,2,3 $$\n",
    "and\n",
    "$$ R_{micro} = \\frac{\\sum TP_k}{\\sum (TP_k + FN_k)}, \\ with \\ k=1,2,3 $$\n",
    "\n",
    "$TP$ is true positive, $FP$ is False positive, $FN$ is False negative.\n",
    "\n",
    "In python, you can use f_score with average ='micro'"
   ]
  },
  {
   "cell_type": "markdown",
   "metadata": {},
   "source": [
    "#### Out-of-bag error"
   ]
  },
  {
   "cell_type": "markdown",
   "metadata": {},
   "source": [
    "Out-of-bag (OOB) error, also called out-of-bag estimate, is a method of measuring the prediction error of random forests, boosted decision trees, and other machine learning models utilizing bootstrap aggregating (bagging). Bagging uses subsampling with replacement to create training samples for the model to learn from. OOB error is the mean prediction error on each training sample xi, using only the trees that did not have xi in their bootstrap sample.\n"
   ]
  },
  {
   "cell_type": "markdown",
   "metadata": {},
   "source": [
    "## Chapter 1: Data Exploration"
   ]
  },
  {
   "cell_type": "markdown",
   "metadata": {},
   "source": [
    "### First steps"
   ]
  },
  {
   "cell_type": "markdown",
   "metadata": {},
   "source": [
    "The dataset mainly consists of information on the buildings' structure and their legal ownership. Each row in the dataset represents a specific building in the region that was hit by Gorkha earthquake.\n",
    "\n",
    "*----*\n",
    "\n",
    "\n",
    "El conjunto de datos principalmente consiste en la información estuctural de los datos y su propietario legal. Cada fila del conjunto de datos representa un edificio concreto en la region donde tuvo lugar el terremoto Gorkha."
   ]
  },
  {
   "cell_type": "code",
   "execution_count": null,
   "metadata": {},
   "outputs": [],
   "source": [
    "train = pd.read_csv(\"../data/train_values.csv\")\n",
    "trainTar = pd.read_csv(\"../data/train_labels.csv\")\n",
    "\n",
    "test = pd.read_csv(\"../data/test_values.csv\")"
   ]
  },
  {
   "cell_type": "markdown",
   "metadata": {},
   "source": [
    "We merge on one dataframe because it'll permit a better analysis. For feature engineering, we'll merge test to.\n",
    "\n",
    "*----*\n",
    "\n",
    "Unimos en un solo dataframe ya que nos permite un mejor analisis de la target. Para las distintas transformaciones también tendremos que unir el test."
   ]
  },
  {
   "cell_type": "code",
   "execution_count": null,
   "metadata": {},
   "outputs": [],
   "source": [
    "df = train.merge(trainTar , on= \"building_id\" , how= \"left\")\n",
    "df.head(10)"
   ]
  },
  {
   "cell_type": "code",
   "execution_count": null,
   "metadata": {},
   "outputs": [],
   "source": [
    "print(\"We have {} rows and {} columns \\n  -Categorical: 8 \\n  -Binary: 22 \\n  -Integer: 6 \".format(len(df) , len(df.columns)))\n",
    "print(\"- - - - - - - - - - - - - - - - - - - -\")\n",
    "print(\"Tenemos {} filas y {} columns \\n  -Categoricas: 8 \\n  -Binarias: 22 \\n  -Enetero: 6 \".format(len(df) , len(df.columns)))"
   ]
  },
  {
   "cell_type": "code",
   "execution_count": null,
   "metadata": {},
   "outputs": [],
   "source": [
    "print(\"There are {} rows duplicated\".format(len(df) - df.duplicated().value_counts().values[0]))\n",
    "print(\"- - - - - - - - - - - - - - - - - - - -\")\n",
    "print(\"Hay {} filas duplicadas\".format(len(df) - df.duplicated().value_counts().values[0]))"
   ]
  },
  {
   "cell_type": "code",
   "execution_count": null,
   "metadata": {},
   "outputs": [],
   "source": [
    "print(\"There are {} nan values\".format(df.isna().sum().sum()))\n",
    "print(\"- - - - - - - - - - - - - - - - - - - -\")\n",
    "print(\"Hay {} valores nulos\".format(df.isna().sum().sum()))"
   ]
  },
  {
   "cell_type": "markdown",
   "metadata": {},
   "source": [
    "### Outliers"
   ]
  },
  {
   "cell_type": "markdown",
   "metadata": {},
   "source": [
    "There are not nan values, but we should see if there are wrong values\n",
    "\n",
    "*-----*\n",
    "\n",
    "No hay valores nulos, pero deberíamos mirar si hay errores en algún valor"
   ]
  },
  {
   "cell_type": "code",
   "execution_count": null,
   "metadata": {},
   "outputs": [],
   "source": [
    "print(\"We select only the int columns\")\n",
    "print(\"- - - - - - - - - - - - - - - - - - - -\")\n",
    "print(\"Seleccionamos solo las columnas con dato entero\")\n",
    "df[[\"count_floors_pre_eq\", \"age\" , \"area_percentage\" , \"height_percentage\", \"count_families\"]].describe()"
   ]
  },
  {
   "cell_type": "markdown",
   "metadata": {},
   "source": [
    "We can see that there are 0 and 995 value for age column, this is a error value. 0 is it posible but 995 is strange.\n",
    "\n",
    "*-----*\n",
    "\n",
    "Vemos como hay valor 0 y 995 en la columna edad, eso es un valor erroneo. 0 es posible, pero 995 es un valor extraño."
   ]
  },
  {
   "cell_type": "code",
   "execution_count": null,
   "metadata": {},
   "outputs": [],
   "source": [
    "plt.figure(figsize=(15,10))\n",
    "sns.boxplot(data = df, y =\"age\" , x=\"damage_grade\")\n",
    "plt.show()"
   ]
  },
  {
   "cell_type": "markdown",
   "metadata": {},
   "source": [
    "With boxplot we see that very well. If we won't use robust scaler, we should drop outliers. \n",
    "\n",
    "*-----*\n",
    "\n",
    "Con el boxplot lo podemos ver muy bien. Si no vamos a usar robust scaler, debemos borrar los outliers."
   ]
  },
  {
   "cell_type": "code",
   "execution_count": null,
   "metadata": {},
   "outputs": [],
   "source": [
    "sns.catplot(data = df, x =\"age\" , kind= \"count\" ,  aspect=4.5)"
   ]
  },
  {
   "cell_type": "code",
   "execution_count": null,
   "metadata": {},
   "outputs": [],
   "source": [
    "print(f\"There are {len(df[df['age']==995])} values with value 995, i.e {round( 100*len(df[df['age']==995]) / len(df) ,2)} % of total, these probably are unknown values.\")\n",
    "print(\"- - - - - - - - - - - - - - - - - - - -\")\n",
    "print(f\"Hay {len(df[df['age']==995])} valores con 995, i.e {round( 100*len(df[df['age']==995]) / len(df) ,2)} % the total, son probablemente valores desconocidos.\")"
   ]
  },
  {
   "cell_type": "markdown",
   "metadata": {},
   "source": [
    "Here we can see the distribution:\n",
    "\n",
    "*-----*\n",
    "\n",
    "Aquí podemos ver la distribución:"
   ]
  },
  {
   "cell_type": "code",
   "execution_count": null,
   "metadata": {},
   "outputs": [],
   "source": [
    "print(df[df['age']==995].groupby(['damage_grade']).count()['building_id'])"
   ]
  },
  {
   "cell_type": "markdown",
   "metadata": {},
   "source": [
    "We are going to drop outliers, but in other hand we analize the age in groups and we'll see what is better.\n",
    "It seems that would nice make groups with the age, because there are a lot of outliers, and we can make groups to solve this problem.\n",
    "\n",
    "We'll do this in the next chapter.\n",
    "\n",
    "*----*\n",
    "\n",
    "Vamos a borrar los outliers, pero por otro lado vamos a analizar la edad en grupos y veremos cual es mejor.\n",
    "Parece optimo hacer grupos de edad de los edificiones, porque hay muchos outliers y podemos hacer grupos para resolver este problema.\n",
    "\n",
    "Heremos esto en el proximo capítulo."
   ]
  },
  {
   "cell_type": "code",
   "execution_count": null,
   "metadata": {},
   "outputs": [],
   "source": [
    "Q_1 = df.describe().loc['25%'].loc['age']\n",
    "Q_3 = df.describe().loc['75%'].loc['age']\n",
    "IQR = Q_3 - Q_1\n",
    "df['outliers'] = df['age'].apply( lambda x : 1 if ((x < (Q_1 - 1.5*IQR) ) or ( (Q_3 + 1.5 * IQR) < x ) ) else 0 )\n",
    "print(f\"There are {df['outliers'].sum()} outliers, i.e {round( 100*df['outliers'].sum() / len(df) , 2 )} % of total, we are going to drop it\")\n",
    "print(\"- - - - - - - - - - - - - - - - - - - -\")\n",
    "print(f\"Hay {df['outliers'].sum()} outliers, es un {round( 100*df['outliers'].sum() / len(df) , 2 )} % del total, vamos a sacarlos del estudio\")\n",
    "dfOut = df[df['outliers'] == 0]"
   ]
  },
  {
   "cell_type": "code",
   "execution_count": null,
   "metadata": {},
   "outputs": [],
   "source": [
    "plt.figure(figsize=(15,10))\n",
    "sns.boxplot(data = dfOut, y =\"age\" , x=\"damage_grade\")\n",
    "plt.show()"
   ]
  },
  {
   "cell_type": "code",
   "execution_count": null,
   "metadata": {},
   "outputs": [],
   "source": [
    "sns.catplot(data = dfOut, x =\"age\" , kind= \"count\" ,  aspect=4.5)"
   ]
  },
  {
   "cell_type": "code",
   "execution_count": null,
   "metadata": {},
   "outputs": [],
   "source": [
    "dfOut[[\"count_floors_pre_eq\", \"age\" , \"area_percentage\" , \"height_percentage\", \"count_families\"]].describe()"
   ]
  },
  {
   "cell_type": "markdown",
   "metadata": {},
   "source": [
    "Now we are going to see \"area_percentage\" and \"height_percentage\", because it seems like there are outliers too.\n",
    "\n",
    "*-----*\n",
    "\n",
    "Vamos a ver la columna \"area_percentage\" y \"height_percentage\", porque parece que también tiene outliers."
   ]
  },
  {
   "cell_type": "code",
   "execution_count": null,
   "metadata": {},
   "outputs": [],
   "source": [
    "print(dfOut[[\"area_percentage\", \"height_percentage\"]].describe())\n",
    "\n",
    "fig, (ax1,ax2) = plt.subplots(nrows=1, ncols=2, figsize=(20, 10))\n",
    "fig.suptitle(\"Area and Height percentage boxplot\")\n",
    "#-----#\n",
    "ax1.set_title(\"Area percentage\")\n",
    "ax1.boxplot(dfOut[[\"area_percentage\"]])\n",
    "#-----#\n",
    "ax2.set_title(\"Hight percentage\")\n",
    "ax2.boxplot(dfOut[[\"height_percentage\"]])\n",
    "plt.show()"
   ]
  },
  {
   "cell_type": "markdown",
   "metadata": {},
   "source": [
    "For these columns, probably the best idea is use a robust scaler, because 100% value is posible and don't seems an unknown value.\n",
    "\n",
    "*-----*\n",
    "\n",
    "Para estas columns, probablemente la mejor idea es usar un robust scaler, porque el valor 100% es posible y no parece un valor desconocido."
   ]
  },
  {
   "cell_type": "markdown",
   "metadata": {},
   "source": [
    "Before outliers analysis we have:\n",
    "\n",
    "*------*\n",
    "\n",
    "Después del analisis de outliers tenemos:"
   ]
  },
  {
   "cell_type": "code",
   "execution_count": null,
   "metadata": {},
   "outputs": [],
   "source": [
    "print(f\"We drop outlierns, now we have {round (100 - len(dfOut)*100 / len(df) ,2)} % less rows than the initial dataframe.\")\n",
    "print(\"- - - - - - - - - - - - - - - - - - - -\")\n",
    "print(f\"Hemos borrado outliers, ahora tenemos un {round (100 - len(dfOut)*100 / len(df) ,2)} % menos filas que el dataframe original.\")"
   ]
  },
  {
   "cell_type": "markdown",
   "metadata": {},
   "source": [
    "### Numeric correlation"
   ]
  },
  {
   "cell_type": "code",
   "execution_count": null,
   "metadata": {},
   "outputs": [],
   "source": [
    "numeric = [\"count_floors_pre_eq\", \"age\" , \"area_percentage\" , \"height_percentage\", \"count_families\"]"
   ]
  },
  {
   "cell_type": "code",
   "execution_count": null,
   "metadata": {},
   "outputs": [],
   "source": [
    "corrTot = df[numeric].corr()\n",
    "corrOut = dfOut[numeric].corr()"
   ]
  },
  {
   "cell_type": "markdown",
   "metadata": {},
   "source": [
    "Here we see the diferences between corrTot and corrOut\n",
    "\n",
    "*-----*\n",
    "\n",
    "Aqui vemos las diferencias entra ambas correlaciones"
   ]
  },
  {
   "cell_type": "code",
   "execution_count": null,
   "metadata": {},
   "outputs": [],
   "source": [
    "abs(corrTot-corrOut)"
   ]
  },
  {
   "cell_type": "markdown",
   "metadata": {},
   "source": [
    "We are going to analize only the corrTot, because the diferences are minimun.\n",
    "\n",
    "*------*\n",
    "\n",
    "Vamos a analizar la correlacion solo de corrTot, porque las diferencias son mínimas."
   ]
  },
  {
   "cell_type": "code",
   "execution_count": null,
   "metadata": {},
   "outputs": [],
   "source": [
    "#CORPLOT\n",
    "plt.figure(figsize=(8, 9))\n",
    "maskTot = np.triu(np.ones_like(corrTot, dtype=bool))\n",
    "cmap = sns.diverging_palette(230, 20, as_cmap=True)\n",
    "sns.heatmap(corrTot, mask=maskTot, cmap=cmap, vmax=.3, center=0, annot= True,\n",
    "            square=True, linewidths=.5, cbar_kws={\"shrink\": .8} )\n",
    "plt.show()"
   ]
  },
  {
   "cell_type": "markdown",
   "metadata": {},
   "source": [
    "The highest correlation is between number floors pre earthquake and the porcent height. But 0.77 is not enought for drop the column.\n",
    "\n",
    "*------*\n",
    "\n",
    "La correlación más alta es entre numero de plantas antes del terremoto y el porcentaje de altura. Pero 0.77 no es suficiente para borrar la columna."
   ]
  },
  {
   "cell_type": "markdown",
   "metadata": {},
   "source": [
    "## Chapter 2: Featuring Engineering and Selection"
   ]
  },
  {
   "cell_type": "markdown",
   "metadata": {},
   "source": [
    "### Categorical columns"
   ]
  },
  {
   "cell_type": "code",
   "execution_count": null,
   "metadata": {},
   "outputs": [],
   "source": [
    "categorical = ['land_surface_condition','foundation_type','roof_type','ground_floor_type','other_floor_type','position','plan_configuration','legal_ownership_status']"
   ]
  },
  {
   "cell_type": "markdown",
   "metadata": {},
   "source": [
    "##### Land surface condition"
   ]
  },
  {
   "cell_type": "markdown",
   "metadata": {},
   "source": [
    "Surface condition of the land where the building was built. \n",
    "\n",
    "*-----*\n",
    "\n",
    "Estado de la superficio del terreno donde se contruyó el edificio.\n",
    "\n",
    "\n",
    "Possible values: n, o, t."
   ]
  },
  {
   "cell_type": "code",
   "execution_count": null,
   "metadata": {},
   "outputs": [],
   "source": [
    "print(round(df.groupby(categorical[0]).count()['building_id'] *100 / len(df) ,2 ) )\n",
    "fig , (ax1,ax2) = plt.subplots(1,2, figsize=(15,6))\n",
    "ax1.hist(data = df , x = categorical[0] , bins=len(set(df[categorical[0]])))\n",
    "ax1.set_title(\"Dataframe total\")\n",
    "ax2.hist(data = dfOut , x = categorical[0], bins=len(set(df[categorical[0]])))\n",
    "ax2.set_title(\"Dataframe without outliers\")\n",
    "plt.suptitle(categorical[0])\n",
    "plt.show()"
   ]
  },
  {
   "cell_type": "code",
   "execution_count": null,
   "metadata": {},
   "outputs": [],
   "source": [
    "sns.catplot(data= df , x = categorical[0] , kind= 'count', hue = 'damage_grade')\n",
    "plt.show()"
   ]
  },
  {
   "cell_type": "markdown",
   "metadata": {},
   "source": [
    "With this to analisis, we are going to group the o and n values in one.\n",
    "\n",
    "*-----*\n",
    "\n",
    "Con este analisis, vamos a agrupar los valores o y n en solo uno.\n"
   ]
  },
  {
   "cell_type": "code",
   "execution_count": null,
   "metadata": {},
   "outputs": [],
   "source": [
    "df[categorical[0]] = df[categorical[0]].apply(lambda x: 1 if x == 't' else 0)\n",
    "dfOut[categorical[0]] = dfOut[categorical[0]].apply(lambda x: 1 if x == 't' else 0)\n",
    "\n",
    "test[categorical[0]] = test[categorical[0]].apply(lambda x: 1 if x == 't' else 0)"
   ]
  },
  {
   "cell_type": "code",
   "execution_count": null,
   "metadata": {},
   "outputs": [],
   "source": [
    "sns.catplot(data= df , x = categorical[0] , kind= 'count', hue = 'damage_grade')\n",
    "plt.show()"
   ]
  },
  {
   "cell_type": "markdown",
   "metadata": {},
   "source": [
    "##### Foundation type"
   ]
  },
  {
   "cell_type": "markdown",
   "metadata": {},
   "source": [
    "Type of foundation used while building. \n",
    "\n",
    "*----*\n",
    "\n",
    "Tipo de financiacion usada cuando se contruyó el edificio.\n",
    "\n",
    "Possible values: h, i, r, u, w.\n",
    "\n"
   ]
  },
  {
   "cell_type": "code",
   "execution_count": null,
   "metadata": {},
   "outputs": [],
   "source": [
    "print(round(df.groupby(categorical[1]).count()['building_id'] *100 / len(df) ,2 ) )\n",
    "fig , (ax1,ax2) = plt.subplots(1,2, figsize=(15,6))\n",
    "ax1.hist(data = df , x = categorical[1] , bins=len(set(df[categorical[1]])))\n",
    "ax1.set_title(\"Dataframe total\")\n",
    "ax2.hist(data = dfOut , x = categorical[1], bins=len(set(df[categorical[1]])))\n",
    "ax2.set_title(\"Dataframe without outliers\")\n",
    "plt.suptitle(categorical[1])\n",
    "plt.show()"
   ]
  },
  {
   "cell_type": "code",
   "execution_count": null,
   "metadata": {},
   "outputs": [],
   "source": [
    "sns.catplot(data= df , x = categorical[1] , kind= 'count', hue = 'damage_grade')\n",
    "plt.show()"
   ]
  },
  {
   "cell_type": "code",
   "execution_count": null,
   "metadata": {},
   "outputs": [],
   "source": [
    "df[categorical[1]] = df[categorical[1]].apply(lambda x : 1 if x == 'r' else 0)\n",
    "dfOut[categorical[1]] = dfOut[categorical[1]].apply(lambda x : 1 if x == 'r' else 0)\n",
    "\n",
    "test[categorical[1]] = test[categorical[1]].apply(lambda x : 1 if x == 'r' else 0)"
   ]
  },
  {
   "cell_type": "code",
   "execution_count": null,
   "metadata": {},
   "outputs": [],
   "source": [
    "sns.catplot(data= df , x = categorical[1] , kind= 'count', hue = 'damage_grade')\n",
    "plt.show()"
   ]
  },
  {
   "cell_type": "markdown",
   "metadata": {},
   "source": [
    "##### Roof type"
   ]
  },
  {
   "cell_type": "markdown",
   "metadata": {},
   "source": [
    "Type of roof used while building. \n",
    "\n",
    "*-----*\n",
    "\n",
    "Tipo de tejado empleado al construir el edificio\n",
    "\n",
    "Possible values: n, q, x."
   ]
  },
  {
   "cell_type": "code",
   "execution_count": null,
   "metadata": {},
   "outputs": [],
   "source": [
    "print(round(df.groupby(categorical[2]).count()['building_id'] *100 / len(df) ,2 ) )\n",
    "fig , (ax1,ax2) = plt.subplots(1,2, figsize=(15,6))\n",
    "ax1.hist(data = df , x = categorical[2] , bins=len(set(df[categorical[2]])))\n",
    "ax1.set_title(\"Dataframe total\")\n",
    "ax2.hist(data = dfOut , x = categorical[2], bins=len(set(df[categorical[2]])))\n",
    "ax2.set_title(\"Dataframe without outliers\")\n",
    "plt.suptitle(categorical[2])\n",
    "plt.show()"
   ]
  },
  {
   "cell_type": "code",
   "execution_count": null,
   "metadata": {},
   "outputs": [],
   "source": [
    "sns.catplot(data= df , x = categorical[2] , kind= 'count', hue = 'damage_grade')\n",
    "plt.show()"
   ]
  },
  {
   "cell_type": "code",
   "execution_count": null,
   "metadata": {},
   "outputs": [],
   "source": [
    "df[categorical[2]] = df[categorical[2]].apply(lambda x : 1 if x == 'q' else 0)\n",
    "dfOut[categorical[2]] = dfOut[categorical[2]].apply(lambda x : 1 if x == 'q' else 0)\n",
    "\n",
    "test[categorical[2]] = test[categorical[2]].apply(lambda x : 1 if x == 'q' else 0)"
   ]
  },
  {
   "cell_type": "code",
   "execution_count": null,
   "metadata": {},
   "outputs": [],
   "source": [
    "sns.catplot(data= df , x = categorical[2] , kind= 'count', hue = 'damage_grade')\n",
    "plt.show()"
   ]
  },
  {
   "cell_type": "markdown",
   "metadata": {},
   "source": [
    "##### Ground floor type"
   ]
  },
  {
   "cell_type": "markdown",
   "metadata": {},
   "source": [
    "Type of the ground floor. \n",
    "\n",
    "*-----*\n",
    "\n",
    "Tipo de suelo.\n",
    "\n",
    "Possible values: f, m, v, x, z."
   ]
  },
  {
   "cell_type": "code",
   "execution_count": null,
   "metadata": {},
   "outputs": [],
   "source": [
    "print(round(df.groupby(categorical[3]).count()['building_id'] *100 / len(df) ,2 ) )\n",
    "fig , (ax1,ax2) = plt.subplots(1,2, figsize=(15,6))\n",
    "ax1.hist(data = df , x = categorical[3] , bins=len(set(df[categorical[3]])))\n",
    "ax1.set_title(\"Dataframe total\")\n",
    "ax2.hist(data = dfOut , x = categorical[3], bins=len(set(df[categorical[3]])))\n",
    "ax2.set_title(\"Dataframe without outliers\")\n",
    "plt.suptitle(categorical[3])\n",
    "plt.show()"
   ]
  },
  {
   "cell_type": "code",
   "execution_count": null,
   "metadata": {},
   "outputs": [],
   "source": [
    "df[categorical[3]] = df[categorical[3]].apply(lambda x : 'other' if x == 'z' else 'other' if x == 'm' else x)\n",
    "dfOut[categorical[3]] = dfOut[categorical[3]].apply(lambda x : 'other' if x == 'z' else 'other' if x == 'm' else x)"
   ]
  },
  {
   "cell_type": "code",
   "execution_count": null,
   "metadata": {},
   "outputs": [],
   "source": [
    "print(round(df.groupby(categorical[3]).count()['building_id'] *100 / len(df) ,2 ) )\n",
    "sns.catplot(data= df , x = categorical[3] , kind= 'count', hue = 'damage_grade')\n",
    "plt.show()"
   ]
  },
  {
   "cell_type": "code",
   "execution_count": null,
   "metadata": {},
   "outputs": [],
   "source": [
    "df[categorical[3]] = df[categorical[3]].apply(lambda x : 1 if x == 'f' else 0)\n",
    "dfOut[categorical[3]] = dfOut[categorical[3]].apply(lambda x : 1 if x == 'f' else 0)\n",
    "\n",
    "test[categorical[3]] = test[categorical[3]].apply(lambda x : 1 if x == 'f' else 0)"
   ]
  },
  {
   "cell_type": "code",
   "execution_count": null,
   "metadata": {},
   "outputs": [],
   "source": [
    "sns.catplot(data= df , x = categorical[3] , kind= 'count', hue = 'damage_grade')\n",
    "plt.show()"
   ]
  },
  {
   "cell_type": "markdown",
   "metadata": {},
   "source": [
    "##### Other floor type"
   ]
  },
  {
   "cell_type": "markdown",
   "metadata": {},
   "source": [
    " Type of constructions used in higher than the ground floors (except of roof). \n",
    " \n",
    " *-----*\n",
    "\n",
    " Tipo de materiales usados en plantas superiores distintas a la baja y techo.\n",
    " \n",
    " Possible values: j, q, s, x."
   ]
  },
  {
   "cell_type": "code",
   "execution_count": null,
   "metadata": {},
   "outputs": [],
   "source": [
    "print(round(df.groupby(categorical[4]).count()['building_id'] *100 / len(df) ,2 ) )\n",
    "fig , (ax1,ax2) = plt.subplots(1,2, figsize=(15,6))\n",
    "ax1.hist(data = df , x = categorical[4] , bins=len(set(df[categorical[4]])))\n",
    "ax1.set_title(\"Dataframe total\")\n",
    "ax2.hist(data = dfOut , x = categorical[4], bins=len(set(df[categorical[4]])))\n",
    "ax2.set_title(\"Dataframe without outliers\")\n",
    "plt.suptitle(categorical[4])\n",
    "plt.show()"
   ]
  },
  {
   "cell_type": "code",
   "execution_count": null,
   "metadata": {},
   "outputs": [],
   "source": [
    "sns.catplot(data= df , x = categorical[4] , kind= 'count', hue = 'damage_grade')\n",
    "plt.show()"
   ]
  },
  {
   "cell_type": "code",
   "execution_count": null,
   "metadata": {},
   "outputs": [],
   "source": [
    "df[categorical[4]] = df[categorical[4]].apply(lambda x : 'j' if x == 's' else x)\n",
    "dfOut[categorical[4]] = dfOut[categorical[4]].apply(lambda x : 'j' if x == 's' else x)\n",
    "\n",
    "test[categorical[4]] = test[categorical[4]].apply(lambda x : 'j' if x == 's' else x)"
   ]
  },
  {
   "cell_type": "code",
   "execution_count": null,
   "metadata": {},
   "outputs": [],
   "source": [
    "df[categorical[4]] = df[categorical[4]].apply(lambda x : 2 if x == 'q' else 1 if x == 'x' else  0)\n",
    "dfOut[categorical[4]] = dfOut[categorical[4]].apply(lambda x : 2 if x == 'q' else 1 if x == 'x' else  0)\n",
    "\n",
    "test[categorical[4]] = test[categorical[4]].apply(lambda x : 2 if x == 'q' else 1 if x == 'x' else  0)"
   ]
  },
  {
   "cell_type": "code",
   "execution_count": null,
   "metadata": {},
   "outputs": [],
   "source": [
    "sns.catplot(data= df , x = categorical[4] , kind= 'count', hue = 'damage_grade')\n",
    "plt.show()"
   ]
  },
  {
   "cell_type": "markdown",
   "metadata": {},
   "source": [
    "##### Position"
   ]
  },
  {
   "cell_type": "markdown",
   "metadata": {},
   "source": [
    "Position of the building. \n",
    "\n",
    "*-----*\n",
    "\n",
    "Posición del edificio.\n",
    "\n",
    "Possible values: j, o, s, t."
   ]
  },
  {
   "cell_type": "code",
   "execution_count": null,
   "metadata": {},
   "outputs": [],
   "source": [
    "print(round(df.groupby(categorical[5]).count()['building_id'] *100 / len(df) ,2 ) )\n",
    "fig , (ax1,ax2) = plt.subplots(1,2, figsize=(15,6))\n",
    "ax1.hist(data = df , x = categorical[5] , bins=len(set(df[categorical[5]])))\n",
    "ax1.set_title(\"Dataframe total\")\n",
    "ax2.hist(data = dfOut , x = categorical[5], bins=len(set(df[categorical[5]])))\n",
    "ax2.set_title(\"Dataframe without outliers\")\n",
    "plt.suptitle(categorical[5])\n",
    "plt.show()"
   ]
  },
  {
   "cell_type": "code",
   "execution_count": null,
   "metadata": {},
   "outputs": [],
   "source": [
    "sns.catplot(data= df , x = categorical[5] , kind= 'count', hue = 'damage_grade')\n",
    "plt.show()"
   ]
  },
  {
   "cell_type": "code",
   "execution_count": null,
   "metadata": {},
   "outputs": [],
   "source": [
    "df[categorical[5]] = df[categorical[5]].apply(lambda x : 1 if x == 's' else 0)\n",
    "dfOut[categorical[5]] = dfOut[categorical[5]].apply(lambda x : 1 if x == 's' else 0)\n",
    "\n",
    "test[categorical[5]] = test[categorical[5]].apply(lambda x : 1 if x == 's' else 0)"
   ]
  },
  {
   "cell_type": "code",
   "execution_count": null,
   "metadata": {},
   "outputs": [],
   "source": [
    "sns.catplot(data= df , x = categorical[5] , kind= 'count', hue = 'damage_grade')\n",
    "plt.show()"
   ]
  },
  {
   "cell_type": "markdown",
   "metadata": {},
   "source": [
    "##### Plan configuration"
   ]
  },
  {
   "cell_type": "markdown",
   "metadata": {},
   "source": [
    "Building plan configuration. \n",
    "\n",
    "*-----*\n",
    "\n",
    "Configuración del plano del edificio.\n",
    "\n",
    "Possible values: a, c, d, f, m, n, o, q, s, u."
   ]
  },
  {
   "cell_type": "code",
   "execution_count": null,
   "metadata": {},
   "outputs": [],
   "source": [
    "print(round(df.groupby(categorical[6]).count()['building_id'] *100 / len(df) ,2 ) )\n",
    "fig , (ax1,ax2) = plt.subplots(1,2, figsize=(15,6))\n",
    "ax1.hist(data = df , x = categorical[6] , bins=len(set(df[categorical[6]])))\n",
    "ax1.set_title(\"Dataframe total\")\n",
    "ax2.hist(data = dfOut , x = categorical[6], bins=len(set(df[categorical[6]])))\n",
    "ax2.set_title(\"Dataframe without outliers\")\n",
    "plt.suptitle(categorical[6])\n",
    "plt.show()"
   ]
  },
  {
   "cell_type": "code",
   "execution_count": null,
   "metadata": {},
   "outputs": [],
   "source": [
    "sns.catplot(data= df , x = categorical[6] , kind= 'count', hue = 'damage_grade')\n",
    "plt.show()"
   ]
  },
  {
   "cell_type": "code",
   "execution_count": null,
   "metadata": {},
   "outputs": [],
   "source": [
    "df[categorical[6]] = df[categorical[6]].apply(lambda x : 1 if x == 'd' else 0)\n",
    "dfOut[categorical[6]] = dfOut[categorical[6]].apply(lambda x : 1 if x == 'd' else 0)\n",
    "\n",
    "test[categorical[6]] = test[categorical[6]].apply(lambda x : 1 if x == 'd' else 0)"
   ]
  },
  {
   "cell_type": "code",
   "execution_count": null,
   "metadata": {},
   "outputs": [],
   "source": [
    "sns.catplot(data= df , x = categorical[6] , kind= 'count', hue = 'damage_grade')\n",
    "plt.show()"
   ]
  },
  {
   "cell_type": "markdown",
   "metadata": {},
   "source": [
    "This column is not well clustered, we are going to drop it\n",
    "\n",
    "*----*\n",
    "\n",
    "Esta columna no está bien repartida, vamos a eliminarla."
   ]
  },
  {
   "cell_type": "code",
   "execution_count": null,
   "metadata": {},
   "outputs": [],
   "source": [
    "df = df.drop(categorical[6], axis = 1)\n",
    "dfOut = dfOut.drop(categorical[6], axis = 1)\n",
    "\n",
    "test = test.drop(categorical[6], axis = 1)"
   ]
  },
  {
   "cell_type": "markdown",
   "metadata": {},
   "source": [
    "##### Legal ownership status"
   ]
  },
  {
   "cell_type": "markdown",
   "metadata": {},
   "source": [
    "Legal ownership status of the land where building was built. \n",
    "\n",
    "*-----*\n",
    "\n",
    "Situación de la propiedad legal del terreno donde se construyó el edificio. \n",
    "\n",
    "\n",
    "Possible values: a, r, v, w."
   ]
  },
  {
   "cell_type": "code",
   "execution_count": null,
   "metadata": {},
   "outputs": [],
   "source": [
    "print(round(df.groupby(categorical[7]).count()['building_id'] *100 / len(df) ,2 ) )\n",
    "fig , (ax1,ax2) = plt.subplots(1,2, figsize=(15,6))\n",
    "ax1.hist(data = df , x = categorical[7] , bins=len(set(df[categorical[7]])))\n",
    "ax1.set_title(\"Dataframe total\")\n",
    "ax2.hist(data = dfOut , x = categorical[7], bins=len(set(df[categorical[7]])))\n",
    "ax2.set_title(\"Dataframe without outliers\")\n",
    "plt.suptitle(categorical[7])\n",
    "plt.show()"
   ]
  },
  {
   "cell_type": "code",
   "execution_count": null,
   "metadata": {},
   "outputs": [],
   "source": [
    "df = df.drop(categorical[7], axis = 1)\n",
    "dfOut = dfOut.drop(categorical[7], axis = 1)\n",
    "\n",
    "test = test.drop(categorical[7], axis = 1)"
   ]
  },
  {
   "cell_type": "markdown",
   "metadata": {},
   "source": [
    "### Geo columns"
   ]
  },
  {
   "cell_type": "markdown",
   "metadata": {},
   "source": [
    "Geographic region in which building exists, from largest (level 1) to most specific sub-region (level 3). \n",
    "\n",
    "\n",
    "*-----*\n",
    "\n",
    "\n",
    "Region geográfica en donde hay edificios, del más grande (level 1) al mas especifico, sub region (level 3).\n",
    "\n",
    "Possible values: level 1: 0-30, level 2: 0-1427, level 3: 0-12567."
   ]
  },
  {
   "cell_type": "code",
   "execution_count": null,
   "metadata": {},
   "outputs": [],
   "source": [
    "geos = ['geo_level_1_id', 'geo_level_2_id', 'geo_level_3_id']"
   ]
  },
  {
   "cell_type": "code",
   "execution_count": null,
   "metadata": {},
   "outputs": [],
   "source": [
    "for i in [0,1,2]:\n",
    "    print(\"\\n- - - - - - - \")\n",
    "    with pd.option_context('display.max_rows',10):\n",
    "        print(df[geos[i]].value_counts())"
   ]
  },
  {
   "cell_type": "markdown",
   "metadata": {},
   "source": [
    "We'll calculate the probability of belonging to one target group or another based on the geo level columns. This will help us to cluster the diferent positions.\n",
    "\n",
    "*-------*\n",
    "\n",
    "Vamos a calcular la probabilidad de pertenecer a un grupo de la target u otro en función de las columnas de geo level. Esto nos ayudará a relacionar las distintas posiciones y clusterizarlas."
   ]
  },
  {
   "cell_type": "code",
   "execution_count": null,
   "metadata": {},
   "outputs": [],
   "source": [
    "df, test = probabilities(df,test,1)\n",
    "df, test = probabilities(df,test,2)\n",
    "df, test = probabilities(df,test,3)\n",
    "\n",
    "#df.to_csv(\"../data/trainProb.csv\")\n",
    "#test.to_csv(\"../data/testProb.csv\")"
   ]
  },
  {
   "cell_type": "code",
   "execution_count": null,
   "metadata": {},
   "outputs": [],
   "source": [
    "dfOut, testOut = probabilities(dfOut,test,1)\n",
    "dfOut, testOut = probabilities(dfOut,test,2)\n",
    "dfOut, testOut = probabilities(dfOut,test,3)\n",
    "\n",
    "#dfOut.to_csv(\"../data/trainOutProb.csv\")\n",
    "#testOut.to_csv(\"../data/testOutProb.csv\")"
   ]
  },
  {
   "cell_type": "code",
   "execution_count": null,
   "metadata": {},
   "outputs": [],
   "source": [
    "#df = pd.read_csv(\"../data/trainProb.csv\")\n",
    "#test = pd.read_csv(\"../data/testProb.csv\")\n",
    "\n",
    "#dfOut = pd.read_csv(\"../data/trainOutProb.csv\")\n",
    "#testOut = pd.read_csv(\"../data/testOutProb.csv\")"
   ]
  },
  {
   "cell_type": "code",
   "execution_count": null,
   "metadata": {},
   "outputs": [],
   "source": [
    "probs = ['prob1_geo1','prob2_geo1', 'prob3_geo1', 'prob1_geo2', 'prob2_geo2', 'prob3_geo2','prob1_geo3', 'prob2_geo3', 'prob3_geo3']"
   ]
  },
  {
   "cell_type": "code",
   "execution_count": null,
   "metadata": {},
   "outputs": [],
   "source": [
    "nClus = range(3, 10)\n",
    "kmeans = [KMeans(n_clusters=i, random_state= 1995) for i in nClus]\n",
    "\n",
    "score = [kmeans[i].fit(df[probs]).score(df[probs]) for i in range(len(kmeans))]\n",
    "\n",
    "plt.plot(nClus,score)\n",
    "plt.xlabel('Number of Clusters')\n",
    "plt.ylabel('Score')\n",
    "plt.title('Elbow Curve')\n",
    "plt.show()"
   ]
  },
  {
   "cell_type": "markdown",
   "metadata": {},
   "source": [
    "Seen the plot, I'll choose 5 clusters.\n",
    "\n",
    "*-------*\n",
    "\n",
    "Viendo el gráfico, voy a escoger 5 clusters."
   ]
  },
  {
   "cell_type": "code",
   "execution_count": null,
   "metadata": {},
   "outputs": [],
   "source": [
    "kmeans = KMeans(n_clusters = 5 , random_state = 1995 )\n",
    "kmeans.fit(df[probs])\n",
    "\n",
    "# Predicting the clusters\n",
    "labels = kmeans.predict(df[probs])\n",
    "labelsT = kmeans.predict(test[probs])\n",
    "\n",
    "df['clusters'] = labels\n",
    "test['clusters'] = labelsT\n",
    "\n",
    "# *-----*\n",
    "\n",
    "kmeans = KMeans(n_clusters = 5 , random_state = 1995 )\n",
    "kmeans.fit(dfOut[probs])\n",
    "\n",
    "# Predicting the clusters\n",
    "labels = kmeans.predict(dfOut[probs])\n",
    "labelsT = kmeans.predict(testOut[probs])\n",
    "\n",
    "dfOut['clusters'] = labels\n",
    "testOut['clusters'] = labelsT"
   ]
  },
  {
   "cell_type": "code",
   "execution_count": null,
   "metadata": {},
   "outputs": [],
   "source": [
    "sns.catplot(data= df , x = \"clusters\" , kind=\"count\" , hue= \"damage_grade\")\n",
    "plt.show()"
   ]
  },
  {
   "cell_type": "markdown",
   "metadata": {},
   "source": [
    "### Binary columns"
   ]
  },
  {
   "cell_type": "markdown",
   "metadata": {},
   "source": [
    "Finally we need to analize the binary columns.\n",
    "\n",
    "*-----*\n",
    "\n",
    "Finalmente vamos a analizar las columnas de valor binario."
   ]
  },
  {
   "cell_type": "code",
   "execution_count": null,
   "metadata": {},
   "outputs": [],
   "source": [
    "binary = ['has_secondary_use','has_secondary_use_agriculture','has_secondary_use_gov_office','has_secondary_use_health_post',\n",
    "            'has_secondary_use_hotel','has_secondary_use_industry','has_secondary_use_institution','has_secondary_use_other',\n",
    "            'has_secondary_use_rental','has_secondary_use_school','has_secondary_use_use_police','has_superstructure_adobe_mud',\n",
    "            'has_superstructure_bamboo','has_superstructure_cement_mortar_brick','has_superstructure_cement_mortar_stone', \n",
    "            'has_superstructure_mud_mortar_brick', 'has_superstructure_mud_mortar_stone', 'has_superstructure_other', \n",
    "            'has_superstructure_rc_engineered','has_superstructure_rc_non_engineered', 'has_superstructure_stone_flag', 'has_superstructure_timber']"
   ]
  },
  {
   "cell_type": "code",
   "execution_count": null,
   "metadata": {},
   "outputs": [],
   "source": [
    "print(\"\\t\\t% of 1 in the columns\")\n",
    "print(\"\\t- - - - - - - - - - - - - - - - - - - \")\n",
    "print(\"\\t\\t% de 1 en las columnas\")\n",
    "round(df[binary].sum() *100 / len(df) , 2)"
   ]
  },
  {
   "cell_type": "code",
   "execution_count": null,
   "metadata": {},
   "outputs": [],
   "source": [
    "dp = list()\n",
    "for x in binary:\n",
    "    if (round(df[x].sum() *100 / len(df) , 2) < 10.0) == True:\n",
    "        dp.append(x)"
   ]
  },
  {
   "cell_type": "code",
   "execution_count": null,
   "metadata": {},
   "outputs": [],
   "source": [
    "df_mod = df.drop(dp, axis=1)\n",
    "dfOut_mod = dfOut.drop(dp, axis=1)\n",
    "test_mod = test.drop(dp, axis=1)\n",
    "testOut_mod = testOut.drop(dp, axis=1)\n"
   ]
  },
  {
   "cell_type": "markdown",
   "metadata": {},
   "source": [
    "For the first model, we'll use:\n",
    "\n",
    "*------*\n",
    "\n",
    "Para el primer modelo, vamos a usar:"
   ]
  },
  {
   "cell_type": "code",
   "execution_count": null,
   "metadata": {},
   "outputs": [],
   "source": [
    "df.head()"
   ]
  },
  {
   "cell_type": "markdown",
   "metadata": {},
   "source": [
    "### Numeric"
   ]
  },
  {
   "cell_type": "code",
   "execution_count": null,
   "metadata": {},
   "outputs": [],
   "source": [
    "numeric = [\"count_floors_pre_eq\", \"age\" , \"area_percentage\" , \"height_percentage\", \"count_families\"]"
   ]
  },
  {
   "cell_type": "markdown",
   "metadata": {},
   "source": [
    "#### Count floors pre earthquake"
   ]
  },
  {
   "cell_type": "markdown",
   "metadata": {},
   "source": [
    "Number of floors in the building before the earthquake.\n",
    "\n",
    "*------*\n",
    "\n",
    "Numero de plantas del edificio pre terremoto."
   ]
  },
  {
   "cell_type": "code",
   "execution_count": null,
   "metadata": {},
   "outputs": [],
   "source": [
    "sns.catplot(data = df , x = numeric[0] , kind= 'count', hue='damage_grade')\n",
    "plt.show()"
   ]
  },
  {
   "cell_type": "code",
   "execution_count": null,
   "metadata": {},
   "outputs": [],
   "source": [
    "df[numeric[0]] = df[numeric[0]].apply(lambda x: x if x<3 else 3)\n",
    "dfOut[numeric[0]] = dfOut[numeric[0]].apply(lambda x: x if x<3 else 3)\n",
    "test[numeric[0]] = test[numeric[0]].apply(lambda x: x if x<3 else 3)"
   ]
  },
  {
   "cell_type": "code",
   "execution_count": null,
   "metadata": {},
   "outputs": [],
   "source": [
    "sns.catplot(data = df , x = numeric[0] , kind= 'count', hue='damage_grade')\n",
    "plt.show()"
   ]
  },
  {
   "cell_type": "markdown",
   "metadata": {},
   "source": [
    "#### Age"
   ]
  },
  {
   "cell_type": "markdown",
   "metadata": {},
   "source": [
    "Age of the building in years.\n",
    "\n",
    "*------*\n",
    "\n",
    "Edad del edificio en años."
   ]
  },
  {
   "cell_type": "code",
   "execution_count": null,
   "metadata": {},
   "outputs": [],
   "source": [
    "sns.catplot(data = dfOut , x = numeric[1] , kind= 'count', hue='damage_grade', height=8)\n",
    "plt.show()"
   ]
  },
  {
   "cell_type": "code",
   "execution_count": null,
   "metadata": {},
   "outputs": [],
   "source": [
    "dfOut[numeric[1]].value_counts()"
   ]
  },
  {
   "cell_type": "markdown",
   "metadata": {},
   "source": [
    "Needs robust scaler"
   ]
  },
  {
   "cell_type": "markdown",
   "metadata": {},
   "source": [
    "Normalized area and height of the building footprint.\n",
    "\n",
    "*------*\n",
    "\n",
    "Superficie y altura normalizadas de la huella del edificio."
   ]
  },
  {
   "cell_type": "markdown",
   "metadata": {},
   "source": [
    "#### Count Families"
   ]
  },
  {
   "cell_type": "markdown",
   "metadata": {},
   "source": [
    "Number of families that live in the building.\n",
    "\n",
    "*-------*\n",
    "\n",
    "Numero de familias que viven en el edificio."
   ]
  },
  {
   "cell_type": "code",
   "execution_count": null,
   "metadata": {},
   "outputs": [],
   "source": [
    "sns.catplot(data = df , x = numeric[4] , kind= 'count', hue='damage_grade')\n",
    "plt.show()"
   ]
  },
  {
   "cell_type": "code",
   "execution_count": null,
   "metadata": {},
   "outputs": [],
   "source": [
    "df[numeric[4]] = df[numeric[4]].apply(lambda x: x if x<2 else 2)\n",
    "dfOut[numeric[4]] = dfOut[numeric[4]].apply(lambda x: x if x<2 else 2)\n",
    "test[numeric[4]] = test[numeric[4]].apply(lambda x: x if x<2 else 2)"
   ]
  },
  {
   "cell_type": "code",
   "execution_count": null,
   "metadata": {},
   "outputs": [],
   "source": [
    "sns.catplot(data = df , x = numeric[4] , kind= 'count', hue='damage_grade')\n",
    "plt.show()"
   ]
  },
  {
   "cell_type": "markdown",
   "metadata": {},
   "source": [
    "## Chapter 3: Experimentation"
   ]
  },
  {
   "cell_type": "markdown",
   "metadata": {},
   "source": [
    "### First models: Evaluating and comparing models"
   ]
  },
  {
   "cell_type": "code",
   "execution_count": null,
   "metadata": {},
   "outputs": [],
   "source": [
    "target = 'damage_grade'\n",
    "numeric = [ \"age\" ,'prob1_geo1','prob1_geo2','prob1_geo3','prob2_geo1','prob2_geo2','prob2_geo3','prob3_geo1','prob3_geo2','prob3_geo3']\n",
    "categorical = ['clusters','roof_type',\"area_percentage\" , \"height_percentage\",\"count_floors_pre_eq\", \"count_families\",'foundation_type','ground_floor_type','has_secondary_use','has_superstructure_mud_mortar_stone','has_superstructure_timber','land_surface_condition','other_floor_type','position']"
   ]
  },
  {
   "cell_type": "code",
   "execution_count": null,
   "metadata": {},
   "outputs": [],
   "source": [
    "set(df_mod.columns) - set([target]) - set(numeric) - set(categorical)"
   ]
  },
  {
   "cell_type": "code",
   "execution_count": null,
   "metadata": {},
   "outputs": [],
   "source": [
    "escaler = RobustScaler().fit(df[numeric])\n",
    "escalerOut = RobustScaler().fit(dfOut[numeric])"
   ]
  },
  {
   "cell_type": "code",
   "execution_count": null,
   "metadata": {},
   "outputs": [],
   "source": [
    "df[numeric] = escaler.transform(df[numeric])\n",
    "test[numeric] = escaler.transform(test[numeric])\n",
    "\n",
    "dfOut[numeric] = escalerOut.transform(dfOut[numeric])\n",
    "testOut[numeric] = escalerOut.transform(testOut[numeric])"
   ]
  },
  {
   "cell_type": "code",
   "execution_count": null,
   "metadata": {},
   "outputs": [],
   "source": [
    "X_train, X_test, y_train, y_test = df_split(df.drop(columns = [target,'outliers']), df[target],random_state = 1995)\n",
    "X_trainO, X_testO, y_trainO, y_testO = df_split(dfOut.drop(columns = [target,'outliers']), dfOut[target],random_state = 1995)"
   ]
  },
  {
   "cell_type": "markdown",
   "metadata": {},
   "source": [
    "#### Compare distinct models"
   ]
  },
  {
   "cell_type": "markdown",
   "metadata": {},
   "source": [
    "We are going to compare the distinct type of classifiers for select the better options and for each selected model do hyperparameter tunning.\n",
    "\n",
    "*-----*\n",
    "\n",
    "Vamos a comparar los distintos tipos de clasificadores para seleccionar la mejor option y para cada uno de estos hacer el tuneado de los hiperparámetros."
   ]
  },
  {
   "cell_type": "code",
   "execution_count": null,
   "metadata": {},
   "outputs": [],
   "source": [
    "seed = 1995\n",
    "models = []\n",
    "models.append(('LR'     , LogisticRegression(random_state=seed)))\n",
    "models.append(('LDA'    , LinearDiscriminantAnalysis()))\n",
    "models.append(('KNN'    , KNeighborsClassifier()))\n",
    "models.append(('DTC'    , DecisionTreeClassifier(random_state=seed)))\n",
    "models.append(('NB'     , GaussianNB()))\n",
    "models.append(('RFC'    , RandomForestClassifier(random_state=seed)))\n",
    "models.append(('EXT'    , ExtraTreesClassifier(random_state = seed)))\n",
    "models.append(('LGBM'   , LGBMClassifier(random_state=seed)))"
   ]
  },
  {
   "cell_type": "code",
   "execution_count": null,
   "metadata": {},
   "outputs": [],
   "source": [
    "results = []\n",
    "names = []\n",
    "metric = 'f1_micro'\n",
    "\n",
    "for name, model in models:\n",
    "\n",
    "    cv_results = cross_val_score(model, X_trainO, y_trainO, cv =5, scoring = metric)\n",
    "\n",
    "    msg = \"%s: %f (%f)\" % (name, cv_results.mean(), cv_results.std())\n",
    "    print(msg)\n",
    "\n",
    "    results.append(cv_results)\n",
    "    names.append(name)\n",
    "    \n",
    "boxplots_algorithms(results, names)"
   ]
  },
  {
   "cell_type": "code",
   "execution_count": null,
   "metadata": {},
   "outputs": [],
   "source": [
    "seed = 1995\n",
    "models = []\n",
    "models.append(('LDA'    , LinearDiscriminantAnalysis()))\n",
    "models.append(('RFC'    , RandomForestClassifier(random_state=seed)))\n",
    "models.append(('EXT'    , ExtraTreesClassifier(random_state = seed)))\n",
    "models.append(('LGBM'   , LGBMClassifier(random_state=seed)))\n",
    "\n",
    "results = []\n",
    "names = []\n",
    "metric = 'f1_micro'\n",
    "\n",
    "for name, model in models:\n",
    "\n",
    "    cv_results = cross_val_score(model, X_trainO, y_trainO, cv =5, scoring = metric)\n",
    "\n",
    "    msg = \"%s: %f (%f)\" % (name, cv_results.mean(), cv_results.std())\n",
    "    print(msg)\n",
    "\n",
    "    results.append(cv_results)\n",
    "    names.append(name)\n",
    "    \n",
    "boxplots_algorithms(results, names)"
   ]
  },
  {
   "cell_type": "markdown",
   "metadata": {},
   "source": [
    "#### Model 1: Linear discriminant analysis"
   ]
  },
  {
   "cell_type": "markdown",
   "metadata": {},
   "source": [
    "Linear discriminant analysis is the most easy way to explain the models. We can get the coefs and with this coefs explain the predictions.\n",
    "\n",
    "*-----*\n",
    "\n",
    "Analisis discriminantes es la forma más fácil de explicar modelos. Ya que nos devuelve los distintos coeficientes que nos ayudan a explicar las prediccioes. "
   ]
  },
  {
   "cell_type": "code",
   "execution_count": null,
   "metadata": {},
   "outputs": [],
   "source": [
    "param = {\n",
    "    'solver' : ['svd', 'lsqr', 'eigen'] \n",
    "}\n",
    "\n",
    "CVLRmodel = LinearDiscriminantAnalysis()\n",
    "\n",
    "gridLDA = GridSearchCV( estimator = CVLRmodel,\n",
    "                        param_grid = param,\n",
    "                        scoring = 'f1_micro',\n",
    "                        n_jobs = -1,\n",
    "                        refit = True,\n",
    "                        cv = 5,\n",
    "                        verbose = 1,\n",
    "                        return_train_score = True)\n",
    "\n",
    "gridLDA.fit(X_trainO,y_trainO)"
   ]
  },
  {
   "cell_type": "code",
   "execution_count": null,
   "metadata": {},
   "outputs": [],
   "source": [
    "prediccionesLDA = gridLDA.predict(X = X_testO)\n",
    "\n",
    "f1score0 = f1_score(\n",
    "        y_true  = y_testO,\n",
    "        y_pred  = prediccionesLDA,\n",
    "        average = 'micro'\n",
    "    )\n",
    "\n",
    "print(f\"El f1 score de test es: {round(f1score0,3)} con outliers\")"
   ]
  },
  {
   "cell_type": "code",
   "execution_count": null,
   "metadata": {},
   "outputs": [],
   "source": [
    "test_copy = testOut.copy()\n",
    "\n",
    "prediccionesLDA = gridLDA.predict(test_copy)\n",
    "test_copy['damage_grade'] = prediccionesLDA\n",
    "test_copy[['building_id','damage_grade']].to_csv(\"../predictions/predLDAmodel1.csv\", index = False)"
   ]
  },
  {
   "cell_type": "markdown",
   "metadata": {},
   "source": [
    "I took 0.7203 score in drivenData platform. Now we have try with the other models.\n",
    "\n",
    "*----*\n",
    "\n",
    "Obtuve 0.7203 de score en la plataforma de drivenData. Ahora vamos a probar con otros modelos."
   ]
  },
  {
   "cell_type": "markdown",
   "metadata": {},
   "source": [
    "#### Model 2: RandomForest"
   ]
  },
  {
   "cell_type": "code",
   "execution_count": null,
   "metadata": {},
   "outputs": [],
   "source": [
    "modelo = RandomForestClassifier(\n",
    "            n_estimators = 150,\n",
    "            criterion    = 'gini',\n",
    "            max_depth    = 10,\n",
    "            max_features = 'auto',\n",
    "            n_jobs       = -1,\n",
    "            random_state = 1995)\n",
    "\n",
    "\n",
    "modeloOut = RandomForestClassifier(\n",
    "            n_estimators = 150,\n",
    "            criterion    = 'gini',\n",
    "            max_depth    = 10,\n",
    "            max_features = 'auto',\n",
    "            n_jobs       = -1,\n",
    "            random_state = 1995)"
   ]
  },
  {
   "cell_type": "code",
   "execution_count": null,
   "metadata": {},
   "outputs": [],
   "source": [
    "modelo.fit(X_train, y_train) , modeloOut.fit(X_trainO, y_trainO)"
   ]
  },
  {
   "cell_type": "code",
   "execution_count": null,
   "metadata": {},
   "outputs": [],
   "source": [
    "# Error de test del modelo inicial\n",
    "# ==============================================================================\n",
    "predicciones = modelo.predict(X = X_test)\n",
    "\n",
    "f1score1 = f1_score(\n",
    "        y_true  = y_test,\n",
    "        y_pred  = predicciones,\n",
    "        average = 'micro'\n",
    "       )\n",
    "print(f\"El f1 score de test es: {round(f1score1,3)} con outliers\")"
   ]
  },
  {
   "cell_type": "code",
   "execution_count": null,
   "metadata": {},
   "outputs": [],
   "source": [
    "test1 = test.copy()\n",
    "testOut1 = testOut.copy()\n",
    "\n",
    "\n",
    "predicciones = modelo.predict(test1)\n",
    "test['damage_grade'] = predicciones\n",
    "test[['building_id','damage_grade']].to_csv(\"../predictions/predETCmodel1.csv\", index = False)\n",
    "\n",
    "\n",
    "prediccionesOut = modeloOut.predict(testOut1)\n",
    "testOut['damage_grade'] = prediccionesOut\n",
    "testOut[['building_id','damage_grade']].to_csv(\"../predictions/predOutETCmodel1.csv\", index = False)"
   ]
  },
  {
   "cell_type": "markdown",
   "metadata": {},
   "source": [
    "Now we have a first point to improve. The next steps are:\n",
    "    \n",
    "    - Tunning the model\n",
    "  \n",
    "    - Compare with other algorithms\n",
    "  \n",
    "    - Improve our featuring engineering, for exmple, changing the clustering.\n",
    "  "
   ]
  },
  {
   "cell_type": "code",
   "execution_count": null,
   "metadata": {},
   "outputs": [],
   "source": [
    "print(\"Model with outliers\")\n",
    "pred_model1 = img_reshape_more('/prediccions/one.jpg')\n",
    "plt.imshow(np.asarray(pred_model1))\n",
    "plt.axis('off')\n",
    "plt.show()"
   ]
  },
  {
   "cell_type": "code",
   "execution_count": null,
   "metadata": {},
   "outputs": [],
   "source": [
    "print(\"Model without outliers\")\n",
    "pred_model1 = img_reshape_more('/prediccions/oneOut.jpg')\n",
    "plt.imshow(np.asarray(pred_model1))\n",
    "plt.axis('off')\n",
    "plt.show()"
   ]
  },
  {
   "cell_type": "markdown",
   "metadata": {},
   "source": [
    "##### Hyperparameter tunning: Num estimators"
   ]
  },
  {
   "cell_type": "markdown",
   "metadata": {},
   "source": [
    "We are going to use a loop for training the diferent models with each n_estimador value and take train error and Out-of Bag value. It'll permit us choose the best parameter option for our dataframe.\n",
    "It's important choose the less number of trees with the best score, more trees wont improve our power prediction but it will make us don't have the best performance.\n",
    "\n",
    "*------*\n",
    "\n",
    "Vamos a utilizar un bucle para entrenar los diferentes moderlos con cada uno de los valores de los estimadores y cogeremos el error y el valor Out.of-bag. Esto nos va a permitir elegir la mejor opcion de parámetros para nuestro conjunto de datos. Es importante elegir el menor número de árboles con el mayor score, más arboles no implica mayor poder predictivo, pero si que hará empeorar nuestro performance."
   ]
  },
  {
   "cell_type": "code",
   "execution_count": null,
   "metadata": {},
   "outputs": [],
   "source": [
    "train_scores = []\n",
    "oob_scores   = []\n",
    "\n",
    "estimator_range = range(1, 200, 25)\n",
    "\n",
    "# Loop for training models with each n_estimator value and take\n",
    "# train error and Out-of-Bag value.\n",
    "for n_estimators in estimator_range:\n",
    "    model = RandomForestClassifier(\n",
    "                n_estimators = n_estimators,\n",
    "                criterion    = 'gini',\n",
    "                max_depth    = 10,\n",
    "                max_features = 'auto',\n",
    "                bootstrap    = True,\n",
    "                oob_score    = True,\n",
    "                n_jobs       = -1,\n",
    "                random_state = 1995\n",
    "             )\n",
    "\n",
    "    model.fit(X_train, y_train)\n",
    "    train_scores.append(model.score(X_train, y_train))\n",
    "    oob_scores.append(model.oob_score_)\n",
    "    \n",
    "# Graph for analize the error\n",
    "fig, ax = plt.subplots(figsize=(6, 3.84))\n",
    "ax.plot(estimator_range, train_scores, label=\"train scores\")\n",
    "ax.plot(estimator_range, oob_scores, label=\"out-of-bag scores\")\n",
    "ax.plot(estimator_range[np.argmax(oob_scores)], max(oob_scores),\n",
    "        marker='o', color = \"red\", label=\"max score\")\n",
    "ax.set_xlabel(\"n_estimators\")\n",
    "ax.set_title(\"Evolution out-of-bag-error vs num estimators\")\n",
    "plt.legend();\n",
    "print(f\"Best value of n_estimators: {estimator_range[np.argmax(oob_scores)]}\")"
   ]
  },
  {
   "cell_type": "markdown",
   "metadata": {},
   "source": [
    "Now we will use cross validation with f1 score. \n",
    "\n",
    "*-----*\n",
    "\n",
    "Ahora vamos a utilizar cross validation con la métrica f1."
   ]
  },
  {
   "cell_type": "code",
   "execution_count": null,
   "metadata": {},
   "outputs": [],
   "source": [
    "# CV validation\n",
    "# ==============================================================================\n",
    "estimator_range = range(1, 100, 20)\n",
    "cv_scores = []\n",
    "for n_estimators in estimator_range:\n",
    "    \n",
    "    modelo = RandomForestClassifier(\n",
    "                n_estimators = n_estimators,\n",
    "                criterion    = 'gini',\n",
    "                max_depth    = 10,\n",
    "                max_features = 'auto',\n",
    "                bootstrap    = True,\n",
    "                oob_score    = True,\n",
    "                n_jobs       = -1,\n",
    "                random_state = 1995\n",
    "             )\n",
    "    scores = cross_val_score(\n",
    "                estimator = modelo,\n",
    "                X         = X_train,\n",
    "                y         = y_train,\n",
    "                scoring   = 'f1_micro',\n",
    "                cv        = 5\n",
    "             )   \n",
    "    cv_scores.append(scores.mean())\n",
    "\n",
    "print(f\"Best value of n_estimators: {estimator_range[np.argmax(cv_scores)]}\")"
   ]
  },
  {
   "cell_type": "markdown",
   "metadata": {},
   "source": [
    "We should take around 50 and 60 trees.\n",
    "\n",
    "*-----*\n",
    "\n",
    "Debemos coger entre 50 y 60 árboles."
   ]
  },
  {
   "cell_type": "markdown",
   "metadata": {},
   "source": [
    "##### Hyperparameter tunning: Max features"
   ]
  },
  {
   "cell_type": "code",
   "execution_count": null,
   "metadata": {},
   "outputs": [],
   "source": [
    "# CV validation\n",
    "# ==============================================================================\n",
    "max_features_range = range(1, X_train.shape[1] + 1, 1)\n",
    "cv_scores = []\n",
    "for max_features in max_features_range:\n",
    "    \n",
    "    modelo = RandomForestClassifier(\n",
    "                n_estimators = 55,\n",
    "                criterion    = 'gini',\n",
    "                max_depth    = 10,\n",
    "                max_features = max_features,\n",
    "                bootstrap    = True,\n",
    "                oob_score    = True,\n",
    "                n_jobs       = -1,\n",
    "                random_state = 1995\n",
    "             )\n",
    "    scores = cross_val_score(\n",
    "                estimator = modelo,\n",
    "                X         = X_train,\n",
    "                y         = y_train,\n",
    "                scoring   = 'f1_micro',\n",
    "                cv        = 5\n",
    "             )   \n",
    "    cv_scores.append(scores.mean())\n",
    "\n",
    "    \n",
    "print(f\"Best value of n_estimators: {max_features_range[np.argmax(cv_scores)]}\")"
   ]
  },
  {
   "cell_type": "code",
   "execution_count": null,
   "metadata": {},
   "outputs": [],
   "source": [
    "modeloSte = RandomForestClassifier(\n",
    "            n_estimators = 55,\n",
    "            criterion    = 'gini',\n",
    "            max_depth    = 10,\n",
    "            max_features = 46,\n",
    "            n_jobs       = -1,\n",
    "            random_state = 1995)\n",
    "\n",
    "\n",
    "modeloSteOut = RandomForestClassifier(\n",
    "            n_estimators = 55,\n",
    "            criterion    = 'gini',\n",
    "            max_depth    = 10,\n",
    "            max_features = 46,\n",
    "            n_jobs       = -1,\n",
    "            random_state = 1995)"
   ]
  },
  {
   "cell_type": "code",
   "execution_count": null,
   "metadata": {},
   "outputs": [],
   "source": [
    "modeloSte.fit(X_train, y_train) , modeloSteOut.fit(X_trainO, y_trainO)"
   ]
  },
  {
   "cell_type": "code",
   "execution_count": null,
   "metadata": {},
   "outputs": [],
   "source": [
    "# Error de test del modelo inicial\n",
    "# ==============================================================================\n",
    "predicciones = modeloSte.predict(X = X_test)\n",
    "\n",
    "f1score1 = f1_score(\n",
    "        y_true  = y_test,\n",
    "        y_pred  = predicciones,\n",
    "        average = 'micro'\n",
    "       )\n",
    "print(f\"El f1 score de test es: {f1score1} con outliers\")"
   ]
  },
  {
   "cell_type": "code",
   "execution_count": null,
   "metadata": {},
   "outputs": [],
   "source": [
    "test1 = test.copy()\n",
    "testOut1 = testOut.copy()\n",
    "\n",
    "predicciones = modeloSte.predict(test1)\n",
    "test['damage_grade'] = predicciones\n",
    "test[['building_id','damage_grade']].to_csv(\"../predictions/predETCmodel2.csv\", index = False)\n",
    "\n",
    "\n",
    "prediccionesOut = modeloSteOut.predict(testOut1)\n",
    "testOut['damage_grade'] = prediccionesOut\n",
    "testOut[['building_id','damage_grade']].to_csv(\"../predictions/predOutETCmodel2.csv\", index = False)"
   ]
  },
  {
   "cell_type": "code",
   "execution_count": null,
   "metadata": {},
   "outputs": [],
   "source": [
    "print(\"Model without outliers\")\n",
    "pred_model1 = img_reshape_more('/prediccions/twoOut.jpg')\n",
    "plt.imshow(np.asarray(pred_model1))\n",
    "plt.axis('off')\n",
    "plt.show()"
   ]
  },
  {
   "cell_type": "markdown",
   "metadata": {},
   "source": [
    "##### Hyperparameter tunning: Grid search"
   ]
  },
  {
   "cell_type": "code",
   "execution_count": null,
   "metadata": {},
   "outputs": [],
   "source": [
    "# Hyperparameter Grid\n",
    "# ==============================================================================\n",
    "param_grid = {'n_estimators': [50,55,60],\n",
    "              'max_features': [46,None],\n",
    "              'max_depth'   : [None, 3,5,10],\n",
    "              'criterion'   : ['gini']\n",
    "             }\n",
    "\n",
    "# Grid serach CV \n",
    "# ==============================================================================\n",
    "gridRF = GridSearchCV(\n",
    "        estimator  = RandomForestClassifier(random_state = 1995),\n",
    "        param_grid = param_grid,\n",
    "        scoring    = 'f1_micro',\n",
    "        n_jobs     = multiprocessing.cpu_count() - 1,\n",
    "        cv         = RepeatedKFold(n_splits=5, n_repeats=3, random_state=1995), \n",
    "        refit      = True,\n",
    "        verbose    = 1,\n",
    "        return_train_score = True\n",
    "       )\n",
    "\n",
    "gridRF.fit(X = X_trainO, y = y_trainO)"
   ]
  },
  {
   "cell_type": "code",
   "execution_count": null,
   "metadata": {},
   "outputs": [],
   "source": [
    "grid.best_estimator_"
   ]
  },
  {
   "cell_type": "code",
   "execution_count": null,
   "metadata": {},
   "outputs": [],
   "source": [
    "modeloHyperOut = ExtraTreesClassifier(\n",
    "            n_estimators = 50,\n",
    "            criterion    = 'gini',\n",
    "            max_depth    = 10,\n",
    "            max_features = 46,\n",
    "            n_jobs       = -1,\n",
    "            random_state = 1995)"
   ]
  },
  {
   "cell_type": "code",
   "execution_count": null,
   "metadata": {},
   "outputs": [],
   "source": [
    "modeloHyperOut.fit(X_trainO,y_trainO)"
   ]
  },
  {
   "cell_type": "code",
   "execution_count": null,
   "metadata": {},
   "outputs": [],
   "source": [
    "testOut2 = testOut.drop(\"damage_grade\",axis=1).copy()\n",
    "\n",
    "prediccionesOut = modeloHyperOut.predict(testOut2)\n",
    "testOut2['damage_grade'] = prediccionesOut\n",
    "testOut2[['building_id','damage_grade']].to_csv(\"../predictions/predOutETCmodel3.csv\", index = False)"
   ]
  },
  {
   "cell_type": "code",
   "execution_count": null,
   "metadata": {},
   "outputs": [],
   "source": [
    "print(\"Model without outliers\")\n",
    "pred_model1 = img_reshape_more('/prediccions/threeOut.jpg')\n",
    "plt.imshow(np.asarray(pred_model1))\n",
    "plt.axis('off')\n",
    "plt.show()"
   ]
  },
  {
   "cell_type": "markdown",
   "metadata": {},
   "source": [
    "#### Model 3: LightGBM Classifier "
   ]
  },
  {
   "cell_type": "markdown",
   "metadata": {},
   "source": [
    "##### Num estimators"
   ]
  },
  {
   "cell_type": "code",
   "execution_count": null,
   "metadata": {},
   "outputs": [],
   "source": [
    "train_scores = []\n",
    "f1_scores   = []\n",
    "estimator_range = range(25, 500, 25)\n",
    "# Loop for training models with each n_estimator value and take\n",
    "# train error and f1 score\n",
    "for n_estimators in estimator_range:\n",
    "    model = LGBMClassifier(boosting_type = 'gbdt', \n",
    "                    learning_rate=0.01, \n",
    "                    max_depth=10, \n",
    "                    n_estimators= n_estimators, \n",
    "                    n_jobs =-1, \n",
    "                    num_leaves=124, \n",
    "                    objective='multiclass',\n",
    "                    random_state=1995)\n",
    "\n",
    "    model.fit(X_trainO, y_trainO)\n",
    "    train_scores.append(model.score(X_trainO, y_trainO))\n",
    "    \n",
    "    predicciones = model.predict(X = X_testO)\n",
    "\n",
    "    f1score1 = f1_score(\n",
    "            y_true  = y_testO,\n",
    "            y_pred  = predicciones,\n",
    "            average = 'micro'\n",
    "        )\n",
    "    f1_scores.append(f1score1)\n",
    "# Graph for analize the error\n",
    "fig, ax = plt.subplots(figsize=(6, 3.84))\n",
    "ax.plot(estimator_range, train_scores, label=\"train scores\")\n",
    "ax.plot(estimator_range, f1_scores, label=\"F1 Score\")\n",
    "ax.plot(estimator_range[np.argmax(f1_scores)], max(f1_scores),\n",
    "        marker='o', color = \"red\", label=\"max score\")\n",
    "ax.set_xlabel(\"n_estimators\")\n",
    "ax.set_title(\"Evolution F1 Score vs num estimators\")\n",
    "plt.legend();\n",
    "print(f\"Best value of n_estimators: {estimator_range[np.argmax(f1_scores)]} with f1 score: {max(f1_scores)}\")"
   ]
  },
  {
   "cell_type": "markdown",
   "metadata": {},
   "source": [
    "We are going to try with this num estimators.\n",
    "\n",
    "*-----*\n",
    "\n",
    "Vamos a probar con esta cantidad de estimadores."
   ]
  },
  {
   "cell_type": "code",
   "execution_count": null,
   "metadata": {},
   "outputs": [],
   "source": [
    "modeloLGBMOut = LGBMClassifier(boosting_type = 'gbdt', \n",
    "                    learning_rate=0.01, \n",
    "                    max_depth=10, \n",
    "                    n_estimators= 425, \n",
    "                    n_jobs =-1, \n",
    "                    num_leaves=124, \n",
    "                    objective='multiclass',\n",
    "                    random_state=1995)"
   ]
  },
  {
   "cell_type": "code",
   "execution_count": null,
   "metadata": {},
   "outputs": [],
   "source": [
    "modeloLGBMOut.fit(X_trainO,y_trainO)"
   ]
  },
  {
   "cell_type": "code",
   "execution_count": null,
   "metadata": {},
   "outputs": [],
   "source": [
    "testOut3 = testOut.copy()\n",
    "\n",
    "prediccionesOut = modeloLGBMOut.predict(testOut3)\n",
    "testOut3['damage_grade'] = prediccionesOut\n",
    "testOut3[['building_id','damage_grade']].to_csv(\"../predictions/predOutLGBMmodel1.csv\", index = False)"
   ]
  },
  {
   "cell_type": "code",
   "execution_count": null,
   "metadata": {},
   "outputs": [],
   "source": [
    "print(\"Model without outliers\")\n",
    "pred_model1 = img_reshape_more('/prediccions/threeOut.jpg')\n",
    "plt.imshow(np.asarray(pred_model1))\n",
    "plt.axis('off')\n",
    "plt.show()"
   ]
  },
  {
   "cell_type": "markdown",
   "metadata": {},
   "source": [
    "##### Searchgrid CV"
   ]
  },
  {
   "cell_type": "code",
   "execution_count": null,
   "metadata": {},
   "outputs": [],
   "source": [
    "# Hyperparameter Grid\n",
    "# ==============================================================================\n",
    "param_grid = {'n_estimators': [400,425,450],\n",
    "              'num_leaves'  : [10,35,135],\n",
    "              'max_depth'   : [-1,5,10],\n",
    "              'learning_rate':[0.01]\n",
    "             }\n",
    "\n",
    "# Grid serach CV \n",
    "# ==============================================================================\n",
    "gridLGBM = GridSearchCV(\n",
    "        estimator  = LGBMClassifier(boosting_type = 'gbdt', \n",
    "                    learning_rate=0.01, \n",
    "                    max_depth=10, \n",
    "                    n_jobs =-1,  \n",
    "                    objective='multiclass',\n",
    "                    random_state=1995),\n",
    "        param_grid = param_grid,\n",
    "        scoring    = 'f1_micro',\n",
    "        cv         = RepeatedKFold(n_splits=5, n_repeats=3, random_state=1995), \n",
    "        refit      = True,\n",
    "        verbose    = 0,\n",
    "        return_train_score = True\n",
    "       )\n",
    "\n",
    "gridLGBM.fit(X = X_trainO, y = y_trainO)"
   ]
  },
  {
   "cell_type": "code",
   "execution_count": null,
   "metadata": {},
   "outputs": [],
   "source": [
    "gridLGBM.best_estimator_"
   ]
  },
  {
   "cell_type": "code",
   "execution_count": null,
   "metadata": {},
   "outputs": [],
   "source": [
    "modelLGBM =  LGBMClassifier(boosting_type = 'gbdt', \n",
    "                    learning_rate=0.01, \n",
    "                    max_depth=10, \n",
    "                    n_estimators= 450, \n",
    "                    n_jobs =-1, \n",
    "                    num_leaves=135, \n",
    "                    objective='multiclass',\n",
    "                    random_state=1995)\n",
    "\n",
    "modelLGBM.fit(X_trainO, y_trainO)\n",
    "\n",
    "prediccionesLGBM = modelLGBM.predict(X = X_testO)\n",
    "\n",
    "f1score1 = f1_score(\n",
    "        y_true  = y_testO,\n",
    "        y_pred  = prediccionesLGBM,\n",
    "        average = 'micro'\n",
    "    )"
   ]
  },
  {
   "cell_type": "code",
   "execution_count": null,
   "metadata": {},
   "outputs": [],
   "source": [
    "testOut4 = testOut.copy()\n",
    "\n",
    "prediccionesLGBM = modelLGBM.predict(testOut4)\n",
    "testOut4['damage_grade'] = prediccionesLGBM\n",
    "testOut4[['building_id','damage_grade']].to_csv(\"../predictions/predOutLGBMmodel2.csv\", index = False)"
   ]
  },
  {
   "cell_type": "code",
   "execution_count": null,
   "metadata": {},
   "outputs": [],
   "source": [
    "print(\"LGBM hyperparameter tunning\")\n",
    "pred_model1 = img_reshape_more('/prediccions/threeOutLGBMHYPER.jpg')\n",
    "plt.imshow(np.asarray(pred_model1))\n",
    "plt.axis('off')\n",
    "plt.show()"
   ]
  },
  {
   "cell_type": "markdown",
   "metadata": {},
   "source": [
    "## Chapter 4: Featuring Engineering and selection (part 2)"
   ]
  },
  {
   "cell_type": "markdown",
   "metadata": {},
   "source": [
    "Now we are going to try a better featuring engineering, improving the transformations.\n",
    "\n",
    "*----*\n",
    "\n",
    "Ahora vamos a tratar de mejorar el featuring engineering, mejorando las transformaciones. "
   ]
  },
  {
   "cell_type": "code",
   "execution_count": 6,
   "metadata": {},
   "outputs": [],
   "source": [
    "#Train\n",
    "train = pd.read_csv(\"../data/train_values.csv\")\n",
    "trainTar = pd.read_csv(\"../data/train_labels.csv\")\n",
    "df = train.merge(trainTar , on= \"building_id\" , how= \"left\")\n",
    "\n",
    "#Test\n",
    "test = pd.read_csv(\"../data/test_values.csv\")\n",
    "\n",
    "\n",
    "#Probabilities\n",
    "df, test = probabilities(df,test,1)\n",
    "df, test = probabilities(df,test,2)\n",
    "df, test = probabilities(df,test,3)"
   ]
  },
  {
   "cell_type": "code",
   "execution_count": 7,
   "metadata": {},
   "outputs": [],
   "source": [
    "## Checkpoint\n",
    "#df.to_csv(\"../data/trainProb.csv\", index = False)\n",
    "#test.to_csv(\"../data/testProb.csv\", index = False)\n",
    "\n",
    "#df = pd.read_csv(\"../data/trainProb.csv\")\n",
    "#test = pd.read_csv(\"../data/testProb.csv\")\n",
    "\n",
    "target = 'damage_grade'\n",
    "numeric = [ \"age\" ,\"area_percentage\" , \"height_percentage\",'prob1_geo1','prob1_geo2','prob1_geo3','prob2_geo1','prob2_geo2','prob2_geo3','prob3_geo1','prob3_geo2','prob3_geo3']\n",
    "categorical = ['roof_type',\"count_floors_pre_eq\", \"count_families\",'foundation_type','ground_floor_type','has_secondary_use','has_superstructure_mud_mortar_stone','has_superstructure_timber','land_surface_condition','other_floor_type','position']"
   ]
  },
  {
   "cell_type": "markdown",
   "metadata": {},
   "source": [
    "### Featuring Engineering"
   ]
  },
  {
   "cell_type": "markdown",
   "metadata": {},
   "source": [
    "#### Numeric Columns"
   ]
  },
  {
   "cell_type": "markdown",
   "metadata": {},
   "source": [
    "We are trying to solve the outliers problem without drop this rows. The steps that I'm going to follow are:\n",
    "- Use power tranformers like (Box-Cox).\n",
    "- Re-category poorly represented groups.\n",
    "- Change kluster number.\n",
    "- Use robust-scaler.\n",
    "  \n",
    "*-----*\n",
    "\n",
    "Vamos a tratar de resolver el problema de los outliers sin eliminar las filas. Los pasos a seguir serán:\n",
    "- Usar power transformer como Box.Cox.\n",
    "- Re-categorizar los grupos mal representados.\n",
    "- Cambiar número de clusters. \n",
    "- Usar robus scaler (o min-max scaler)"
   ]
  },
  {
   "cell_type": "markdown",
   "metadata": {},
   "source": [
    "##### New features"
   ]
  },
  {
   "cell_type": "markdown",
   "metadata": {},
   "source": [
    "I see this transformations on gitHub, I'll use it for cluster the geo features"
   ]
  },
  {
   "cell_type": "markdown",
   "metadata": {},
   "source": [
    "[GitHub/ofigue/RichterPrediction](https://github.com/ofigue/RichterPrediction/blob/master/notebooks/Exploration.ipynb)"
   ]
  },
  {
   "cell_type": "code",
   "execution_count": 8,
   "metadata": {},
   "outputs": [],
   "source": [
    "df['CntFloorAge'] = df['count_floors_pre_eq']/(df['age']+0.1)\n",
    "df['CntFloorsArea'] = df['count_floors_pre_eq']/df['area_percentage']\n",
    "df['CntFloorsHeight'] = df['count_floors_pre_eq']/df['height_percentage']\n",
    "df['AreaPerAge'] = df['area_percentage']/(df['age']+0.1)\n",
    "df['HeightPerAge'] = df['height_percentage']/(df['age']+0.1)\n",
    "df['AreaPerHeight'] = df['area_percentage']/df['height_percentage']\n",
    "df['CntFamFloors'] = df['count_families']/df['count_floors_pre_eq']\n",
    "df['CntFamArea'] = df['count_families']/df['area_percentage']\n",
    "df['CntFamHeight'] = df['count_families']/df['height_percentage']"
   ]
  },
  {
   "cell_type": "code",
   "execution_count": 9,
   "metadata": {},
   "outputs": [],
   "source": [
    "test['CntFloorAge'] = test['count_floors_pre_eq']/(test['age']+0.1)\n",
    "test['CntFloorsArea'] = test['count_floors_pre_eq']/test['area_percentage']\n",
    "test['CntFloorsHeight'] = test['count_floors_pre_eq']/test['height_percentage']\n",
    "test['AreaPerAge'] = test['area_percentage']/(test['age']+0.1)\n",
    "test['HeightPerAge'] = test['height_percentage']/(test['age']+0.1)\n",
    "test['AreaPerHeight'] = test['area_percentage']/test['height_percentage']\n",
    "test['CntFamFloors'] = test['count_families']/test['count_floors_pre_eq']\n",
    "test['CntFamArea'] = test['count_families']/test['area_percentage']\n",
    "test['CntFamHeight'] = test['count_families']/test['height_percentage']"
   ]
  },
  {
   "cell_type": "markdown",
   "metadata": {},
   "source": [
    "##### Age"
   ]
  },
  {
   "cell_type": "code",
   "execution_count": 10,
   "metadata": {},
   "outputs": [],
   "source": [
    "df['age_log'] = df['age'].apply(lambda x : 0 if x<=0 else np.log(x))\n",
    "\n",
    "pt = PowerTransformer(method= 'yeo-johnson')\n",
    "df['age_pt'] = pt.fit_transform(df[['age']])"
   ]
  },
  {
   "cell_type": "code",
   "execution_count": null,
   "metadata": {},
   "outputs": [],
   "source": [
    "fig, (ax1, ax2 , ax3) = plt.subplots(3,1, figsize =(15,12))\n",
    "df['age'].hist(ax=ax1, bins=50)\n",
    "ax1.tick_params(labelsize=10)\n",
    "ax1.set_xlabel('age', fontsize=10)\n",
    "ax1.set_ylabel('Occurrence', fontsize=10)\n",
    "\n",
    "df['age_log'].hist(ax=ax2, bins=50)\n",
    "ax2.tick_params(labelsize=10)\n",
    "ax2.set_xlabel('log10(age))', fontsize=10)\n",
    "ax2.set_ylabel('Occurrence', fontsize=10)\n",
    "\n",
    "df['age_pt'].hist(ax=ax3, bins=50)\n",
    "ax3.tick_params(labelsize=10)\n",
    "ax3.set_xlabel('PowerTransform(age))', fontsize=10)\n",
    "ax3.set_ylabel('Occurrence', fontsize=10)\n",
    "\n",
    "fig.show()"
   ]
  },
  {
   "cell_type": "markdown",
   "metadata": {},
   "source": [
    "It seems better the log transformation, but we can check against a normal distribution"
   ]
  },
  {
   "cell_type": "code",
   "execution_count": null,
   "metadata": {},
   "outputs": [],
   "source": [
    "fig2, (ax1, ax2 , ax3) = plt.subplots(3,1, figsize =(12,8))\n",
    "prob1 = stats.probplot(df['age'], dist=stats.norm, plot=ax1)\n",
    "ax1.set_xlabel('')\n",
    "ax1.set_title('Probplot against normal distribution')\n",
    "prob2 = stats.probplot(df['age_log'], dist=stats.norm, plot=ax2)\n",
    "ax2.set_xlabel('')\n",
    "ax2.set_title('Probplot after log transform')\n",
    "prob3 = stats.probplot(df['age_pt'], dist=stats.norm, plot=ax3)\n",
    "ax3.set_xlabel('Theoretical quantiles')\n",
    "ax3.set_title('Probplot after Yeo-Jhonson transform')\n",
    "fig2.show()"
   ]
  },
  {
   "cell_type": "markdown",
   "metadata": {},
   "source": [
    "Seeing this, I think is better the Yeo-Jhonson transform. I'll use it.\n",
    "\n",
    "*---*\n",
    "\n",
    "Viendo este gráfico, parece mejor el yeo-jhonson transform. Usaré este."
   ]
  },
  {
   "cell_type": "code",
   "execution_count": 11,
   "metadata": {},
   "outputs": [],
   "source": [
    "pt = PowerTransformer(method= 'yeo-johnson')\n",
    "test['age_pt'] = pt.fit_transform(test[['age']])"
   ]
  },
  {
   "cell_type": "markdown",
   "metadata": {},
   "source": [
    "##### Area and high percentage"
   ]
  },
  {
   "cell_type": "code",
   "execution_count": 12,
   "metadata": {},
   "outputs": [],
   "source": [
    "df['area_percentage_log'] = df['area_percentage'].apply(lambda x : 0 if x<=0 else np.log(x))\n",
    "\n",
    "pt = PowerTransformer(method= 'yeo-johnson')\n",
    "df['area_percentage_pt'] = pt.fit_transform(df[['area_percentage']])\n",
    "\n",
    "\n",
    "df['height_percentage_log'] = df['height_percentage'].apply(lambda x : 0 if x<=0 else np.log(x))\n",
    "\n",
    "pt = PowerTransformer(method= 'yeo-johnson')\n",
    "df['height_percentage_pt'] = pt.fit_transform(df[['height_percentage']])"
   ]
  },
  {
   "cell_type": "code",
   "execution_count": null,
   "metadata": {},
   "outputs": [],
   "source": [
    "fig, ax = plt.subplots(3,2, figsize =(15,12))\n",
    "df['area_percentage'].hist(ax=ax[0,0], bins=50)\n",
    "ax[0,0].tick_params(labelsize=10)\n",
    "ax[0,0].set_xlabel('area %', fontsize=10)\n",
    "ax[0,0].set_ylabel('Occurrence', fontsize=10)\n",
    "\n",
    "df['height_percentage'].hist(ax=ax[0,1], bins=50)\n",
    "ax[0,1].tick_params(labelsize=10)\n",
    "ax[0,1].set_xlabel('hight %', fontsize=10)\n",
    "ax[0,1].set_ylabel('Occurrence', fontsize=10)\n",
    "\n",
    "\n",
    "\n",
    "df['area_percentage_log'].hist(ax=ax[1,0], bins=50)\n",
    "ax[1,0].tick_params(labelsize=10)\n",
    "ax[1,0].set_xlabel('log10(area %))', fontsize=10)\n",
    "ax[1,0].set_ylabel('Occurrence', fontsize=10)\n",
    "\n",
    "\n",
    "df['height_percentage_log'].hist(ax=ax[1,1], bins=50)\n",
    "ax[1,1].tick_params(labelsize=10)\n",
    "ax[1,1].set_xlabel('log10(hight %))', fontsize=10)\n",
    "ax[1,1].set_ylabel('Occurrence', fontsize=10)\n",
    "\n",
    "df['area_percentage_pt'].hist(ax=ax[2,0], bins=50)\n",
    "ax[2,0].tick_params(labelsize=10)\n",
    "ax[2,0].set_xlabel('PowerTransform(area %))', fontsize=10)\n",
    "ax[2,0].set_ylabel('Occurrence', fontsize=10)\n",
    "\n",
    "\n",
    "df['height_percentage_pt'].hist(ax=ax[2,1], bins=50)\n",
    "ax[2,1].tick_params(labelsize=10)\n",
    "ax[2,1].set_xlabel('PowerTransform(hight %))', fontsize=10)\n",
    "ax[2,1].set_ylabel('Occurrence', fontsize=10)\n",
    "\n",
    "fig.show()"
   ]
  },
  {
   "cell_type": "code",
   "execution_count": null,
   "metadata": {},
   "outputs": [],
   "source": [
    "fig2, ax = plt.subplots(3,2, figsize =(15,12))\n",
    "prob1 = stats.probplot(df['area_percentage'], dist=stats.norm, plot=ax[0,0])\n",
    "ax[0,0].set_xlabel('')\n",
    "ax[0,0].set_title('Area Probplot against normal distribution')\n",
    "prob1 = stats.probplot(df['height_percentage'], dist=stats.norm, plot=ax[0,1])\n",
    "ax[0,1].set_xlabel('')\n",
    "ax[0,1].set_title('Height Probplot against normal distribution')\n",
    "\n",
    "\n",
    "prob2 = stats.probplot(df['area_percentage_log'], dist=stats.norm, plot=ax[1,0])\n",
    "ax[1,0].set_xlabel('')\n",
    "ax[1,0].set_title('Area Probplot after log transform')\n",
    "prob2 = stats.probplot(df['height_percentage_log'], dist=stats.norm, plot=ax[1,1])\n",
    "ax[1,1].set_xlabel('')\n",
    "ax[1,1].set_title('Height Probplot after log transform')\n",
    "\n",
    "\n",
    "prob3 = stats.probplot(df['area_percentage_pt'], dist=stats.norm, plot=ax[2,0])\n",
    "ax[2,0].set_xlabel('Theoretical quantiles')\n",
    "ax[2,0].set_title('Area Probplot after Yeo-Jhonson transform')\n",
    "prob3 = stats.probplot(df['height_percentage_pt'], dist=stats.norm, plot=ax[2,1])\n",
    "ax[2,1].set_xlabel('Theoretical quantiles')\n",
    "ax[2,1].set_title('Height Probplot after Yeo-Jhonson transform')\n",
    "\n",
    "\n",
    "fig2.show()"
   ]
  },
  {
   "cell_type": "markdown",
   "metadata": {},
   "source": [
    "It seems that yeo-jhonson its better option"
   ]
  },
  {
   "cell_type": "code",
   "execution_count": 13,
   "metadata": {},
   "outputs": [],
   "source": [
    "pt = PowerTransformer(method= 'yeo-johnson')\n",
    "test['area_percentage_pt'] = pt.fit_transform(test[['area_percentage']])\n",
    "pt = PowerTransformer(method= 'yeo-johnson')\n",
    "test['height_percentage_pt'] = pt.fit_transform(test[['height_percentage']])"
   ]
  },
  {
   "cell_type": "markdown",
   "metadata": {},
   "source": [
    "#### Categorical columns"
   ]
  },
  {
   "cell_type": "markdown",
   "metadata": {},
   "source": [
    "In this case we have more than 5% in all categories, then I will only create dummies and i'll drop the x dummy column"
   ]
  },
  {
   "cell_type": "code",
   "execution_count": null,
   "metadata": {},
   "outputs": [],
   "source": [
    "fig , ax = plt.subplots(2,5, figsize =(25,10))\n",
    "ax[0,0].hist(df['count_families'])\n",
    "ax[0,0].set_xlabel('count_families', fontsize=10)\n",
    "\n",
    "ax[0,1].hist(df['count_floors_pre_eq'])\n",
    "ax[0,1].set_xlabel('count_floors_pre_eq', fontsize=10)\n",
    "\n",
    "ax[0,2].hist(df['roof_type'])\n",
    "ax[0,2].set_xlabel('roof_type', fontsize=10)\n",
    "\n",
    "ax[0,3].hist(df['position'])\n",
    "ax[0,3].set_xlabel('position', fontsize=10)\n",
    "\n",
    "ax[1,0].hist(df['foundation_type'])\n",
    "ax[1,0].set_xlabel('foundation_type', fontsize=10)\n",
    "\n",
    "ax[1,1].hist(df['ground_floor_type'])\n",
    "ax[1,1].set_xlabel('ground_floor_type', fontsize=10)\n",
    "\n",
    "ax[1,2].hist(df['land_surface_condition'])\n",
    "ax[1,2].set_xlabel('land_surface_condition', fontsize=10)\n",
    "\n",
    "ax[1,3].hist(df['other_floor_type'])\n",
    "ax[1,3].set_xlabel('other_floor_type', fontsize=10)\n",
    "\n",
    "ax[0,4].hist(df['legal_ownership_status'])\n",
    "ax[0,4].set_xlabel('legal_ownership_status', fontsize=10)\n",
    "\n",
    "ax[1,4].hist(df['plan_configuration'])\n",
    "ax[1,4].set_xlabel('plan_configuration', fontsize=10)\n",
    "\n",
    "\n",
    "plt.show()"
   ]
  },
  {
   "cell_type": "code",
   "execution_count": 14,
   "metadata": {},
   "outputs": [],
   "source": [
    "df['count_families'] = df['count_families'].apply(lambda x: str(x) if x <3 else '+3')\n",
    "df['count_floors_pre_eq'] = df['count_floors_pre_eq'].apply(lambda x: str(x) if x <3 else '+3')\n",
    "\n",
    "df['position'] = df['position'].apply(lambda x: 'j' if x == 'o' else x)\n",
    "df['legal_ownership_status'] = df['legal_ownership_status'].apply(lambda x: str(1) if x == 'v' else str(0))\n",
    "\n",
    "df['foundation_type'] = df['foundation_type'].apply(lambda x: str(1) if x == 'r' else str(0))\n",
    "df['ground_floor_type'] = df['ground_floor_type'].apply(lambda x: str(1) if x == 'f' else str(0))\n",
    "\n",
    "df['plan_configuration'] = df['plan_configuration'].apply(lambda x : str(1) if x=='d' else str(0))"
   ]
  },
  {
   "cell_type": "code",
   "execution_count": 15,
   "metadata": {},
   "outputs": [],
   "source": [
    "test['count_families'] = test['count_families'].apply(lambda x: str(x) if x <3 else '+3')\n",
    "test['count_floors_pre_eq'] = test['count_floors_pre_eq'].apply(lambda x: str(x) if x <3 else '+3')\n",
    "\n",
    "test['position'] = test['position'].apply(lambda x: 'j' if x == 'o' else x)\n",
    "test['legal_ownership_status'] = test['legal_ownership_status'].apply(lambda x: str(1) if x == 'v' else str(0))\n",
    "\n",
    "test['foundation_type'] = test['foundation_type'].apply(lambda x: str(1) if x == 'r' else str(0))\n",
    "test['ground_floor_type'] = test['ground_floor_type'].apply(lambda x: str(1) if x == 'f' else str(0))\n",
    "\n",
    "test['plan_configuration'] = test['plan_configuration'].apply(lambda x : str(1) if x=='d' else str(0))"
   ]
  },
  {
   "cell_type": "markdown",
   "metadata": {},
   "source": [
    "We are trying to solve the outliers problem without drop this rows. The steps that I'm going to follow are:\n",
    "    - Use power tranformers like (Box-Cox).\n",
    "    - Re-category poorly represented groups.\n",
    "    - Change kluster number.\n",
    "    - Use robust-scaler.\n",
    "  \n",
    "*-----*\n",
    "\n",
    "Vamos a tratar de resolver el problema de los outliers sin eliminar las filas. Los pasos a seguir serán:\n",
    "    - Usar power transformer como Box.Cox.\n",
    "    - Re-categorizar los grupos mal representados.\n",
    "    - Cambiar número de clusters. \n",
    "    - Usar robus scaler (o min-max scaler)"
   ]
  },
  {
   "cell_type": "code",
   "execution_count": 68,
   "metadata": {},
   "outputs": [],
   "source": [
    "df = pd.get_dummies(df)"
   ]
  },
  {
   "cell_type": "code",
   "execution_count": 67,
   "metadata": {},
   "outputs": [],
   "source": [
    "test = pd.get_dummies(test)"
   ]
  },
  {
   "cell_type": "code",
   "execution_count": 2,
   "metadata": {},
   "outputs": [],
   "source": [
    "target = 'damage_grade' \n",
    "numeric = ['age_pt','area_percentage_pt', 'height_percentage_pt','prob1_geo1','prob1_geo2','prob1_geo3','prob2_geo1','prob2_geo2','prob2_geo3','prob3_geo1','prob3_geo2','prob3_geo3', 'CntFloorAge' , 'CntFloorsArea' , 'CntFloorsHeight' , 'AreaPerAge' , 'HeightPerAge' , 'AreaPerHeight' , 'CntFamFloors' ,  'CntFamArea' ,  'CntFamHeight']\n",
    "dummies = ['count_families_0','count_families_1','count_families_2',\n",
    "                'count_floors_pre_eq_1','count_floors_pre_eq_2',\n",
    "                'foundation_type_1', 'ground_floor_type_1',\n",
    "                'land_surface_condition_t','land_surface_condition_n',\n",
    "                'other_floor_type_j','other_floor_type_q', 'other_floor_type_x', \n",
    "                'position_s','position_t',\n",
    "                'roof_type_n','roof_type_q']\n",
    "\n",
    "binary= ['has_secondary_use','has_secondary_use_agriculture','has_secondary_use_gov_office','has_secondary_use_health_post','has_secondary_use_hotel',\n",
    "    'has_secondary_use_industry','has_secondary_use_institution','has_secondary_use_other','has_secondary_use_rental',\n",
    "    'has_secondary_use_school','has_secondary_use_use_police','has_superstructure_adobe_mud','has_superstructure_bamboo','has_superstructure_cement_mortar_brick',\n",
    "    'has_superstructure_cement_mortar_stone','has_superstructure_mud_mortar_brick','has_superstructure_mud_mortar_stone','has_superstructure_other','has_superstructure_rc_engineered',\n",
    "    'has_superstructure_rc_non_engineered','has_superstructure_stone_flag','has_superstructure_timber','legal_ownership_status_1' ]\n"
   ]
  },
  {
   "cell_type": "markdown",
   "metadata": {},
   "source": [
    "#### Binaries"
   ]
  },
  {
   "cell_type": "code",
   "execution_count": null,
   "metadata": {},
   "outputs": [],
   "source": [
    "for b in binary:\n",
    "    sns.catplot(data = df, x = b , hue = target , kind= 'count')\n",
    "    plt.show()"
   ]
  },
  {
   "cell_type": "code",
   "execution_count": 3,
   "metadata": {},
   "outputs": [],
   "source": [
    "binary = ['has_secondary_use',\n",
    "        'has_secondary_use_agriculture',\n",
    "        'has_superstructure_adobe_mud',\n",
    "        'has_superstructure_cement_mortar_brick',\n",
    "        'has_superstructure_mud_mortar_brick',\n",
    "        'has_superstructure_mud_mortar_stone',\n",
    "        'has_superstructure_timber']"
   ]
  },
  {
   "cell_type": "code",
   "execution_count": 20,
   "metadata": {},
   "outputs": [],
   "source": [
    "df = df[[target ]+ numeric + dummies + binary]"
   ]
  },
  {
   "cell_type": "code",
   "execution_count": 21,
   "metadata": {},
   "outputs": [],
   "source": [
    "test = test[ ['building_id'] +numeric + dummies + binary] "
   ]
  },
  {
   "cell_type": "code",
   "execution_count": 22,
   "metadata": {},
   "outputs": [
    {
     "data": {
      "text/plain": [
       "((260601, 45), (86868, 45))"
      ]
     },
     "execution_count": 22,
     "metadata": {},
     "output_type": "execute_result"
    }
   ],
   "source": [
    "df.shape,test.shape"
   ]
  },
  {
   "cell_type": "code",
   "execution_count": 4,
   "metadata": {},
   "outputs": [],
   "source": [
    "## Checkpoint\n",
    "#df.to_csv(\"../data/trainProb.csv\", index = False)\n",
    "#test.to_csv(\"../data/testProb.csv\", index = False)\n",
    "\n",
    "df = pd.read_csv(\"../data/trainProb.csv\")\n",
    "test = pd.read_csv(\"../data/testProb.csv\")\n"
   ]
  },
  {
   "cell_type": "markdown",
   "metadata": {},
   "source": [
    "#### Clustering"
   ]
  },
  {
   "cell_type": "code",
   "execution_count": 5,
   "metadata": {},
   "outputs": [],
   "source": [
    "from sklearn.impute import KNNImputer\n",
    "\n",
    "test[numeric] = KNNImputer(n_neighbors = 12).fit_transform(test[numeric])\n",
    "df[numeric] = KNNImputer(n_neighbors = 12).fit_transform(df[numeric])"
   ]
  },
  {
   "cell_type": "code",
   "execution_count": 6,
   "metadata": {},
   "outputs": [],
   "source": [
    "clus_train = df[numeric+ [target]]\n",
    "clus_test = test[numeric]\n",
    "\n",
    "\n",
    "scaler = RobustScaler()\n",
    "\n",
    "clus_train[numeric] = scaler.fit_transform(clus_train[numeric])\n",
    "clus_test[numeric] = scaler.fit_transform(clus_test[numeric])\n"
   ]
  },
  {
   "cell_type": "code",
   "execution_count": 11,
   "metadata": {},
   "outputs": [
    {
     "data": {
      "image/png": "[encoded data removed]",
      "text/plain": [
       "<Figure size 864x576 with 1 Axes>"
      ]
     },
     "metadata": {},
     "output_type": "display_data"
    }
   ],
   "source": [
    "nClus = range(2, 14, 2)\n",
    "\n",
    "kmeans = [KMeansFeaturizer(k=i, target_scale =0.3, random_state= 1995) for i in nClus]\n",
    "scaler = RobustScaler()\n",
    "\n",
    "score = [kmeans[i].fit(clus_train.drop(target, axis =1), clus_train[target] ).score for i in range(len(kmeans))]\n",
    "\n",
    "plt.figure(figsize=(12,8))\n",
    "plt.plot(nClus,score)\n",
    "plt.xlabel('Number of Clusters')\n",
    "plt.ylabel('Score')\n",
    "plt.title('Elbow Curve')\n",
    "plt.show()"
   ]
  },
  {
   "cell_type": "code",
   "execution_count": 13,
   "metadata": {},
   "outputs": [
    {
     "data": {
      "image/png": "[encoded data removed]",
      "text/plain": [
       "<Figure size 864x576 with 1 Axes>"
      ]
     },
     "metadata": {},
     "output_type": "display_data"
    }
   ],
   "source": [
    "tSca = range(2, 10, 1)\n",
    "\n",
    "kmeans = [KMeansFeaturizer(k=10, target_scale =i/10, random_state= 1995) for i in tSca]\n",
    "scaler = RobustScaler()\n",
    "\n",
    "score = [kmeans[i].fit(clus_train.drop(target, axis =1), clus_train[target] ).score for i in range(len(kmeans))]\n",
    "\n",
    "plt.figure(figsize=(12,8))\n",
    "plt.plot(tSca,score)\n",
    "plt.xlabel('Tar Scale')\n",
    "plt.ylabel('Score')\n",
    "plt.title('Elbow Curve')\n",
    "plt.show()"
   ]
  },
  {
   "cell_type": "code",
   "execution_count": 23,
   "metadata": {},
   "outputs": [
    {
     "data": {
      "image/png": "[encoded data removed]",
      "text/plain": [
       "<Figure size 1440x1440 with 6 Axes>"
      ]
     },
     "metadata": {},
     "output_type": "display_data"
    }
   ],
   "source": [
    "tSca = range(2, 10, 1)\n",
    "nClus = range(2, 14, 2)\n",
    "\n",
    "fig , ax = plt.subplots(2,3, figsize =(20,20))\n",
    "cont = 0\n",
    "for c in nClus:\n",
    "    kmeans = [KMeansFeaturizer(k=c, target_scale =i/10, random_state= 1995) for i in tSca]\n",
    "\n",
    "    score = [kmeans[i].fit(clus_train.drop(target, axis =1), clus_train[target] ).score for i in range(len(kmeans))]\n",
    "\n",
    "    ax[cont%2,cont%3].plot(tSca,score)\n",
    "    ax[cont%2,cont%3].set_title(f'Tar Scale for {c}-clusters')\n",
    "    cont +=1\n",
    "fig.show()"
   ]
  },
  {
   "cell_type": "code",
   "execution_count": 24,
   "metadata": {},
   "outputs": [],
   "source": [
    "km = KMeansFeaturizer(k=12, target_scale =0.5, random_state= 1995)\n",
    "\n",
    "km.fit(clus_train[numeric], clus_train[target])\n",
    "\n",
    "clus_train = km.transform(clus_train[numeric])\n",
    "clus_test = km.transform(clus_test[numeric])"
   ]
  },
  {
   "cell_type": "code",
   "execution_count": 30,
   "metadata": {},
   "outputs": [],
   "source": [
    "clus_train = [clus_train[i][0] for i in range(len(clus_train))]\n",
    "clus_test = [clus_test[i][0] for i in range(len(clus_test))]"
   ]
  },
  {
   "cell_type": "code",
   "execution_count": 40,
   "metadata": {},
   "outputs": [],
   "source": [
    "df['clusters'] = clus_train\n",
    "test['clusters'] = clus_test"
   ]
  },
  {
   "cell_type": "code",
   "execution_count": 69,
   "metadata": {},
   "outputs": [
    {
     "name": "stdout",
     "output_type": "stream",
     "text": [
      " Para train tenemos : (260601, 57), y para test: (86868, 57)\n"
     ]
    }
   ],
   "source": [
    "print(f\" Para train tenemos : {df.shape}, y para test: {test.shape}\")"
   ]
  },
  {
   "cell_type": "code",
   "execution_count": 66,
   "metadata": {},
   "outputs": [],
   "source": [
    "df['clusters'] = df['clusters'].apply(lambda x: str(x))\n",
    "test['clusters'] = df['clusters'].apply(lambda x: str(x))"
   ]
  },
  {
   "cell_type": "code",
   "execution_count": null,
   "metadata": {},
   "outputs": [],
   "source": [
    "df = pd.get_dummies(df)\n",
    "test = pd.get_dummies(test)"
   ]
  },
  {
   "cell_type": "code",
   "execution_count": 70,
   "metadata": {},
   "outputs": [
    {
     "data": {
      "text/plain": [
       "Index(['damage_grade', 'age_pt', 'area_percentage_pt', 'height_percentage_pt',\n",
       "       'prob1_geo1', 'prob1_geo2', 'prob1_geo3', 'prob2_geo1', 'prob2_geo2',\n",
       "       'prob2_geo3', 'prob3_geo1', 'prob3_geo2', 'prob3_geo3', 'CntFloorAge',\n",
       "       'CntFloorsArea', 'CntFloorsHeight', 'AreaPerAge', 'HeightPerAge',\n",
       "       'AreaPerHeight', 'CntFamFloors', 'CntFamArea', 'CntFamHeight',\n",
       "       'count_families_0', 'count_families_1', 'count_families_2',\n",
       "       'count_floors_pre_eq_1', 'count_floors_pre_eq_2', 'foundation_type_1',\n",
       "       'ground_floor_type_1', 'land_surface_condition_t',\n",
       "       'land_surface_condition_n', 'other_floor_type_j', 'other_floor_type_q',\n",
       "       'other_floor_type_x', 'position_s', 'position_t', 'roof_type_n',\n",
       "       'roof_type_q', 'has_secondary_use', 'has_secondary_use_agriculture',\n",
       "       'has_superstructure_adobe_mud',\n",
       "       'has_superstructure_cement_mortar_brick',\n",
       "       'has_superstructure_mud_mortar_brick',\n",
       "       'has_superstructure_mud_mortar_stone', 'has_superstructure_timber',\n",
       "       'clusters_0', 'clusters_1', 'clusters_10', 'clusters_11', 'clusters_2',\n",
       "       'clusters_3', 'clusters_4', 'clusters_5', 'clusters_6', 'clusters_7',\n",
       "       'clusters_8', 'clusters_9'],\n",
       "      dtype='object')"
      ]
     },
     "execution_count": 70,
     "metadata": {},
     "output_type": "execute_result"
    }
   ],
   "source": [
    "df.columns"
   ]
  },
  {
   "cell_type": "markdown",
   "metadata": {},
   "source": [
    "### Second models: Evaluating and comparing models"
   ]
  },
  {
   "cell_type": "code",
   "execution_count": 72,
   "metadata": {},
   "outputs": [],
   "source": [
    "## Checkpoint\n",
    "df.to_csv(\"../data/trainProb.csv\", index = False)\n",
    "test.to_csv(\"../data/testProb.csv\", index = False)\n",
    "\n",
    "#df = pd.read_csv(\"../data/trainProb.csv\")\n",
    "#test = pd.read_csv(\"../data/testProb.csv\")"
   ]
  },
  {
   "cell_type": "code",
   "execution_count": 71,
   "metadata": {},
   "outputs": [],
   "source": [
    "target = 'damage_grade' \n",
    "numeric = ['age_pt','area_percentage_pt', 'height_percentage_pt','prob1_geo1','prob1_geo2','prob1_geo3','prob2_geo1','prob2_geo2','prob2_geo3','prob3_geo1','prob3_geo2','prob3_geo3']\n",
    "dummies = ['count_families_0','count_families_1','count_families_2',\n",
    "                'count_floors_pre_eq_1','count_floors_pre_eq_2',\n",
    "                'foundation_type_1', 'ground_floor_type_1',\n",
    "                'land_surface_condition_t','land_surface_condition_n',\n",
    "                'other_floor_type_j','other_floor_type_q', 'other_floor_type_x', \n",
    "                'position_s','position_t',\n",
    "                'roof_type_n','roof_type_q','clusters_0', 'clusters_1', 'clusters_10', 'clusters_11', 'clusters_2',\n",
    "                'clusters_3', 'clusters_4', 'clusters_5', 'clusters_6', 'clusters_7',\n",
    "                'clusters_8', 'clusters_9']\n",
    "\n",
    "binary = ['has_secondary_use',\n",
    "        'has_secondary_use_agriculture',\n",
    "        'has_superstructure_adobe_mud',\n",
    "        'has_superstructure_cement_mortar_brick',\n",
    "        'has_superstructure_mud_mortar_brick',\n",
    "        'has_superstructure_mud_mortar_stone',\n",
    "        'has_superstructure_timber']"
   ]
  },
  {
   "cell_type": "code",
   "execution_count": 98,
   "metadata": {},
   "outputs": [],
   "source": [
    "X_train, X_test, y_train, y_test = train_test_split(df.drop(columns = [target]), df[target],random_state = 1995)"
   ]
  },
  {
   "cell_type": "markdown",
   "metadata": {},
   "source": [
    "#### First aproximation"
   ]
  },
  {
   "cell_type": "code",
   "execution_count": 99,
   "metadata": {},
   "outputs": [],
   "source": [
    "seed = 1995\n",
    "models = []\n",
    "models.append(('LR'     , LogisticRegression(random_state=seed)))\n",
    "models.append(('LDA'    , LinearDiscriminantAnalysis()))\n",
    "models.append(('RFC'    , RandomForestClassifier(random_state=seed)))\n",
    "models.append(('LGBM'   , LGBMClassifier(random_state=seed)))"
   ]
  },
  {
   "cell_type": "markdown",
   "metadata": {},
   "source": [
    "Now with new FE, we are going to try with the best models options that the other FE give us and LR too, because is the most easy to explain.\n",
    "\n",
    "*-----*\n",
    "\n",
    "Ahora con el nuevo FE, vamos a probar la mejores opciones de modelos que el otro FE nos proporcionó y con LR, ya que es la más sencilla de interpretar."
   ]
  },
  {
   "cell_type": "code",
   "execution_count": 103,
   "metadata": {},
   "outputs": [],
   "source": [
    "results = []\n",
    "names = []\n",
    "metric = 'f1_micro'\n",
    "\n",
    "for name, model in models:\n",
    "\n",
    "    cv_results = cross_val_score(model, X_train, y_train, cv =10, scoring = metric)\n",
    "\n",
    "    msg = \"%s: %f (%f)\" % (name, cv_results.mean(), cv_results.std())\n",
    "    print(msg)\n",
    "\n",
    "    results.append(cv_results)\n",
    "    names.append(name)\n",
    "    \n",
    "boxplots_algorithms(results, names)"
   ]
  },
  {
   "cell_type": "markdown",
   "metadata": {},
   "source": [
    "We can see that LGBM is the best option again, but LR now is the second one. We are going to use both, because for business probably is better option LR.\n",
    "\n",
    "*-----*\n",
    "\n",
    "Ahora podemos ver como KGBM es la mejor opcion nuevamente, pero LR ahora es la segunda mejor. Vamos a analizar ambos, ya que para un negocio probablemente es mejor option LR."
   ]
  },
  {
   "cell_type": "markdown",
   "metadata": {},
   "source": [
    "#### Logistic regression"
   ]
  },
  {
   "cell_type": "code",
   "execution_count": null,
   "metadata": {},
   "outputs": [],
   "source": [
    "param_gridLR = {\n",
    "    'penalty' : ['l2','none'],\n",
    "    'C' : [1,0.1,0.01,0.001],\n",
    "    'max_iter' : [100, 150,200]\n",
    "}\n",
    "modelLR = LogisticRegression(random_state= 1995)\n",
    "\n",
    "# Grid serach CV \n",
    "# ==============================================================================\n",
    "gridLR = GridSearchCV(\n",
    "        estimator  = modelLR,\n",
    "        param_grid = param_gridLR,\n",
    "        scoring    = 'f1_micro',\n",
    "        n_jobs     =  -1,\n",
    "        cv         = StratifiedKFold(n_splits=5, shuffle=True, random_state=1995), \n",
    "        refit      = True,\n",
    "        verbose    = 0,\n",
    "        return_train_score = True\n",
    "       )\n",
    "\n",
    "gridLR.fit(X = X_train, y = y_train)"
   ]
  },
  {
   "cell_type": "code",
   "execution_count": null,
   "metadata": {},
   "outputs": [],
   "source": [
    "prediccionesLR = gridLR.predict(X = X_test)\n",
    "\n",
    "f1score0 = f1_score(\n",
    "        y_true  = y_test,\n",
    "        y_pred  = prediccionesLR,\n",
    "        average = 'micro'\n",
    "    )\n",
    "\n",
    "print(f\"El f1 score de test es: {round(f1score0,4)}\")"
   ]
  },
  {
   "cell_type": "code",
   "execution_count": null,
   "metadata": {},
   "outputs": [],
   "source": [
    "test_copy = test.copy()\n",
    "\n",
    "prediccionesLR = gridLR.predict(test_copy.drop('building_id', axis=1))\n",
    "test_copy['damage_grade'] = prediccionesLR\n",
    "test_copy[['building_id','damage_grade']].to_csv(\"../predictions/predLRModel1.csv\", index = False)"
   ]
  },
  {
   "cell_type": "markdown",
   "metadata": {},
   "source": [
    "We obtain 0.7281 f1 score."
   ]
  },
  {
   "cell_type": "markdown",
   "metadata": {},
   "source": [
    "#### Random Forest classifier"
   ]
  },
  {
   "cell_type": "code",
   "execution_count": null,
   "metadata": {},
   "outputs": [],
   "source": [
    "# Hyperparameter Grid\n",
    "# ==============================================================================\n",
    "param_grid = {'n_estimators': [50,55,60],\n",
    "              'max_features': [46,None],\n",
    "              'max_depth'   : [None, 3,5,10],\n",
    "              'criterion'   : ['gini']\n",
    "             }\n",
    "\n",
    "# Grid serach CV \n",
    "# ==============================================================================\n",
    "gridRF = GridSearchCV(\n",
    "        estimator  = RandomForestClassifier(random_state = 1995),\n",
    "        param_grid = param_grid,\n",
    "        scoring    = 'f1_micro',\n",
    "        n_jobs     = multiprocessing.cpu_count() - 1,\n",
    "        cv         = StratifiedKFold(n_splits=5, shuffle=True, random_state=1995), \n",
    "        refit      = True,\n",
    "        verbose    = 3,\n",
    "        return_train_score = True\n",
    "       )\n",
    "\n",
    "gridRF.fit(X = X_train, y = y_train)\n",
    "\n",
    "\n",
    "prediccionesRF = gridRF.predict(X = X_test)\n",
    "f1score0 = f1_score(\n",
    "        y_true  = y_test,\n",
    "        y_pred  = prediccionesRF,\n",
    "        average = 'micro'\n",
    "    )\n",
    "\n",
    "print(f\"El f1 score de test es: {round(f1score0,4)}\")"
   ]
  },
  {
   "cell_type": "code",
   "execution_count": null,
   "metadata": {},
   "outputs": [],
   "source": [
    "test_copy = test.copy()\n",
    "\n",
    "prediccionesRF = gridRF.predict(test_copy.drop('building_id', axis=1))\n",
    "test_copy['damage_grade'] = prediccionesRF\n",
    "test_copy[['building_id','damage_grade']].to_csv(\"../predictions/predRFModel1.csv\", index = False)"
   ]
  },
  {
   "cell_type": "markdown",
   "metadata": {},
   "source": [
    "We obtain 0.7359 f1 score in drivenData"
   ]
  },
  {
   "cell_type": "markdown",
   "metadata": {},
   "source": [
    "#### LGBM classifier"
   ]
  },
  {
   "cell_type": "code",
   "execution_count": 77,
   "metadata": {},
   "outputs": [
    {
     "name": "stdout",
     "output_type": "stream",
     "text": [
      "Fitting 15 folds for each of 9 candidates, totalling 135 fits\n",
      "[LightGBM] [Warning] Unknown parameter: eval_metric\n",
      "[LightGBM] [Warning] min_data_in_leaf is set=10, min_child_samples=20 will be ignored. Current value: min_data_in_leaf=10\n",
      "[LightGBM] [Warning] bagging_fraction is set=0.7, subsample=1.0 will be ignored. Current value: bagging_fraction=0.7\n",
      "[1]\tvalid_0's multi_logloss: 0.905282\n",
      "[2]\tvalid_0's multi_logloss: 0.897781\n",
      "[3]\tvalid_0's multi_logloss: 0.890504\n",
      "[4]\tvalid_0's multi_logloss: 0.88347\n",
      "[5]\tvalid_0's multi_logloss: 0.876647\n",
      "[6]\tvalid_0's multi_logloss: 0.870022\n",
      "[7]\tvalid_0's multi_logloss: 0.863559\n",
      "[8]\tvalid_0's multi_logloss: 0.857279\n",
      "[9]\tvalid_0's multi_logloss: 0.851181\n",
      "[10]\tvalid_0's multi_logloss: 0.845255\n",
      "[11]\tvalid_0's multi_logloss: 0.839484\n",
      "[12]\tvalid_0's multi_logloss: 0.833853\n",
      "[13]\tvalid_0's multi_logloss: 0.82836\n",
      "[14]\tvalid_0's multi_logloss: 0.823018\n",
      "[15]\tvalid_0's multi_logloss: 0.817803\n",
      "[16]\tvalid_0's multi_logloss: 0.812706\n",
      "[17]\tvalid_0's multi_logloss: 0.807734\n",
      "[18]\tvalid_0's multi_logloss: 0.802874\n",
      "[19]\tvalid_0's multi_logloss: 0.798134\n",
      "[20]\tvalid_0's multi_logloss: 0.793506\n",
      "[21]\tvalid_0's multi_logloss: 0.788987\n",
      "[22]\tvalid_0's multi_logloss: 0.784575\n",
      "[23]\tvalid_0's multi_logloss: 0.780254\n",
      "[24]\tvalid_0's multi_logloss: 0.776028\n",
      "[25]\tvalid_0's multi_logloss: 0.771891\n",
      "[26]\tvalid_0's multi_logloss: 0.767839\n",
      "[27]\tvalid_0's multi_logloss: 0.76388\n",
      "[28]\tvalid_0's multi_logloss: 0.759998\n",
      "[29]\tvalid_0's multi_logloss: 0.756199\n",
      "[30]\tvalid_0's multi_logloss: 0.752483\n",
      "[31]\tvalid_0's multi_logloss: 0.748851\n",
      "[32]\tvalid_0's multi_logloss: 0.745281\n",
      "[33]\tvalid_0's multi_logloss: 0.741803\n",
      "[34]\tvalid_0's multi_logloss: 0.738391\n",
      "[35]\tvalid_0's multi_logloss: 0.735042\n",
      "[36]\tvalid_0's multi_logloss: 0.731751\n",
      "[37]\tvalid_0's multi_logloss: 0.728532\n",
      "[38]\tvalid_0's multi_logloss: 0.725374\n",
      "[39]\tvalid_0's multi_logloss: 0.722285\n",
      "[40]\tvalid_0's multi_logloss: 0.719247\n",
      "[41]\tvalid_0's multi_logloss: 0.716271\n",
      "[42]\tvalid_0's multi_logloss: 0.713357\n",
      "[43]\tvalid_0's multi_logloss: 0.710491\n",
      "[44]\tvalid_0's multi_logloss: 0.707674\n",
      "[45]\tvalid_0's multi_logloss: 0.704909\n",
      "[46]\tvalid_0's multi_logloss: 0.702206\n",
      "[47]\tvalid_0's multi_logloss: 0.699548\n",
      "[48]\tvalid_0's multi_logloss: 0.696947\n",
      "[49]\tvalid_0's multi_logloss: 0.694397\n",
      "[50]\tvalid_0's multi_logloss: 0.691891\n",
      "[51]\tvalid_0's multi_logloss: 0.689429\n",
      "[52]\tvalid_0's multi_logloss: 0.687014\n",
      "[53]\tvalid_0's multi_logloss: 0.684649\n",
      "[54]\tvalid_0's multi_logloss: 0.682324\n",
      "[55]\tvalid_0's multi_logloss: 0.680046\n",
      "[56]\tvalid_0's multi_logloss: 0.677805\n",
      "[57]\tvalid_0's multi_logloss: 0.675604\n",
      "[58]\tvalid_0's multi_logloss: 0.673445\n",
      "[59]\tvalid_0's multi_logloss: 0.671315\n",
      "[60]\tvalid_0's multi_logloss: 0.669231\n",
      "[61]\tvalid_0's multi_logloss: 0.667175\n",
      "[62]\tvalid_0's multi_logloss: 0.665161\n",
      "[63]\tvalid_0's multi_logloss: 0.66318\n",
      "[64]\tvalid_0's multi_logloss: 0.661232\n",
      "[65]\tvalid_0's multi_logloss: 0.659322\n",
      "[66]\tvalid_0's multi_logloss: 0.657444\n",
      "[67]\tvalid_0's multi_logloss: 0.655585\n",
      "[68]\tvalid_0's multi_logloss: 0.653771\n",
      "[69]\tvalid_0's multi_logloss: 0.65199\n",
      "[70]\tvalid_0's multi_logloss: 0.650237\n",
      "[71]\tvalid_0's multi_logloss: 0.64851\n",
      "[72]\tvalid_0's multi_logloss: 0.646819\n",
      "[73]\tvalid_0's multi_logloss: 0.645151\n",
      "[74]\tvalid_0's multi_logloss: 0.643519\n",
      "[75]\tvalid_0's multi_logloss: 0.641906\n",
      "[76]\tvalid_0's multi_logloss: 0.640324\n",
      "[77]\tvalid_0's multi_logloss: 0.638772\n",
      "[78]\tvalid_0's multi_logloss: 0.637237\n",
      "[79]\tvalid_0's multi_logloss: 0.635734\n",
      "[80]\tvalid_0's multi_logloss: 0.634254\n",
      "[81]\tvalid_0's multi_logloss: 0.632801\n",
      "[82]\tvalid_0's multi_logloss: 0.631367\n",
      "[83]\tvalid_0's multi_logloss: 0.629948\n",
      "[84]\tvalid_0's multi_logloss: 0.628549\n",
      "[85]\tvalid_0's multi_logloss: 0.62718\n",
      "[86]\tvalid_0's multi_logloss: 0.625834\n",
      "[87]\tvalid_0's multi_logloss: 0.624513\n",
      "[88]\tvalid_0's multi_logloss: 0.623214\n",
      "[89]\tvalid_0's multi_logloss: 0.62194\n",
      "[90]\tvalid_0's multi_logloss: 0.620677\n",
      "[91]\tvalid_0's multi_logloss: 0.619447\n",
      "[92]\tvalid_0's multi_logloss: 0.618225\n",
      "[93]\tvalid_0's multi_logloss: 0.617025\n",
      "[94]\tvalid_0's multi_logloss: 0.615839\n",
      "[95]\tvalid_0's multi_logloss: 0.614674\n",
      "[96]\tvalid_0's multi_logloss: 0.613531\n",
      "[97]\tvalid_0's multi_logloss: 0.612403\n",
      "[98]\tvalid_0's multi_logloss: 0.611291\n",
      "[99]\tvalid_0's multi_logloss: 0.610198\n",
      "[100]\tvalid_0's multi_logloss: 0.609112\n",
      "[101]\tvalid_0's multi_logloss: 0.60805\n",
      "[102]\tvalid_0's multi_logloss: 0.607007\n",
      "[103]\tvalid_0's multi_logloss: 0.605978\n",
      "[104]\tvalid_0's multi_logloss: 0.604963\n",
      "[105]\tvalid_0's multi_logloss: 0.603969\n",
      "[106]\tvalid_0's multi_logloss: 0.602989\n",
      "[107]\tvalid_0's multi_logloss: 0.602018\n",
      "[108]\tvalid_0's multi_logloss: 0.601068\n",
      "[109]\tvalid_0's multi_logloss: 0.60013\n",
      "[110]\tvalid_0's multi_logloss: 0.599211\n",
      "[111]\tvalid_0's multi_logloss: 0.598299\n",
      "[112]\tvalid_0's multi_logloss: 0.597407\n",
      "[113]\tvalid_0's multi_logloss: 0.596526\n",
      "[114]\tvalid_0's multi_logloss: 0.595659\n",
      "[115]\tvalid_0's multi_logloss: 0.5948\n",
      "[116]\tvalid_0's multi_logloss: 0.593961\n",
      "[117]\tvalid_0's multi_logloss: 0.593132\n",
      "[118]\tvalid_0's multi_logloss: 0.592316\n",
      "[119]\tvalid_0's multi_logloss: 0.59151\n",
      "[120]\tvalid_0's multi_logloss: 0.590704\n",
      "[121]\tvalid_0's multi_logloss: 0.589922\n",
      "[122]\tvalid_0's multi_logloss: 0.589143\n",
      "[123]\tvalid_0's multi_logloss: 0.588383\n",
      "[124]\tvalid_0's multi_logloss: 0.587628\n",
      "[125]\tvalid_0's multi_logloss: 0.58689\n",
      "[126]\tvalid_0's multi_logloss: 0.586158\n",
      "[127]\tvalid_0's multi_logloss: 0.585443\n",
      "[128]\tvalid_0's multi_logloss: 0.584731\n",
      "[129]\tvalid_0's multi_logloss: 0.584033\n",
      "[130]\tvalid_0's multi_logloss: 0.583345\n",
      "[131]\tvalid_0's multi_logloss: 0.582665\n",
      "[132]\tvalid_0's multi_logloss: 0.582001\n",
      "[133]\tvalid_0's multi_logloss: 0.581348\n",
      "[134]\tvalid_0's multi_logloss: 0.580708\n",
      "[135]\tvalid_0's multi_logloss: 0.580073\n",
      "[136]\tvalid_0's multi_logloss: 0.579446\n",
      "[137]\tvalid_0's multi_logloss: 0.578824\n",
      "[138]\tvalid_0's multi_logloss: 0.578214\n",
      "[139]\tvalid_0's multi_logloss: 0.577616\n",
      "[140]\tvalid_0's multi_logloss: 0.577019\n",
      "[141]\tvalid_0's multi_logloss: 0.576435\n",
      "[142]\tvalid_0's multi_logloss: 0.575858\n",
      "[143]\tvalid_0's multi_logloss: 0.575287\n",
      "[144]\tvalid_0's multi_logloss: 0.574726\n",
      "[145]\tvalid_0's multi_logloss: 0.574163\n",
      "[146]\tvalid_0's multi_logloss: 0.573617\n",
      "[147]\tvalid_0's multi_logloss: 0.573078\n",
      "[148]\tvalid_0's multi_logloss: 0.572549\n",
      "[149]\tvalid_0's multi_logloss: 0.572021\n",
      "[150]\tvalid_0's multi_logloss: 0.571495\n",
      "[151]\tvalid_0's multi_logloss: 0.570981\n",
      "[152]\tvalid_0's multi_logloss: 0.570466\n",
      "[153]\tvalid_0's multi_logloss: 0.569964\n",
      "[154]\tvalid_0's multi_logloss: 0.56947\n",
      "[155]\tvalid_0's multi_logloss: 0.568986\n",
      "[156]\tvalid_0's multi_logloss: 0.568507\n",
      "[157]\tvalid_0's multi_logloss: 0.568037\n",
      "[158]\tvalid_0's multi_logloss: 0.567571\n",
      "[159]\tvalid_0's multi_logloss: 0.567113\n",
      "[160]\tvalid_0's multi_logloss: 0.566655\n",
      "[161]\tvalid_0's multi_logloss: 0.566208\n",
      "[162]\tvalid_0's multi_logloss: 0.565765\n",
      "[163]\tvalid_0's multi_logloss: 0.565332\n",
      "[164]\tvalid_0's multi_logloss: 0.564897\n",
      "[165]\tvalid_0's multi_logloss: 0.564477\n",
      "[166]\tvalid_0's multi_logloss: 0.564055\n",
      "[167]\tvalid_0's multi_logloss: 0.563643\n",
      "[168]\tvalid_0's multi_logloss: 0.563235\n",
      "[169]\tvalid_0's multi_logloss: 0.562839\n",
      "[170]\tvalid_0's multi_logloss: 0.562444\n",
      "[171]\tvalid_0's multi_logloss: 0.562044\n",
      "[172]\tvalid_0's multi_logloss: 0.561654\n",
      "[173]\tvalid_0's multi_logloss: 0.561264\n",
      "[174]\tvalid_0's multi_logloss: 0.560886\n",
      "[175]\tvalid_0's multi_logloss: 0.560514\n",
      "[176]\tvalid_0's multi_logloss: 0.560143\n",
      "[177]\tvalid_0's multi_logloss: 0.559782\n",
      "[178]\tvalid_0's multi_logloss: 0.559425\n",
      "[179]\tvalid_0's multi_logloss: 0.559067\n",
      "[180]\tvalid_0's multi_logloss: 0.558719\n",
      "[181]\tvalid_0's multi_logloss: 0.558374\n",
      "[182]\tvalid_0's multi_logloss: 0.558036\n",
      "[183]\tvalid_0's multi_logloss: 0.557701\n",
      "[184]\tvalid_0's multi_logloss: 0.557364\n",
      "[185]\tvalid_0's multi_logloss: 0.557025\n",
      "[186]\tvalid_0's multi_logloss: 0.556687\n",
      "[187]\tvalid_0's multi_logloss: 0.556362\n",
      "[188]\tvalid_0's multi_logloss: 0.556038\n",
      "[189]\tvalid_0's multi_logloss: 0.555722\n",
      "[190]\tvalid_0's multi_logloss: 0.555403\n",
      "[191]\tvalid_0's multi_logloss: 0.555092\n",
      "[192]\tvalid_0's multi_logloss: 0.554783\n",
      "[193]\tvalid_0's multi_logloss: 0.554487\n",
      "[194]\tvalid_0's multi_logloss: 0.55419\n",
      "[195]\tvalid_0's multi_logloss: 0.553894\n",
      "[196]\tvalid_0's multi_logloss: 0.553605\n",
      "[197]\tvalid_0's multi_logloss: 0.553318\n",
      "[198]\tvalid_0's multi_logloss: 0.553031\n",
      "[199]\tvalid_0's multi_logloss: 0.552755\n",
      "[200]\tvalid_0's multi_logloss: 0.552481\n",
      "[201]\tvalid_0's multi_logloss: 0.55221\n",
      "[202]\tvalid_0's multi_logloss: 0.551945\n",
      "[203]\tvalid_0's multi_logloss: 0.551679\n",
      "[204]\tvalid_0's multi_logloss: 0.551415\n",
      "[205]\tvalid_0's multi_logloss: 0.551157\n",
      "[206]\tvalid_0's multi_logloss: 0.550896\n",
      "[207]\tvalid_0's multi_logloss: 0.550646\n",
      "[208]\tvalid_0's multi_logloss: 0.550393\n",
      "[209]\tvalid_0's multi_logloss: 0.550148\n",
      "[210]\tvalid_0's multi_logloss: 0.549904\n",
      "[211]\tvalid_0's multi_logloss: 0.549664\n",
      "[212]\tvalid_0's multi_logloss: 0.549422\n",
      "[213]\tvalid_0's multi_logloss: 0.549184\n",
      "[214]\tvalid_0's multi_logloss: 0.548951\n",
      "[215]\tvalid_0's multi_logloss: 0.548719\n",
      "[216]\tvalid_0's multi_logloss: 0.548489\n",
      "[217]\tvalid_0's multi_logloss: 0.548261\n",
      "[218]\tvalid_0's multi_logloss: 0.548031\n",
      "[219]\tvalid_0's multi_logloss: 0.547807\n",
      "[220]\tvalid_0's multi_logloss: 0.547587\n",
      "[221]\tvalid_0's multi_logloss: 0.547368\n",
      "[222]\tvalid_0's multi_logloss: 0.547148\n",
      "[223]\tvalid_0's multi_logloss: 0.546937\n",
      "[224]\tvalid_0's multi_logloss: 0.54672\n",
      "[225]\tvalid_0's multi_logloss: 0.546513\n",
      "[226]\tvalid_0's multi_logloss: 0.546306\n",
      "[227]\tvalid_0's multi_logloss: 0.546094\n",
      "[228]\tvalid_0's multi_logloss: 0.545893\n",
      "[229]\tvalid_0's multi_logloss: 0.545692\n",
      "[230]\tvalid_0's multi_logloss: 0.545485\n",
      "[231]\tvalid_0's multi_logloss: 0.545288\n",
      "[232]\tvalid_0's multi_logloss: 0.545093\n",
      "[233]\tvalid_0's multi_logloss: 0.544896\n",
      "[234]\tvalid_0's multi_logloss: 0.5447\n",
      "[235]\tvalid_0's multi_logloss: 0.54451\n",
      "[236]\tvalid_0's multi_logloss: 0.544325\n",
      "[237]\tvalid_0's multi_logloss: 0.544139\n",
      "[238]\tvalid_0's multi_logloss: 0.543953\n",
      "[239]\tvalid_0's multi_logloss: 0.543774\n",
      "[240]\tvalid_0's multi_logloss: 0.543596\n",
      "[241]\tvalid_0's multi_logloss: 0.543421\n",
      "[242]\tvalid_0's multi_logloss: 0.543246\n",
      "[243]\tvalid_0's multi_logloss: 0.543074\n",
      "[244]\tvalid_0's multi_logloss: 0.542902\n",
      "[245]\tvalid_0's multi_logloss: 0.542726\n",
      "[246]\tvalid_0's multi_logloss: 0.542559\n",
      "[247]\tvalid_0's multi_logloss: 0.542393\n",
      "[248]\tvalid_0's multi_logloss: 0.542222\n",
      "[249]\tvalid_0's multi_logloss: 0.542055\n",
      "[250]\tvalid_0's multi_logloss: 0.541893\n",
      "[251]\tvalid_0's multi_logloss: 0.541727\n",
      "[252]\tvalid_0's multi_logloss: 0.541564\n",
      "[253]\tvalid_0's multi_logloss: 0.541407\n",
      "[254]\tvalid_0's multi_logloss: 0.541248\n",
      "[255]\tvalid_0's multi_logloss: 0.54109\n",
      "[256]\tvalid_0's multi_logloss: 0.540938\n",
      "[257]\tvalid_0's multi_logloss: 0.54078\n",
      "[258]\tvalid_0's multi_logloss: 0.54063\n",
      "[259]\tvalid_0's multi_logloss: 0.540476\n",
      "[260]\tvalid_0's multi_logloss: 0.540329\n",
      "[261]\tvalid_0's multi_logloss: 0.540181\n",
      "[262]\tvalid_0's multi_logloss: 0.540038\n",
      "[263]\tvalid_0's multi_logloss: 0.539891\n",
      "[264]\tvalid_0's multi_logloss: 0.53975\n",
      "[265]\tvalid_0's multi_logloss: 0.539602\n",
      "[266]\tvalid_0's multi_logloss: 0.539464\n",
      "[267]\tvalid_0's multi_logloss: 0.539326\n",
      "[268]\tvalid_0's multi_logloss: 0.539188\n",
      "[269]\tvalid_0's multi_logloss: 0.539051\n",
      "[270]\tvalid_0's multi_logloss: 0.538915\n",
      "[271]\tvalid_0's multi_logloss: 0.538779\n",
      "[272]\tvalid_0's multi_logloss: 0.53865\n",
      "[273]\tvalid_0's multi_logloss: 0.538519\n",
      "[274]\tvalid_0's multi_logloss: 0.538387\n",
      "[275]\tvalid_0's multi_logloss: 0.538263\n",
      "[276]\tvalid_0's multi_logloss: 0.538134\n",
      "[277]\tvalid_0's multi_logloss: 0.53801\n",
      "[278]\tvalid_0's multi_logloss: 0.537882\n",
      "[279]\tvalid_0's multi_logloss: 0.537756\n",
      "[280]\tvalid_0's multi_logloss: 0.537629\n",
      "[281]\tvalid_0's multi_logloss: 0.537503\n",
      "[282]\tvalid_0's multi_logloss: 0.537377\n",
      "[283]\tvalid_0's multi_logloss: 0.537254\n",
      "[284]\tvalid_0's multi_logloss: 0.537131\n",
      "[285]\tvalid_0's multi_logloss: 0.537012\n",
      "[286]\tvalid_0's multi_logloss: 0.536891\n",
      "[287]\tvalid_0's multi_logloss: 0.536771\n",
      "[288]\tvalid_0's multi_logloss: 0.536654\n",
      "[289]\tvalid_0's multi_logloss: 0.536534\n",
      "[290]\tvalid_0's multi_logloss: 0.53642\n",
      "[291]\tvalid_0's multi_logloss: 0.536307\n",
      "[292]\tvalid_0's multi_logloss: 0.536193\n",
      "[293]\tvalid_0's multi_logloss: 0.536086\n",
      "[294]\tvalid_0's multi_logloss: 0.535977\n",
      "[295]\tvalid_0's multi_logloss: 0.535871\n",
      "[296]\tvalid_0's multi_logloss: 0.535764\n",
      "[297]\tvalid_0's multi_logloss: 0.535659\n",
      "[298]\tvalid_0's multi_logloss: 0.535547\n",
      "[299]\tvalid_0's multi_logloss: 0.535444\n",
      "[300]\tvalid_0's multi_logloss: 0.535338\n",
      "[301]\tvalid_0's multi_logloss: 0.535234\n",
      "[302]\tvalid_0's multi_logloss: 0.535131\n",
      "[303]\tvalid_0's multi_logloss: 0.535031\n",
      "[304]\tvalid_0's multi_logloss: 0.53492\n",
      "[305]\tvalid_0's multi_logloss: 0.534818\n",
      "[306]\tvalid_0's multi_logloss: 0.534716\n",
      "[307]\tvalid_0's multi_logloss: 0.534613\n",
      "[308]\tvalid_0's multi_logloss: 0.534509\n",
      "[309]\tvalid_0's multi_logloss: 0.534414\n",
      "[310]\tvalid_0's multi_logloss: 0.534316\n",
      "[311]\tvalid_0's multi_logloss: 0.534217\n",
      "[312]\tvalid_0's multi_logloss: 0.534116\n",
      "[313]\tvalid_0's multi_logloss: 0.534013\n",
      "[314]\tvalid_0's multi_logloss: 0.533917\n",
      "[315]\tvalid_0's multi_logloss: 0.533816\n",
      "[316]\tvalid_0's multi_logloss: 0.533725\n",
      "[317]\tvalid_0's multi_logloss: 0.533629\n",
      "[318]\tvalid_0's multi_logloss: 0.533535\n",
      "[319]\tvalid_0's multi_logloss: 0.533442\n",
      "[320]\tvalid_0's multi_logloss: 0.533355\n",
      "[321]\tvalid_0's multi_logloss: 0.533263\n",
      "[322]\tvalid_0's multi_logloss: 0.533168\n",
      "[323]\tvalid_0's multi_logloss: 0.533074\n",
      "[324]\tvalid_0's multi_logloss: 0.532983\n",
      "[325]\tvalid_0's multi_logloss: 0.5329\n",
      "[326]\tvalid_0's multi_logloss: 0.532815\n",
      "[327]\tvalid_0's multi_logloss: 0.532728\n",
      "[328]\tvalid_0's multi_logloss: 0.532642\n",
      "[329]\tvalid_0's multi_logloss: 0.532552\n",
      "[330]\tvalid_0's multi_logloss: 0.532467\n",
      "[331]\tvalid_0's multi_logloss: 0.532384\n",
      "[332]\tvalid_0's multi_logloss: 0.532297\n",
      "[333]\tvalid_0's multi_logloss: 0.532214\n",
      "[334]\tvalid_0's multi_logloss: 0.532128\n",
      "[335]\tvalid_0's multi_logloss: 0.532044\n",
      "[336]\tvalid_0's multi_logloss: 0.531963\n",
      "[337]\tvalid_0's multi_logloss: 0.531882\n",
      "[338]\tvalid_0's multi_logloss: 0.531801\n",
      "[339]\tvalid_0's multi_logloss: 0.531722\n",
      "[340]\tvalid_0's multi_logloss: 0.53164\n",
      "[341]\tvalid_0's multi_logloss: 0.531561\n",
      "[342]\tvalid_0's multi_logloss: 0.531483\n",
      "[343]\tvalid_0's multi_logloss: 0.531404\n",
      "[344]\tvalid_0's multi_logloss: 0.531329\n",
      "[345]\tvalid_0's multi_logloss: 0.53125\n",
      "[346]\tvalid_0's multi_logloss: 0.531176\n",
      "[347]\tvalid_0's multi_logloss: 0.531104\n",
      "[348]\tvalid_0's multi_logloss: 0.531027\n",
      "[349]\tvalid_0's multi_logloss: 0.530949\n",
      "[350]\tvalid_0's multi_logloss: 0.530876\n",
      "[351]\tvalid_0's multi_logloss: 0.530806\n",
      "[352]\tvalid_0's multi_logloss: 0.530737\n",
      "[353]\tvalid_0's multi_logloss: 0.530666\n",
      "[354]\tvalid_0's multi_logloss: 0.530589\n",
      "[355]\tvalid_0's multi_logloss: 0.530522\n",
      "[356]\tvalid_0's multi_logloss: 0.53045\n",
      "[357]\tvalid_0's multi_logloss: 0.530382\n",
      "[358]\tvalid_0's multi_logloss: 0.530314\n",
      "[359]\tvalid_0's multi_logloss: 0.530243\n",
      "[360]\tvalid_0's multi_logloss: 0.530177\n",
      "[361]\tvalid_0's multi_logloss: 0.530114\n",
      "[362]\tvalid_0's multi_logloss: 0.530037\n",
      "[363]\tvalid_0's multi_logloss: 0.529972\n",
      "[364]\tvalid_0's multi_logloss: 0.529903\n",
      "[365]\tvalid_0's multi_logloss: 0.529833\n",
      "[366]\tvalid_0's multi_logloss: 0.529768\n",
      "[367]\tvalid_0's multi_logloss: 0.529701\n",
      "[368]\tvalid_0's multi_logloss: 0.529637\n",
      "[369]\tvalid_0's multi_logloss: 0.529567\n",
      "[370]\tvalid_0's multi_logloss: 0.529506\n",
      "[371]\tvalid_0's multi_logloss: 0.529443\n",
      "[372]\tvalid_0's multi_logloss: 0.529379\n",
      "[373]\tvalid_0's multi_logloss: 0.529322\n",
      "[374]\tvalid_0's multi_logloss: 0.529255\n",
      "[375]\tvalid_0's multi_logloss: 0.529188\n",
      "[376]\tvalid_0's multi_logloss: 0.529125\n",
      "[377]\tvalid_0's multi_logloss: 0.529066\n",
      "[378]\tvalid_0's multi_logloss: 0.529007\n",
      "[379]\tvalid_0's multi_logloss: 0.528951\n",
      "[380]\tvalid_0's multi_logloss: 0.528887\n",
      "[381]\tvalid_0's multi_logloss: 0.528833\n",
      "[382]\tvalid_0's multi_logloss: 0.528777\n",
      "[383]\tvalid_0's multi_logloss: 0.528723\n",
      "[384]\tvalid_0's multi_logloss: 0.528669\n",
      "[385]\tvalid_0's multi_logloss: 0.528613\n",
      "[386]\tvalid_0's multi_logloss: 0.528558\n",
      "[387]\tvalid_0's multi_logloss: 0.528499\n",
      "[388]\tvalid_0's multi_logloss: 0.528441\n",
      "[389]\tvalid_0's multi_logloss: 0.528387\n",
      "[390]\tvalid_0's multi_logloss: 0.528334\n",
      "[391]\tvalid_0's multi_logloss: 0.528274\n",
      "[392]\tvalid_0's multi_logloss: 0.528214\n",
      "[393]\tvalid_0's multi_logloss: 0.528166\n",
      "[394]\tvalid_0's multi_logloss: 0.528104\n",
      "[395]\tvalid_0's multi_logloss: 0.528058\n",
      "[396]\tvalid_0's multi_logloss: 0.527999\n",
      "[397]\tvalid_0's multi_logloss: 0.52794\n",
      "[398]\tvalid_0's multi_logloss: 0.527891\n",
      "[399]\tvalid_0's multi_logloss: 0.527837\n",
      "[400]\tvalid_0's multi_logloss: 0.527783\n",
      "[401]\tvalid_0's multi_logloss: 0.527726\n",
      "[402]\tvalid_0's multi_logloss: 0.527677\n",
      "[403]\tvalid_0's multi_logloss: 0.527625\n",
      "[404]\tvalid_0's multi_logloss: 0.52758\n",
      "[405]\tvalid_0's multi_logloss: 0.527534\n",
      "[406]\tvalid_0's multi_logloss: 0.527483\n",
      "[407]\tvalid_0's multi_logloss: 0.527432\n",
      "[408]\tvalid_0's multi_logloss: 0.527389\n",
      "[409]\tvalid_0's multi_logloss: 0.527334\n",
      "[410]\tvalid_0's multi_logloss: 0.527288\n",
      "[411]\tvalid_0's multi_logloss: 0.527248\n",
      "[412]\tvalid_0's multi_logloss: 0.527198\n",
      "[413]\tvalid_0's multi_logloss: 0.527153\n",
      "[414]\tvalid_0's multi_logloss: 0.527099\n",
      "[415]\tvalid_0's multi_logloss: 0.527055\n",
      "[416]\tvalid_0's multi_logloss: 0.527015\n",
      "[417]\tvalid_0's multi_logloss: 0.526968\n",
      "[418]\tvalid_0's multi_logloss: 0.526922\n",
      "[419]\tvalid_0's multi_logloss: 0.526881\n",
      "[420]\tvalid_0's multi_logloss: 0.526833\n",
      "[421]\tvalid_0's multi_logloss: 0.52679\n",
      "[422]\tvalid_0's multi_logloss: 0.526741\n",
      "[423]\tvalid_0's multi_logloss: 0.526698\n",
      "[424]\tvalid_0's multi_logloss: 0.526653\n",
      "[425]\tvalid_0's multi_logloss: 0.526611\n",
      "[426]\tvalid_0's multi_logloss: 0.526568\n",
      "[427]\tvalid_0's multi_logloss: 0.526526\n",
      "[428]\tvalid_0's multi_logloss: 0.526488\n",
      "[429]\tvalid_0's multi_logloss: 0.526442\n",
      "[430]\tvalid_0's multi_logloss: 0.526403\n",
      "[431]\tvalid_0's multi_logloss: 0.526358\n",
      "[432]\tvalid_0's multi_logloss: 0.526324\n",
      "[433]\tvalid_0's multi_logloss: 0.526283\n",
      "[434]\tvalid_0's multi_logloss: 0.52624\n",
      "[435]\tvalid_0's multi_logloss: 0.526203\n",
      "[436]\tvalid_0's multi_logloss: 0.526162\n",
      "[437]\tvalid_0's multi_logloss: 0.526123\n",
      "[438]\tvalid_0's multi_logloss: 0.526087\n",
      "[439]\tvalid_0's multi_logloss: 0.526052\n",
      "[440]\tvalid_0's multi_logloss: 0.526004\n",
      "[441]\tvalid_0's multi_logloss: 0.525966\n",
      "[442]\tvalid_0's multi_logloss: 0.525931\n",
      "[443]\tvalid_0's multi_logloss: 0.525887\n",
      "[444]\tvalid_0's multi_logloss: 0.525857\n",
      "[445]\tvalid_0's multi_logloss: 0.52582\n",
      "[446]\tvalid_0's multi_logloss: 0.525777\n",
      "[447]\tvalid_0's multi_logloss: 0.525747\n",
      "[448]\tvalid_0's multi_logloss: 0.525709\n",
      "[449]\tvalid_0's multi_logloss: 0.525667\n",
      "[450]\tvalid_0's multi_logloss: 0.525633\n",
      "[451]\tvalid_0's multi_logloss: 0.5256\n",
      "[452]\tvalid_0's multi_logloss: 0.525555\n",
      "[453]\tvalid_0's multi_logloss: 0.525516\n",
      "[454]\tvalid_0's multi_logloss: 0.525484\n",
      "[455]\tvalid_0's multi_logloss: 0.525444\n",
      "[456]\tvalid_0's multi_logloss: 0.525406\n",
      "[457]\tvalid_0's multi_logloss: 0.525369\n",
      "[458]\tvalid_0's multi_logloss: 0.525337\n",
      "[459]\tvalid_0's multi_logloss: 0.525297\n",
      "[460]\tvalid_0's multi_logloss: 0.525259\n",
      "[461]\tvalid_0's multi_logloss: 0.525217\n",
      "[462]\tvalid_0's multi_logloss: 0.525186\n",
      "[463]\tvalid_0's multi_logloss: 0.525153\n",
      "[464]\tvalid_0's multi_logloss: 0.525117\n",
      "[465]\tvalid_0's multi_logloss: 0.525087\n",
      "[466]\tvalid_0's multi_logloss: 0.525051\n",
      "[467]\tvalid_0's multi_logloss: 0.525021\n",
      "[468]\tvalid_0's multi_logloss: 0.524988\n",
      "[469]\tvalid_0's multi_logloss: 0.524957\n",
      "[470]\tvalid_0's multi_logloss: 0.524927\n",
      "[471]\tvalid_0's multi_logloss: 0.524895\n",
      "[472]\tvalid_0's multi_logloss: 0.524862\n",
      "[473]\tvalid_0's multi_logloss: 0.524831\n",
      "[474]\tvalid_0's multi_logloss: 0.524796\n",
      "[475]\tvalid_0's multi_logloss: 0.524765\n",
      "[476]\tvalid_0's multi_logloss: 0.524738\n",
      "[477]\tvalid_0's multi_logloss: 0.524706\n",
      "[478]\tvalid_0's multi_logloss: 0.524677\n",
      "[479]\tvalid_0's multi_logloss: 0.524644\n",
      "[480]\tvalid_0's multi_logloss: 0.524613\n",
      "[481]\tvalid_0's multi_logloss: 0.524582\n",
      "[482]\tvalid_0's multi_logloss: 0.524555\n",
      "[483]\tvalid_0's multi_logloss: 0.524527\n",
      "[484]\tvalid_0's multi_logloss: 0.524497\n",
      "[485]\tvalid_0's multi_logloss: 0.524469\n",
      "[486]\tvalid_0's multi_logloss: 0.524437\n",
      "[487]\tvalid_0's multi_logloss: 0.524408\n",
      "[488]\tvalid_0's multi_logloss: 0.524383\n",
      "[489]\tvalid_0's multi_logloss: 0.524355\n",
      "[490]\tvalid_0's multi_logloss: 0.524326\n",
      "[491]\tvalid_0's multi_logloss: 0.5243\n",
      "[492]\tvalid_0's multi_logloss: 0.524272\n",
      "[493]\tvalid_0's multi_logloss: 0.524244\n",
      "[494]\tvalid_0's multi_logloss: 0.524215\n",
      "[495]\tvalid_0's multi_logloss: 0.524184\n",
      "[496]\tvalid_0's multi_logloss: 0.524159\n",
      "[497]\tvalid_0's multi_logloss: 0.524127\n",
      "[498]\tvalid_0's multi_logloss: 0.5241\n",
      "[499]\tvalid_0's multi_logloss: 0.524075\n",
      "[500]\tvalid_0's multi_logloss: 0.524052\n",
      "[501]\tvalid_0's multi_logloss: 0.524021\n",
      "[502]\tvalid_0's multi_logloss: 0.524002\n",
      "[503]\tvalid_0's multi_logloss: 0.523975\n",
      "[504]\tvalid_0's multi_logloss: 0.523943\n",
      "[505]\tvalid_0's multi_logloss: 0.523917\n",
      "[506]\tvalid_0's multi_logloss: 0.523887\n",
      "[507]\tvalid_0's multi_logloss: 0.523864\n",
      "[508]\tvalid_0's multi_logloss: 0.52384\n",
      "[509]\tvalid_0's multi_logloss: 0.523813\n",
      "[510]\tvalid_0's multi_logloss: 0.523789\n",
      "[511]\tvalid_0's multi_logloss: 0.523764\n",
      "[512]\tvalid_0's multi_logloss: 0.523742\n",
      "[513]\tvalid_0's multi_logloss: 0.52372\n",
      "[514]\tvalid_0's multi_logloss: 0.523697\n",
      "[515]\tvalid_0's multi_logloss: 0.523668\n",
      "[516]\tvalid_0's multi_logloss: 0.523648\n",
      "[517]\tvalid_0's multi_logloss: 0.523626\n",
      "[518]\tvalid_0's multi_logloss: 0.523601\n",
      "[519]\tvalid_0's multi_logloss: 0.523573\n",
      "[520]\tvalid_0's multi_logloss: 0.523547\n",
      "[521]\tvalid_0's multi_logloss: 0.523524\n",
      "[522]\tvalid_0's multi_logloss: 0.523502\n",
      "[523]\tvalid_0's multi_logloss: 0.523479\n",
      "[524]\tvalid_0's multi_logloss: 0.523453\n",
      "[525]\tvalid_0's multi_logloss: 0.523427\n",
      "[526]\tvalid_0's multi_logloss: 0.52341\n",
      "[527]\tvalid_0's multi_logloss: 0.523385\n",
      "[528]\tvalid_0's multi_logloss: 0.523359\n",
      "[529]\tvalid_0's multi_logloss: 0.523331\n",
      "[530]\tvalid_0's multi_logloss: 0.523309\n",
      "[531]\tvalid_0's multi_logloss: 0.523288\n",
      "[532]\tvalid_0's multi_logloss: 0.523269\n",
      "[533]\tvalid_0's multi_logloss: 0.523246\n",
      "[534]\tvalid_0's multi_logloss: 0.523217\n",
      "[535]\tvalid_0's multi_logloss: 0.523197\n",
      "[536]\tvalid_0's multi_logloss: 0.523177\n",
      "[537]\tvalid_0's multi_logloss: 0.52316\n",
      "[538]\tvalid_0's multi_logloss: 0.523138\n",
      "[539]\tvalid_0's multi_logloss: 0.523112\n",
      "[540]\tvalid_0's multi_logloss: 0.523095\n",
      "[541]\tvalid_0's multi_logloss: 0.523072\n",
      "[542]\tvalid_0's multi_logloss: 0.523054\n",
      "[543]\tvalid_0's multi_logloss: 0.523025\n",
      "[544]\tvalid_0's multi_logloss: 0.523004\n",
      "[545]\tvalid_0's multi_logloss: 0.522982\n",
      "[546]\tvalid_0's multi_logloss: 0.522963\n",
      "[547]\tvalid_0's multi_logloss: 0.522938\n",
      "[548]\tvalid_0's multi_logloss: 0.522915\n",
      "[549]\tvalid_0's multi_logloss: 0.522899\n",
      "[550]\tvalid_0's multi_logloss: 0.522878\n",
      "[551]\tvalid_0's multi_logloss: 0.522864\n",
      "[552]\tvalid_0's multi_logloss: 0.522842\n",
      "[553]\tvalid_0's multi_logloss: 0.522821\n",
      "[554]\tvalid_0's multi_logloss: 0.522803\n",
      "[555]\tvalid_0's multi_logloss: 0.522779\n",
      "[556]\tvalid_0's multi_logloss: 0.522762\n",
      "[557]\tvalid_0's multi_logloss: 0.52274\n",
      "[558]\tvalid_0's multi_logloss: 0.522716\n",
      "[559]\tvalid_0's multi_logloss: 0.522701\n",
      "[560]\tvalid_0's multi_logloss: 0.522681\n",
      "[561]\tvalid_0's multi_logloss: 0.522664\n",
      "[562]\tvalid_0's multi_logloss: 0.522639\n",
      "[563]\tvalid_0's multi_logloss: 0.522618\n",
      "[564]\tvalid_0's multi_logloss: 0.522595\n",
      "[565]\tvalid_0's multi_logloss: 0.522579\n",
      "[566]\tvalid_0's multi_logloss: 0.522562\n",
      "[567]\tvalid_0's multi_logloss: 0.522546\n",
      "[568]\tvalid_0's multi_logloss: 0.522533\n",
      "[569]\tvalid_0's multi_logloss: 0.522504\n",
      "[570]\tvalid_0's multi_logloss: 0.522484\n",
      "[571]\tvalid_0's multi_logloss: 0.522469\n",
      "[572]\tvalid_0's multi_logloss: 0.522449\n",
      "[573]\tvalid_0's multi_logloss: 0.522435\n",
      "[574]\tvalid_0's multi_logloss: 0.522416\n",
      "[575]\tvalid_0's multi_logloss: 0.522397\n",
      "[576]\tvalid_0's multi_logloss: 0.522384\n",
      "[577]\tvalid_0's multi_logloss: 0.522364\n",
      "[578]\tvalid_0's multi_logloss: 0.522346\n",
      "[579]\tvalid_0's multi_logloss: 0.522323\n",
      "[580]\tvalid_0's multi_logloss: 0.522305\n",
      "[581]\tvalid_0's multi_logloss: 0.522292\n",
      "[582]\tvalid_0's multi_logloss: 0.522274\n",
      "[583]\tvalid_0's multi_logloss: 0.522254\n",
      "[584]\tvalid_0's multi_logloss: 0.522232\n",
      "[585]\tvalid_0's multi_logloss: 0.522208\n",
      "[586]\tvalid_0's multi_logloss: 0.522198\n",
      "[587]\tvalid_0's multi_logloss: 0.52218\n",
      "[588]\tvalid_0's multi_logloss: 0.522167\n",
      "[589]\tvalid_0's multi_logloss: 0.522152\n",
      "[590]\tvalid_0's multi_logloss: 0.522132\n",
      "[591]\tvalid_0's multi_logloss: 0.52212\n",
      "[592]\tvalid_0's multi_logloss: 0.522101\n",
      "[593]\tvalid_0's multi_logloss: 0.522086\n",
      "[594]\tvalid_0's multi_logloss: 0.522066\n",
      "[595]\tvalid_0's multi_logloss: 0.522046\n",
      "[596]\tvalid_0's multi_logloss: 0.522036\n",
      "[597]\tvalid_0's multi_logloss: 0.522018\n",
      "[598]\tvalid_0's multi_logloss: 0.522001\n",
      "[599]\tvalid_0's multi_logloss: 0.521982\n",
      "[600]\tvalid_0's multi_logloss: 0.521963\n",
      "[601]\tvalid_0's multi_logloss: 0.521948\n",
      "[602]\tvalid_0's multi_logloss: 0.521936\n",
      "[603]\tvalid_0's multi_logloss: 0.521922\n",
      "[604]\tvalid_0's multi_logloss: 0.521906\n",
      "[605]\tvalid_0's multi_logloss: 0.521886\n",
      "[606]\tvalid_0's multi_logloss: 0.521869\n",
      "[607]\tvalid_0's multi_logloss: 0.521859\n",
      "[608]\tvalid_0's multi_logloss: 0.521839\n",
      "[609]\tvalid_0's multi_logloss: 0.521818\n",
      "[610]\tvalid_0's multi_logloss: 0.521801\n",
      "[611]\tvalid_0's multi_logloss: 0.521794\n",
      "[612]\tvalid_0's multi_logloss: 0.52178\n",
      "[613]\tvalid_0's multi_logloss: 0.521765\n",
      "[614]\tvalid_0's multi_logloss: 0.521756\n",
      "[615]\tvalid_0's multi_logloss: 0.521744\n",
      "[616]\tvalid_0's multi_logloss: 0.521725\n",
      "[617]\tvalid_0's multi_logloss: 0.521711\n",
      "[618]\tvalid_0's multi_logloss: 0.521704\n",
      "[619]\tvalid_0's multi_logloss: 0.521687\n",
      "[620]\tvalid_0's multi_logloss: 0.521677\n",
      "[621]\tvalid_0's multi_logloss: 0.521665\n",
      "[622]\tvalid_0's multi_logloss: 0.521648\n",
      "[623]\tvalid_0's multi_logloss: 0.52163\n",
      "[624]\tvalid_0's multi_logloss: 0.521612\n",
      "[625]\tvalid_0's multi_logloss: 0.521594\n",
      "[626]\tvalid_0's multi_logloss: 0.521576\n",
      "[627]\tvalid_0's multi_logloss: 0.52156\n",
      "[628]\tvalid_0's multi_logloss: 0.521547\n",
      "[629]\tvalid_0's multi_logloss: 0.521539\n",
      "[630]\tvalid_0's multi_logloss: 0.521528\n",
      "[631]\tvalid_0's multi_logloss: 0.521507\n",
      "[632]\tvalid_0's multi_logloss: 0.521493\n",
      "[633]\tvalid_0's multi_logloss: 0.521477\n",
      "[634]\tvalid_0's multi_logloss: 0.521466\n",
      "[635]\tvalid_0's multi_logloss: 0.521453\n",
      "[636]\tvalid_0's multi_logloss: 0.521437\n",
      "[637]\tvalid_0's multi_logloss: 0.521421\n",
      "[638]\tvalid_0's multi_logloss: 0.521408\n",
      "[639]\tvalid_0's multi_logloss: 0.521396\n",
      "[640]\tvalid_0's multi_logloss: 0.521381\n",
      "[641]\tvalid_0's multi_logloss: 0.521368\n",
      "[642]\tvalid_0's multi_logloss: 0.521354\n",
      "[643]\tvalid_0's multi_logloss: 0.521339\n",
      "[644]\tvalid_0's multi_logloss: 0.521329\n",
      "[645]\tvalid_0's multi_logloss: 0.521319\n",
      "[646]\tvalid_0's multi_logloss: 0.521301\n",
      "[647]\tvalid_0's multi_logloss: 0.521291\n",
      "[648]\tvalid_0's multi_logloss: 0.521284\n",
      "[649]\tvalid_0's multi_logloss: 0.52127\n",
      "[650]\tvalid_0's multi_logloss: 0.521255\n",
      "[651]\tvalid_0's multi_logloss: 0.521241\n",
      "[652]\tvalid_0's multi_logloss: 0.521229\n",
      "[653]\tvalid_0's multi_logloss: 0.521219\n",
      "[654]\tvalid_0's multi_logloss: 0.521206\n",
      "[655]\tvalid_0's multi_logloss: 0.521188\n",
      "[656]\tvalid_0's multi_logloss: 0.521178\n",
      "[657]\tvalid_0's multi_logloss: 0.521163\n",
      "[658]\tvalid_0's multi_logloss: 0.521148\n",
      "[659]\tvalid_0's multi_logloss: 0.521137\n",
      "[660]\tvalid_0's multi_logloss: 0.521122\n",
      "[661]\tvalid_0's multi_logloss: 0.521114\n",
      "[662]\tvalid_0's multi_logloss: 0.521103\n",
      "[663]\tvalid_0's multi_logloss: 0.521089\n",
      "[664]\tvalid_0's multi_logloss: 0.521077\n",
      "[665]\tvalid_0's multi_logloss: 0.521066\n",
      "[666]\tvalid_0's multi_logloss: 0.521054\n",
      "[667]\tvalid_0's multi_logloss: 0.521042\n",
      "[668]\tvalid_0's multi_logloss: 0.521028\n",
      "[669]\tvalid_0's multi_logloss: 0.521022\n",
      "[670]\tvalid_0's multi_logloss: 0.521009\n",
      "[671]\tvalid_0's multi_logloss: 0.520994\n",
      "[672]\tvalid_0's multi_logloss: 0.520981\n",
      "[673]\tvalid_0's multi_logloss: 0.520973\n",
      "[674]\tvalid_0's multi_logloss: 0.520958\n",
      "[675]\tvalid_0's multi_logloss: 0.520948\n",
      "[676]\tvalid_0's multi_logloss: 0.520929\n",
      "[677]\tvalid_0's multi_logloss: 0.520919\n",
      "[678]\tvalid_0's multi_logloss: 0.520905\n",
      "[679]\tvalid_0's multi_logloss: 0.520892\n",
      "[680]\tvalid_0's multi_logloss: 0.520878\n",
      "[681]\tvalid_0's multi_logloss: 0.520867\n",
      "[682]\tvalid_0's multi_logloss: 0.520856\n",
      "[683]\tvalid_0's multi_logloss: 0.520846\n",
      "[684]\tvalid_0's multi_logloss: 0.520838\n",
      "[685]\tvalid_0's multi_logloss: 0.520822\n",
      "[686]\tvalid_0's multi_logloss: 0.520809\n",
      "[687]\tvalid_0's multi_logloss: 0.5208\n",
      "[688]\tvalid_0's multi_logloss: 0.520789\n",
      "[689]\tvalid_0's multi_logloss: 0.520778\n",
      "[690]\tvalid_0's multi_logloss: 0.52076\n",
      "[691]\tvalid_0's multi_logloss: 0.52075\n",
      "[692]\tvalid_0's multi_logloss: 0.520743\n",
      "[693]\tvalid_0's multi_logloss: 0.52073\n",
      "[694]\tvalid_0's multi_logloss: 0.520721\n",
      "[695]\tvalid_0's multi_logloss: 0.520706\n",
      "[696]\tvalid_0's multi_logloss: 0.520695\n",
      "[697]\tvalid_0's multi_logloss: 0.520684\n",
      "[698]\tvalid_0's multi_logloss: 0.520671\n",
      "[699]\tvalid_0's multi_logloss: 0.52066\n",
      "[700]\tvalid_0's multi_logloss: 0.520648\n",
      "[701]\tvalid_0's multi_logloss: 0.520638\n",
      "[702]\tvalid_0's multi_logloss: 0.52063\n",
      "[703]\tvalid_0's multi_logloss: 0.520614\n",
      "[704]\tvalid_0's multi_logloss: 0.520605\n",
      "[705]\tvalid_0's multi_logloss: 0.520595\n",
      "[706]\tvalid_0's multi_logloss: 0.520582\n",
      "[707]\tvalid_0's multi_logloss: 0.520566\n",
      "[708]\tvalid_0's multi_logloss: 0.520554\n",
      "[709]\tvalid_0's multi_logloss: 0.520542\n",
      "[710]\tvalid_0's multi_logloss: 0.520532\n",
      "[711]\tvalid_0's multi_logloss: 0.520524\n",
      "[712]\tvalid_0's multi_logloss: 0.520511\n",
      "[713]\tvalid_0's multi_logloss: 0.5205\n",
      "[714]\tvalid_0's multi_logloss: 0.520486\n",
      "[715]\tvalid_0's multi_logloss: 0.520475\n",
      "[716]\tvalid_0's multi_logloss: 0.520467\n",
      "[717]\tvalid_0's multi_logloss: 0.520457\n",
      "[718]\tvalid_0's multi_logloss: 0.520443\n",
      "[719]\tvalid_0's multi_logloss: 0.520427\n",
      "[720]\tvalid_0's multi_logloss: 0.520416\n",
      "[721]\tvalid_0's multi_logloss: 0.520408\n",
      "[722]\tvalid_0's multi_logloss: 0.520399\n",
      "[723]\tvalid_0's multi_logloss: 0.520389\n",
      "[724]\tvalid_0's multi_logloss: 0.520374\n",
      "[725]\tvalid_0's multi_logloss: 0.520367\n",
      "[726]\tvalid_0's multi_logloss: 0.520358\n",
      "[727]\tvalid_0's multi_logloss: 0.520351\n",
      "[728]\tvalid_0's multi_logloss: 0.520337\n",
      "[729]\tvalid_0's multi_logloss: 0.520326\n",
      "[730]\tvalid_0's multi_logloss: 0.520318\n",
      "[731]\tvalid_0's multi_logloss: 0.520308\n",
      "[732]\tvalid_0's multi_logloss: 0.5203\n",
      "[733]\tvalid_0's multi_logloss: 0.520289\n",
      "[734]\tvalid_0's multi_logloss: 0.520285\n",
      "[735]\tvalid_0's multi_logloss: 0.520279\n",
      "[736]\tvalid_0's multi_logloss: 0.520267\n",
      "[737]\tvalid_0's multi_logloss: 0.520255\n",
      "[738]\tvalid_0's multi_logloss: 0.520249\n",
      "[739]\tvalid_0's multi_logloss: 0.520239\n",
      "[740]\tvalid_0's multi_logloss: 0.520231\n",
      "[741]\tvalid_0's multi_logloss: 0.520215\n",
      "[742]\tvalid_0's multi_logloss: 0.520203\n",
      "[743]\tvalid_0's multi_logloss: 0.520192\n",
      "[744]\tvalid_0's multi_logloss: 0.52018\n",
      "[745]\tvalid_0's multi_logloss: 0.520171\n",
      "[746]\tvalid_0's multi_logloss: 0.520163\n",
      "[747]\tvalid_0's multi_logloss: 0.520151\n",
      "[748]\tvalid_0's multi_logloss: 0.520139\n",
      "[749]\tvalid_0's multi_logloss: 0.520131\n",
      "[750]\tvalid_0's multi_logloss: 0.520123\n",
      "[751]\tvalid_0's multi_logloss: 0.520117\n",
      "[752]\tvalid_0's multi_logloss: 0.520107\n",
      "[753]\tvalid_0's multi_logloss: 0.520093\n",
      "[754]\tvalid_0's multi_logloss: 0.520086\n",
      "[755]\tvalid_0's multi_logloss: 0.520075\n",
      "[756]\tvalid_0's multi_logloss: 0.520066\n",
      "[757]\tvalid_0's multi_logloss: 0.520057\n",
      "[758]\tvalid_0's multi_logloss: 0.520051\n",
      "[759]\tvalid_0's multi_logloss: 0.520043\n",
      "[760]\tvalid_0's multi_logloss: 0.520034\n",
      "[761]\tvalid_0's multi_logloss: 0.520023\n",
      "[762]\tvalid_0's multi_logloss: 0.520015\n",
      "[763]\tvalid_0's multi_logloss: 0.520009\n",
      "[764]\tvalid_0's multi_logloss: 0.52\n",
      "[765]\tvalid_0's multi_logloss: 0.519986\n",
      "[766]\tvalid_0's multi_logloss: 0.51998\n",
      "[767]\tvalid_0's multi_logloss: 0.519969\n",
      "[768]\tvalid_0's multi_logloss: 0.51996\n",
      "[769]\tvalid_0's multi_logloss: 0.519956\n",
      "[770]\tvalid_0's multi_logloss: 0.519945\n",
      "[771]\tvalid_0's multi_logloss: 0.519936\n",
      "[772]\tvalid_0's multi_logloss: 0.519929\n",
      "[773]\tvalid_0's multi_logloss: 0.519925\n",
      "[774]\tvalid_0's multi_logloss: 0.519921\n",
      "[775]\tvalid_0's multi_logloss: 0.519914\n",
      "[776]\tvalid_0's multi_logloss: 0.519906\n",
      "[777]\tvalid_0's multi_logloss: 0.519899\n",
      "[778]\tvalid_0's multi_logloss: 0.519886\n",
      "[779]\tvalid_0's multi_logloss: 0.519882\n",
      "[780]\tvalid_0's multi_logloss: 0.519879\n",
      "[781]\tvalid_0's multi_logloss: 0.519873\n",
      "[782]\tvalid_0's multi_logloss: 0.51986\n",
      "[783]\tvalid_0's multi_logloss: 0.519856\n",
      "[784]\tvalid_0's multi_logloss: 0.519849\n",
      "[785]\tvalid_0's multi_logloss: 0.519842\n",
      "[786]\tvalid_0's multi_logloss: 0.519834\n",
      "[787]\tvalid_0's multi_logloss: 0.519829\n",
      "[788]\tvalid_0's multi_logloss: 0.519816\n",
      "[789]\tvalid_0's multi_logloss: 0.519808\n",
      "[790]\tvalid_0's multi_logloss: 0.519798\n",
      "[791]\tvalid_0's multi_logloss: 0.519789\n",
      "[792]\tvalid_0's multi_logloss: 0.519778\n",
      "[793]\tvalid_0's multi_logloss: 0.519768\n",
      "[794]\tvalid_0's multi_logloss: 0.519763\n",
      "[795]\tvalid_0's multi_logloss: 0.519756\n",
      "[796]\tvalid_0's multi_logloss: 0.519747\n",
      "[797]\tvalid_0's multi_logloss: 0.519741\n",
      "[798]\tvalid_0's multi_logloss: 0.519737\n",
      "[799]\tvalid_0's multi_logloss: 0.519726\n",
      "[800]\tvalid_0's multi_logloss: 0.519721\n",
      "[801]\tvalid_0's multi_logloss: 0.519717\n",
      "[802]\tvalid_0's multi_logloss: 0.519709\n",
      "[803]\tvalid_0's multi_logloss: 0.519704\n",
      "[804]\tvalid_0's multi_logloss: 0.519699\n",
      "[805]\tvalid_0's multi_logloss: 0.519689\n",
      "[806]\tvalid_0's multi_logloss: 0.519681\n",
      "[807]\tvalid_0's multi_logloss: 0.51967\n",
      "[808]\tvalid_0's multi_logloss: 0.519665\n",
      "[809]\tvalid_0's multi_logloss: 0.51966\n",
      "[810]\tvalid_0's multi_logloss: 0.519648\n",
      "[811]\tvalid_0's multi_logloss: 0.519643\n",
      "[812]\tvalid_0's multi_logloss: 0.519631\n",
      "[813]\tvalid_0's multi_logloss: 0.519627\n",
      "[814]\tvalid_0's multi_logloss: 0.519621\n",
      "[815]\tvalid_0's multi_logloss: 0.519616\n",
      "[816]\tvalid_0's multi_logloss: 0.519608\n",
      "[817]\tvalid_0's multi_logloss: 0.5196\n",
      "[818]\tvalid_0's multi_logloss: 0.519591\n",
      "[819]\tvalid_0's multi_logloss: 0.519586\n",
      "[820]\tvalid_0's multi_logloss: 0.519581\n",
      "[821]\tvalid_0's multi_logloss: 0.519574\n",
      "[822]\tvalid_0's multi_logloss: 0.519566\n",
      "[823]\tvalid_0's multi_logloss: 0.519557\n",
      "[824]\tvalid_0's multi_logloss: 0.519554\n",
      "[825]\tvalid_0's multi_logloss: 0.519545\n",
      "[826]\tvalid_0's multi_logloss: 0.519538\n",
      "[827]\tvalid_0's multi_logloss: 0.519533\n",
      "[828]\tvalid_0's multi_logloss: 0.519529\n",
      "[829]\tvalid_0's multi_logloss: 0.519522\n",
      "[830]\tvalid_0's multi_logloss: 0.519515\n",
      "[831]\tvalid_0's multi_logloss: 0.51951\n",
      "[832]\tvalid_0's multi_logloss: 0.519501\n",
      "[833]\tvalid_0's multi_logloss: 0.519499\n",
      "[834]\tvalid_0's multi_logloss: 0.519492\n",
      "[835]\tvalid_0's multi_logloss: 0.519485\n",
      "[836]\tvalid_0's multi_logloss: 0.519481\n",
      "[837]\tvalid_0's multi_logloss: 0.519474\n",
      "[838]\tvalid_0's multi_logloss: 0.519474\n",
      "[839]\tvalid_0's multi_logloss: 0.519467\n",
      "[840]\tvalid_0's multi_logloss: 0.519461\n",
      "[841]\tvalid_0's multi_logloss: 0.519453\n",
      "[842]\tvalid_0's multi_logloss: 0.519448\n",
      "[843]\tvalid_0's multi_logloss: 0.519444\n",
      "[844]\tvalid_0's multi_logloss: 0.519442\n",
      "[845]\tvalid_0's multi_logloss: 0.519438\n",
      "[846]\tvalid_0's multi_logloss: 0.51943\n",
      "[847]\tvalid_0's multi_logloss: 0.519426\n",
      "[848]\tvalid_0's multi_logloss: 0.51942\n",
      "[849]\tvalid_0's multi_logloss: 0.519415\n",
      "[850]\tvalid_0's multi_logloss: 0.519408\n",
      "[851]\tvalid_0's multi_logloss: 0.519403\n",
      "[852]\tvalid_0's multi_logloss: 0.519399\n",
      "[853]\tvalid_0's multi_logloss: 0.519393\n",
      "[854]\tvalid_0's multi_logloss: 0.519389\n",
      "[855]\tvalid_0's multi_logloss: 0.519381\n",
      "[856]\tvalid_0's multi_logloss: 0.519378\n",
      "[857]\tvalid_0's multi_logloss: 0.519373\n",
      "[858]\tvalid_0's multi_logloss: 0.519367\n",
      "[859]\tvalid_0's multi_logloss: 0.519359\n",
      "[860]\tvalid_0's multi_logloss: 0.519357\n",
      "[861]\tvalid_0's multi_logloss: 0.519354\n",
      "[862]\tvalid_0's multi_logloss: 0.519351\n",
      "[863]\tvalid_0's multi_logloss: 0.519347\n",
      "[864]\tvalid_0's multi_logloss: 0.519343\n",
      "[865]\tvalid_0's multi_logloss: 0.51934\n",
      "[866]\tvalid_0's multi_logloss: 0.519333\n",
      "[867]\tvalid_0's multi_logloss: 0.519324\n",
      "[868]\tvalid_0's multi_logloss: 0.51932\n",
      "[869]\tvalid_0's multi_logloss: 0.519317\n",
      "[870]\tvalid_0's multi_logloss: 0.519314\n",
      "[871]\tvalid_0's multi_logloss: 0.519309\n",
      "[872]\tvalid_0's multi_logloss: 0.519301\n",
      "[873]\tvalid_0's multi_logloss: 0.519298\n",
      "[874]\tvalid_0's multi_logloss: 0.519293\n",
      "[875]\tvalid_0's multi_logloss: 0.519288\n",
      "[876]\tvalid_0's multi_logloss: 0.519282\n",
      "[877]\tvalid_0's multi_logloss: 0.519277\n",
      "[878]\tvalid_0's multi_logloss: 0.519268\n",
      "[879]\tvalid_0's multi_logloss: 0.519265\n",
      "[880]\tvalid_0's multi_logloss: 0.51926\n",
      "[881]\tvalid_0's multi_logloss: 0.519256\n",
      "[882]\tvalid_0's multi_logloss: 0.519249\n",
      "[883]\tvalid_0's multi_logloss: 0.519248\n",
      "[884]\tvalid_0's multi_logloss: 0.51924\n",
      "[885]\tvalid_0's multi_logloss: 0.51923\n",
      "[886]\tvalid_0's multi_logloss: 0.519229\n",
      "[887]\tvalid_0's multi_logloss: 0.519224\n",
      "[888]\tvalid_0's multi_logloss: 0.51922\n",
      "[889]\tvalid_0's multi_logloss: 0.519215\n",
      "[890]\tvalid_0's multi_logloss: 0.519212\n",
      "[891]\tvalid_0's multi_logloss: 0.519208\n",
      "[892]\tvalid_0's multi_logloss: 0.519203\n",
      "[893]\tvalid_0's multi_logloss: 0.519197\n",
      "[894]\tvalid_0's multi_logloss: 0.519193\n",
      "[895]\tvalid_0's multi_logloss: 0.519187\n",
      "[896]\tvalid_0's multi_logloss: 0.51918\n",
      "[897]\tvalid_0's multi_logloss: 0.519178\n",
      "[898]\tvalid_0's multi_logloss: 0.51917\n",
      "[899]\tvalid_0's multi_logloss: 0.519167\n",
      "[900]\tvalid_0's multi_logloss: 0.519163\n",
      "[901]\tvalid_0's multi_logloss: 0.519154\n",
      "[902]\tvalid_0's multi_logloss: 0.519152\n",
      "[903]\tvalid_0's multi_logloss: 0.519147\n",
      "[904]\tvalid_0's multi_logloss: 0.51914\n",
      "[905]\tvalid_0's multi_logloss: 0.519136\n",
      "[906]\tvalid_0's multi_logloss: 0.519127\n",
      "[907]\tvalid_0's multi_logloss: 0.519123\n",
      "[908]\tvalid_0's multi_logloss: 0.519117\n",
      "[909]\tvalid_0's multi_logloss: 0.519116\n",
      "[910]\tvalid_0's multi_logloss: 0.519113\n",
      "[911]\tvalid_0's multi_logloss: 0.519108\n",
      "[912]\tvalid_0's multi_logloss: 0.519103\n",
      "[913]\tvalid_0's multi_logloss: 0.5191\n",
      "[914]\tvalid_0's multi_logloss: 0.519093\n",
      "[915]\tvalid_0's multi_logloss: 0.519092\n",
      "[916]\tvalid_0's multi_logloss: 0.519087\n",
      "[917]\tvalid_0's multi_logloss: 0.519081\n",
      "[918]\tvalid_0's multi_logloss: 0.519079\n",
      "[919]\tvalid_0's multi_logloss: 0.519071\n",
      "[920]\tvalid_0's multi_logloss: 0.519068\n",
      "[921]\tvalid_0's multi_logloss: 0.519058\n",
      "[922]\tvalid_0's multi_logloss: 0.519054\n",
      "[923]\tvalid_0's multi_logloss: 0.519052\n",
      "[924]\tvalid_0's multi_logloss: 0.519045\n",
      "[925]\tvalid_0's multi_logloss: 0.519042\n",
      "[926]\tvalid_0's multi_logloss: 0.519039\n",
      "[927]\tvalid_0's multi_logloss: 0.519033\n",
      "[928]\tvalid_0's multi_logloss: 0.51903\n",
      "[929]\tvalid_0's multi_logloss: 0.519025\n",
      "[930]\tvalid_0's multi_logloss: 0.519018\n",
      "[931]\tvalid_0's multi_logloss: 0.519013\n",
      "[932]\tvalid_0's multi_logloss: 0.519009\n",
      "[933]\tvalid_0's multi_logloss: 0.519003\n",
      "[934]\tvalid_0's multi_logloss: 0.519002\n",
      "[935]\tvalid_0's multi_logloss: 0.518996\n",
      "[936]\tvalid_0's multi_logloss: 0.518992\n",
      "[937]\tvalid_0's multi_logloss: 0.518991\n",
      "[938]\tvalid_0's multi_logloss: 0.518986\n",
      "[939]\tvalid_0's multi_logloss: 0.518984\n",
      "[940]\tvalid_0's multi_logloss: 0.51898\n",
      "[941]\tvalid_0's multi_logloss: 0.518978\n",
      "[942]\tvalid_0's multi_logloss: 0.518972\n",
      "[943]\tvalid_0's multi_logloss: 0.518965\n",
      "[944]\tvalid_0's multi_logloss: 0.518964\n",
      "[945]\tvalid_0's multi_logloss: 0.518963\n",
      "[946]\tvalid_0's multi_logloss: 0.518958\n",
      "[947]\tvalid_0's multi_logloss: 0.518954\n",
      "[948]\tvalid_0's multi_logloss: 0.518947\n",
      "[949]\tvalid_0's multi_logloss: 0.518939\n",
      "[950]\tvalid_0's multi_logloss: 0.518932\n",
      "[951]\tvalid_0's multi_logloss: 0.518929\n",
      "[952]\tvalid_0's multi_logloss: 0.518925\n",
      "[953]\tvalid_0's multi_logloss: 0.518922\n",
      "[954]\tvalid_0's multi_logloss: 0.518915\n",
      "[955]\tvalid_0's multi_logloss: 0.518908\n",
      "[956]\tvalid_0's multi_logloss: 0.518904\n",
      "[957]\tvalid_0's multi_logloss: 0.518901\n",
      "[958]\tvalid_0's multi_logloss: 0.5189\n",
      "[959]\tvalid_0's multi_logloss: 0.518897\n",
      "[960]\tvalid_0's multi_logloss: 0.51889\n",
      "[961]\tvalid_0's multi_logloss: 0.518885\n",
      "[962]\tvalid_0's multi_logloss: 0.518885\n",
      "[963]\tvalid_0's multi_logloss: 0.518881\n",
      "[964]\tvalid_0's multi_logloss: 0.518873\n",
      "[965]\tvalid_0's multi_logloss: 0.518869\n",
      "[966]\tvalid_0's multi_logloss: 0.518867\n",
      "[967]\tvalid_0's multi_logloss: 0.518866\n",
      "[968]\tvalid_0's multi_logloss: 0.518861\n",
      "[969]\tvalid_0's multi_logloss: 0.51886\n",
      "[970]\tvalid_0's multi_logloss: 0.518857\n",
      "[971]\tvalid_0's multi_logloss: 0.518851\n",
      "[972]\tvalid_0's multi_logloss: 0.518842\n",
      "[973]\tvalid_0's multi_logloss: 0.518838\n",
      "[974]\tvalid_0's multi_logloss: 0.518837\n",
      "[975]\tvalid_0's multi_logloss: 0.518833\n",
      "[976]\tvalid_0's multi_logloss: 0.518829\n",
      "[977]\tvalid_0's multi_logloss: 0.518822\n",
      "[978]\tvalid_0's multi_logloss: 0.518816\n",
      "[979]\tvalid_0's multi_logloss: 0.518812\n",
      "[980]\tvalid_0's multi_logloss: 0.518803\n",
      "[981]\tvalid_0's multi_logloss: 0.518798\n",
      "[982]\tvalid_0's multi_logloss: 0.518795\n",
      "[983]\tvalid_0's multi_logloss: 0.518794\n",
      "[984]\tvalid_0's multi_logloss: 0.518789\n",
      "[985]\tvalid_0's multi_logloss: 0.518785\n",
      "[986]\tvalid_0's multi_logloss: 0.518779\n",
      "[987]\tvalid_0's multi_logloss: 0.518771\n",
      "[988]\tvalid_0's multi_logloss: 0.518768\n",
      "[989]\tvalid_0's multi_logloss: 0.518765\n",
      "[990]\tvalid_0's multi_logloss: 0.518763\n",
      "[991]\tvalid_0's multi_logloss: 0.518761\n",
      "[992]\tvalid_0's multi_logloss: 0.518759\n",
      "[993]\tvalid_0's multi_logloss: 0.51875\n",
      "[994]\tvalid_0's multi_logloss: 0.518747\n",
      "[995]\tvalid_0's multi_logloss: 0.518739\n",
      "[996]\tvalid_0's multi_logloss: 0.518738\n",
      "[997]\tvalid_0's multi_logloss: 0.518733\n",
      "[998]\tvalid_0's multi_logloss: 0.51873\n",
      "[999]\tvalid_0's multi_logloss: 0.518729\n",
      "[1000]\tvalid_0's multi_logloss: 0.518723\n",
      "LGBMClassifier(bagging_fraction=0.7, early_stopping_round=10,\n",
      "               eval_metric='f1_micro', learning_rate=0.01, max_depth=20,\n",
      "               min_data_in_leaf=10, n_estimators=1000, objective='multiclass',\n",
      "               random_state=1995)\n",
      "Time fit: 72.04534912109375s\n",
      "Score:0.7600170546601859\n"
     ]
    }
   ],
   "source": [
    "# Hyperparameter Grid\n",
    "# ==============================================================================\n",
    "param_grid = {'n_estimators': [1000] ,\n",
    "              'max_depth'   : [15,20,25],\n",
    "              'learning_rate' : [0.01,0.005,0.001]\n",
    "             }\n",
    "\n",
    "# Grid serach CV \n",
    "# ==============================================================================\n",
    "gridLGBM = GridSearchCV(\n",
    "        estimator  = LGBMClassifier( \n",
    "                                    n_jobs =-1,  \n",
    "                                    objective='multiclass',\n",
    "                                    random_state=1995,\n",
    "                                    min_data_in_leaf = 10,\n",
    "                                    min_child_samples = 5,\n",
    "                                    early_stopping_round = 10,\n",
    "                                    bagging_fraction = 0.7 ),\n",
    "        param_grid = param_grid,\n",
    "        scoring    = 'f1_micro',\n",
    "        cv         = RepeatedKFold(n_splits=5, n_repeats=3, random_state=1995),\n",
    "        refit      = True,\n",
    "        n_jobs     = -1,\n",
    "        verbose    = 0,\n",
    "        return_train_score = True)\n",
    "\n",
    "gridLGBM.fit(X = X_train, y = y_train, eval_set = (X_test, y_test))\n",
    "\n",
    "\n",
    "print(gridLGBM.best_estimator_)\n",
    "print(f\"Time fit: {gridLGBM.refit_time_}s\")\n",
    "print(f\"Score:{ gridLGBM.best_score_ }\")"
   ]
  },
  {
   "cell_type": "code",
   "execution_count": 78,
   "metadata": {},
   "outputs": [
    {
     "name": "stdout",
     "output_type": "stream",
     "text": [
      "Fitting 15 folds for each of 9 candidates, totalling 135 fits\n"
     ]
    }
   ],
   "source": [
    "# Hyperparameter Grid\n",
    "# ==============================================================================\n",
    "param_grid = {\n",
    "              'num_leaves' : [40,60,80],\n",
    "              'max_bin' : [100,200,300]\n",
    "             }\n",
    "\n",
    "# Grid serach CV \n",
    "# ==============================================================================\n",
    "gridLGBM = GridSearchCV(\n",
    "        estimator  = LGBMClassifier( learning_rate = 0.01,\n",
    "                                    num_iterations = 10000,\n",
    "                                    max_depth = 20,\n",
    "                                    n_estimators = 1000,\n",
    "                                    n_jobs =-1,  \n",
    "                                    objective='multiclass',\n",
    "                                    random_state=1995,\n",
    "                                    min_data_in_leaf = 10,\n",
    "                                    min_child_samples = 5,\n",
    "                                    early_stopping_round = 10,\n",
    "                                    bagging_fraction = 0.7 ),\n",
    "        param_grid = param_grid,\n",
    "        scoring    = 'f1_micro',\n",
    "        cv         = RepeatedKFold(n_splits=5, n_repeats=3, random_state=1995),\n",
    "        refit      = True,\n",
    "        n_jobs     = -1,\n",
    "        verbose    = 3,\n",
    "        return_train_score = True)\n",
    "\n",
    "gridLGBM.fit(X = X_train, y = y_train, eval_set = (X_test, y_test))\n",
    "\n",
    "\n",
    "print(gridLGBM.best_estimator_)\n",
    "print(f\"Time fit: {gridLGBM.refit_time_}s\")\n",
    "print(f\"Score:{ gridLGBM.best_score_ }\")"
   ]
  },
  {
   "cell_type": "code",
   "execution_count": 73,
   "metadata": {},
   "outputs": [
    {
     "data": {
      "text/plain": [
       "LGBMClassifier(boosting='gbdt', learning_rate=0.005, max_depth=25,\n",
       "               min_data_in_leaf=10, n_estimators=5000, objective='multiclass',\n",
       "               random_state=1995)"
      ]
     },
     "execution_count": 73,
     "metadata": {},
     "output_type": "execute_result"
    }
   ],
   "source": [
    "modelLGBM = LGBMClassifier(learning_rate=0.01,  \n",
    "                            n_jobs =-1,  \n",
    "                            n_estimators= 1000 ,\n",
    "                            max_depth   = 20,\n",
    "                            num_leaves = 80,\n",
    "                            boosting   = 'gbdt',\n",
    "                            objective='multiclass',\n",
    "                            random_state=1995,\n",
    "                            min_data_in_leaf = 10)\n",
    "modelLGBM.fit(X = X_train, y = y_train)"
   ]
  },
  {
   "cell_type": "code",
   "execution_count": 75,
   "metadata": {},
   "outputs": [],
   "source": [
    "test_copy = test.copy().drop(['CntFloorAge' , 'CntFloorsArea' , 'CntFloorsHeight' , 'AreaPerAge' , 'HeightPerAge' , 'AreaPerHeight' , 'CntFamFloors' ,  'CntFamArea' ,  'CntFamHeight'], axis=1)\n",
    "prediccionesLGBM = modelLGBM.predict(test_copy.drop('building_id',axis=1))\n",
    "test_copy['damage_grade'] = prediccionesLGBM\n",
    "test_copy[['building_id','damage_grade']].to_csv(\"../predictions/predLGBMModel3.csv\", index = False)"
   ]
  },
  {
   "cell_type": "markdown",
   "metadata": {},
   "source": [
    "## Chapter 5: Choosing best model, version management and reproducibility"
   ]
  },
  {
   "cell_type": "markdown",
   "metadata": {},
   "source": [
    "Ahora tenemos dos opciones, elegir la opción con mejor f1 score y por tanto la más capacidad de acierto tiene o podemos optar por la opción más interpretable. Debido a que el f1 score es \"similar\" para ambos modelos y que para un entorno real siempre tenemos que optar por una buena reproducibilidad y explicatividad. Además, tiene que tener un buen performance, ya que tiempos prolongados de ejecución podrían perjudicar la aplicacion en un entorno de producción.\n",
    "\n",
    "Vamos a hacer una breve comparativa de tiempos de entrenamiento y predicción, scores y parámetros básicos para ver ambos modelos en funcionamiento. Y así poder elegir el mejor modelo para un entorno de producción."
   ]
  },
  {
   "cell_type": "code",
   "execution_count": null,
   "metadata": {},
   "outputs": [],
   "source": [
    "seed = 1995\n",
    "lr_model = LogisticRegression(C=0.1, max_iter=200, random_state=seed)\n",
    "lgbm_model = LGBMClassifier(learning_rate=0.01, n_estimators=425, num_leaves=135,objective='multiclass', random_state=seed)\n",
    "#LR\n",
    "a = time.time()\n",
    "lr_model.fit(X_train, y_train)\n",
    "b = time.time()\n",
    "#LGBM\n",
    "c = time.time()\n",
    "lgbm_model.fit(X_train, y_train)\n",
    "d = time.time()\n",
    "\n",
    "print(f\"El modelo \\n\\t{lr_model}\\n\\t ha tardado en entrenar: {round(b-a,2)}s \\n- - - - - - - - - - - \\nEl modelo {lgbm_model} ha tardado en entrenar: {round(d-c,2)}s\\n- - - - - - - - - - - \\n\\\n",
    "    Esto significa que el modelo más rápido es {'Regresión logistica' if (b-a) < (d-c) else 'LGBM' }\")"
   ]
  },
  {
   "cell_type": "code",
   "execution_count": null,
   "metadata": {},
   "outputs": [],
   "source": [
    "seed = 1995\n",
    "models = []\n",
    "models.append(('LR'     , LogisticRegression(random_state=seed)))\n",
    "models.append(('LR Hy'  , lr_model ))\n",
    "models.append(('LGBM'   , LGBMClassifier(random_state=seed)))\n",
    "models.append(('LGBM Hy', lgbm_model ))\n",
    "\n",
    "X = df.drop(columns = [target])\n",
    "y = df[target]\n",
    "\n",
    "\n",
    "\n",
    "rskf = RepeatedStratifiedKFold(n_splits=4, n_repeats=4,random_state=seed)\n",
    "\n",
    "results = []\n",
    "names = []\n",
    "metric = 'f1_micro'\n",
    "\n",
    "for name, model in models:\n",
    "    print(name)\n",
    "    itera = 0\n",
    "    a = time.time()\n",
    "    result = []\n",
    "    for train_index, test_index in rskf.split(X, y):\n",
    "        \n",
    "        X_train, X_test = X.iloc[train_index], X.iloc[test_index]\n",
    "        y_train, y_test = y.iloc[train_index], y.iloc[test_index]\n",
    "        c = time.time()\n",
    "        cv_results = cross_val_score(model, X_train, y_train, cv = 5 , scoring = metric)\n",
    "        d = time.time()\n",
    "        msg = \"Iteracion_%s: %f (%f)  %fs\" % (itera+1, cv_results.mean(), cv_results.std(), round(d-c,2))\n",
    "        print(msg)\n",
    "\n",
    "        result.append(cv_results)\n",
    "        itera += 1\n",
    "\n",
    "    result = flatten(result)\n",
    "    results.append(result)\n",
    "    b = time.time()\n",
    "    msg = \"\\t %s: %f (%f)  %fs\" % (name, np.array(result).mean(), np.array(result).std(), {round(b-a , 2))\n",
    "    print(\"\\t ... \\n Results:\" )\n",
    "    print(msg)\n",
    "    \n",
    "    print(\"\\t - - - - - - - - -\")\n",
    "    names.append(name)\n"
   ]
  },
  {
   "cell_type": "code",
   "execution_count": null,
   "metadata": {},
   "outputs": [],
   "source": [
    "boxplots_algorithms(results, names)"
   ]
  },
  {
   "cell_type": "markdown",
   "metadata": {},
   "source": [
    "Podemos ver fácilmente como los modelos que hemos tuneado los hyperparametros tienen un mejor resultado, ya que no solo tienen una mejor puntuación media, si no que además la desviación típica de la puntuación es más baja también. Sin embargo, vemos como al hyperparametrizar el tiempo de entrenamiento ha aumentado considerablemente, algo que podría ser en algunos casos determinante."
   ]
  },
  {
   "cell_type": "markdown",
   "metadata": {},
   "source": [
    "## Chapter 6: Preparing for production"
   ]
  },
  {
   "cell_type": "markdown",
   "metadata": {},
   "source": [
    "## Chapter 7: Deploying to production"
   ]
  },
  {
   "cell_type": "markdown",
   "metadata": {},
   "source": [
    "## Chapter 8: Conclusions"
   ]
  },
  {
   "cell_type": "markdown",
   "metadata": {},
   "source": [
    "# Bibliography"
   ]
  },
  {
   "cell_type": "markdown",
   "metadata": {},
   "source": [
    "    Treveil, M. & the Dataiku Team. (2020). Introducing MLOps (1.a ed., Vol. 1). O’Reilly."
   ]
  },
  {
   "cell_type": "markdown",
   "metadata": {},
   "source": [
    "    Zheng, A., & Casari, A. (2018). Feature Engineering for Machine Learning: Principles and Techniques for Data Scientists. O’Reilly Media."
   ]
  },
  {
   "cell_type": "markdown",
   "metadata": {},
   "source": [
    "    Hunter, J., Dale, D., Firing, E., Droettboom, M., & The Matplotlib development team. (2002-2021). Matplotlib. Matplotlib 3.5.1 documentation. \n",
    "    https://matplotlib.org/stable/index.html"
   ]
  },
  {
   "cell_type": "markdown",
   "metadata": {},
   "source": [
    "    scikit-learn: machine learning in Python — scikit-learn 1.0.2 documentation. (2021). Scikit-Learn. \n",
    "    https://scikit-learn.org/stable/\n"
   ]
  },
  {
   "cell_type": "markdown",
   "metadata": {},
   "source": [
    "    Wikipedia contributors. (2021, 12 septiembre). Out-of-bag error. Wikipedia. https://en.wikipedia.org/wiki/Out-of-bag_error"
   ]
  },
  {
   "cell_type": "markdown",
   "metadata": {},
   "source": [
    "    (2019). Richter’s Predictor: Modeling Earthquake Damage. DrivenData. https://www.drivendata.org/competitions/57/nepal-earthquake/page/136/"
   ]
  },
  {
   "cell_type": "markdown",
   "metadata": {},
   "source": [
    "    Wikipedia contributors. (2022, 16 enero). Random forest. Wikipedia. https://en.wikipedia.org/wiki/Random_forest"
   ]
  },
  {
   "cell_type": "markdown",
   "metadata": {},
   "source": [
    "     Cross-validation: evaluating estimator performance. (2021). Scikit-Learn. https://scikit-learn.org/stable/modules/cross_validation.html#cross-validation"
   ]
  },
  {
   "cell_type": "markdown",
   "metadata": {},
   "source": [
    "    GitHub - 21zhouyun/CountMinSketch: A simple python implementation of count min sketch. (2016). GitHub. https://github.com/21zhouyun/CountMinSketch"
   ]
  },
  {
   "cell_type": "code",
   "execution_count": null,
   "metadata": {},
   "outputs": [],
   "source": [
    "## Checkpoint\n",
    "#df.to_csv(\"../data/trainProb.csv\", index = False)\n",
    "#test.to_csv(\"../data/testProb.csv\", index = False)\n",
    "\n",
    "#dfOut.to_csv(\"../data/trainOutProb.csv\", index = False)\n",
    "#testOut.to_csv(\"../data/testOutProb.csv\", index = False)\n",
    "\n",
    "df = pd.read_csv(\"../data/trainProb.csv\")\n",
    "test = pd.read_csv(\"../data/testProb.csv\")\n",
    "\n",
    "#dfOut = pd.read_csv(\"../data/trainOutProb.csv\")\n",
    "#testOut = pd.read_csv(\"../data/testOutProb.csv\")"
   ]
  },
  {
   "cell_type": "code",
   "execution_count": null,
   "metadata": {},
   "outputs": [],
   "source": [
    "target = 'damage_grade' \n",
    "numeric = [\"area_percentage_pt\", \"height_percentage_pt\",'prob1_geo1','prob1_geo2','prob1_geo3','prob2_geo1','prob2_geo2','prob2_geo3','prob3_geo1','prob3_geo2','prob3_geo3']\n",
    "dummies = ['count_families_0','count_families_1','count_families_2',\n",
    "                'count_floors_pre_eq_1','count_floors_pre_eq_2',\n",
    "                'foundation_type_1', 'ground_floor_type_1',\n",
    "                'land_surface_condition_t','land_surface_condition_n',\n",
    "                'other_floor_type_j','other_floor_type_q', 'other_floor_type_x', \n",
    "                'position_s','position_t',\n",
    "                'roof_type_n','roof_type_q',\n",
    "                'clusters_0', 'clusters_1', 'clusters_2', 'clusters_3', 'clusters_4','clusters_5', 'clusters_6']\n",
    "\n",
    "binary = ['has_secondary_use',\n",
    "        'has_secondary_use_agriculture',\n",
    "        'has_superstructure_adobe_mud',\n",
    "        'has_superstructure_cement_mortar_brick',\n",
    "        'has_superstructure_mud_mortar_brick',\n",
    "        'has_superstructure_mud_mortar_stone',\n",
    "        'has_superstructure_timber']"
   ]
  }
 ],
 "metadata": {
  "interpreter": {
   "hash": "de072921dc87486613898b1ef56959cc98c50a630fb49de1898fb32d92a683cf"
  },
  "kernelspec": {
   "display_name": "Python 3.9.4 64-bit",
   "language": "python",
   "name": "python3"
  },
  "language_info": {
   "codemirror_mode": {
    "name": "ipython",
    "version": 3
   },
   "file_extension": ".py",
   "mimetype": "text/x-python",
   "name": "python",
   "nbconvert_exporter": "python",
   "pygments_lexer": "ipython3",
   "version": "3.9.4"
  },
  "orig_nbformat": 4
 },
 "nbformat": 4,
 "nbformat_minor": 2
}
